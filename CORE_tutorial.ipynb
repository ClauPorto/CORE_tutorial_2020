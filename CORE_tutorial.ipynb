{
 "cells": [
  {
   "cell_type": "markdown",
   "metadata": {},
   "source": [
    "# Exploratory text analysis tutorial\n",
    "\n",
    "This notebook contains code for the tutorial on \"Exploratory text analysis for computational social science.\"\n",
    "The following sections will be used throughout the tutorial.\n",
    "\n",
    "1. [Word frequency](#Word-frequency)\n",
    "2. [Topic modeling](#Topic-modeling)\n",
    "3. [Word embeddings](#Word-embeddings)"
   ]
  },
  {
   "cell_type": "markdown",
   "metadata": {},
   "source": [
    "# Word frequency\n",
    "\n",
    "First step in exploration: which words occur more frequently in one data set versus another?"
   ]
  },
  {
   "cell_type": "code",
   "execution_count": 105,
   "metadata": {
    "scrolled": true
   },
   "outputs": [
    {
     "data": {
      "text/html": [
       "<div>\n",
       "<style scoped>\n",
       "    .dataframe tbody tr th:only-of-type {\n",
       "        vertical-align: middle;\n",
       "    }\n",
       "\n",
       "    .dataframe tbody tr th {\n",
       "        vertical-align: top;\n",
       "    }\n",
       "\n",
       "    .dataframe thead th {\n",
       "        text-align: right;\n",
       "    }\n",
       "</style>\n",
       "<table border=\"1\" class=\"dataframe\">\n",
       "  <thead>\n",
       "    <tr style=\"text-align: right;\">\n",
       "      <th></th>\n",
       "      <th>title</th>\n",
       "      <th>text</th>\n",
       "      <th>topic</th>\n",
       "      <th>id</th>\n",
       "    </tr>\n",
       "  </thead>\n",
       "  <tbody>\n",
       "    <tr>\n",
       "      <th>69</th>\n",
       "      <td>Alex Jones Vindicated in \"Pizzagate\" Controversy</td>\n",
       "      <td>\"Alex Jones, purveyor of the independent inves...</td>\n",
       "      <td>biz</td>\n",
       "      <td>1</td>\n",
       "    </tr>\n",
       "    <tr>\n",
       "      <th>4</th>\n",
       "      <td>THE BIG DATA CONSPIRACY</td>\n",
       "      <td>so that in the no so far future can institute ...</td>\n",
       "      <td>biz</td>\n",
       "      <td>2</td>\n",
       "    </tr>\n",
       "    <tr>\n",
       "      <th>202</th>\n",
       "      <td>California Surprisingly Lenient on Auto Emissi...</td>\n",
       "      <td>Setting Up Face-Off With Trump \"California's c...</td>\n",
       "      <td>biz</td>\n",
       "      <td>3</td>\n",
       "    </tr>\n",
       "    <tr>\n",
       "      <th>138</th>\n",
       "      <td>Mexicans Are Chomping at the Bit to Stop NAFTA...</td>\n",
       "      <td>Mexico has been unfairly gaining from NAFTA as...</td>\n",
       "      <td>biz</td>\n",
       "      <td>4</td>\n",
       "    </tr>\n",
       "    <tr>\n",
       "      <th>181</th>\n",
       "      <td>Breaking News: Snapchat to purchase Twitter fo...</td>\n",
       "      <td>Yahoo and AOL could be extremely popular over ...</td>\n",
       "      <td>biz</td>\n",
       "      <td>5</td>\n",
       "    </tr>\n",
       "  </tbody>\n",
       "</table>\n",
       "</div>"
      ],
      "text/plain": [
       "                                                 title  \\\n",
       "69    Alex Jones Vindicated in \"Pizzagate\" Controversy   \n",
       "4                              THE BIG DATA CONSPIRACY   \n",
       "202  California Surprisingly Lenient on Auto Emissi...   \n",
       "138  Mexicans Are Chomping at the Bit to Stop NAFTA...   \n",
       "181  Breaking News: Snapchat to purchase Twitter fo...   \n",
       "\n",
       "                                                  text topic id  \n",
       "69   \"Alex Jones, purveyor of the independent inves...   biz  1  \n",
       "4    so that in the no so far future can institute ...   biz  2  \n",
       "202  Setting Up Face-Off With Trump \"California's c...   biz  3  \n",
       "138  Mexico has been unfairly gaining from NAFTA as...   biz  4  \n",
       "181  Yahoo and AOL could be extremely popular over ...   biz  5  "
      ]
     },
     "metadata": {},
     "output_type": "display_data"
    },
    {
     "data": {
      "text/html": [
       "<div>\n",
       "<style scoped>\n",
       "    .dataframe tbody tr th:only-of-type {\n",
       "        vertical-align: middle;\n",
       "    }\n",
       "\n",
       "    .dataframe tbody tr th {\n",
       "        vertical-align: top;\n",
       "    }\n",
       "\n",
       "    .dataframe thead th {\n",
       "        text-align: right;\n",
       "    }\n",
       "</style>\n",
       "<table border=\"1\" class=\"dataframe\">\n",
       "  <thead>\n",
       "    <tr style=\"text-align: right;\">\n",
       "      <th></th>\n",
       "      <th>title</th>\n",
       "      <th>text</th>\n",
       "      <th>topic</th>\n",
       "      <th>id</th>\n",
       "    </tr>\n",
       "  </thead>\n",
       "  <tbody>\n",
       "    <tr>\n",
       "      <th>0</th>\n",
       "      <td>Alex Jones Apologizes for Promoting 'Pizzagate...</td>\n",
       "      <td>Alex Jones  a prominent conspiracy theorist an...</td>\n",
       "      <td>biz</td>\n",
       "      <td>1</td>\n",
       "    </tr>\n",
       "    <tr>\n",
       "      <th>11</th>\n",
       "      <td>Banks and Tech Firms Battle Over Something Aki...</td>\n",
       "      <td>The big banks and Silicon Valley are waging an...</td>\n",
       "      <td>biz</td>\n",
       "      <td>2</td>\n",
       "    </tr>\n",
       "    <tr>\n",
       "      <th>4</th>\n",
       "      <td>California Upholds Auto Emissions Standards</td>\n",
       "      <td>Setting Up Face-Off With Trump  \"California's ...</td>\n",
       "      <td>biz</td>\n",
       "      <td>3</td>\n",
       "    </tr>\n",
       "    <tr>\n",
       "      <th>171</th>\n",
       "      <td>Renegotiate Nafta? Mexicans Say Get On With It</td>\n",
       "      <td>For more than two decades  free trade has been...</td>\n",
       "      <td>biz</td>\n",
       "      <td>4</td>\n",
       "    </tr>\n",
       "    <tr>\n",
       "      <th>168</th>\n",
       "      <td>Snapchat 'will be bigger than Twitter</td>\n",
       "      <td>Yahoo and AOL with advertisers'  \"Snapchat cou...</td>\n",
       "      <td>biz</td>\n",
       "      <td>5</td>\n",
       "    </tr>\n",
       "  </tbody>\n",
       "</table>\n",
       "</div>"
      ],
      "text/plain": [
       "                                                 title  \\\n",
       "0    Alex Jones Apologizes for Promoting 'Pizzagate...   \n",
       "11   Banks and Tech Firms Battle Over Something Aki...   \n",
       "4          California Upholds Auto Emissions Standards   \n",
       "171     Renegotiate Nafta? Mexicans Say Get On With It   \n",
       "168              Snapchat 'will be bigger than Twitter   \n",
       "\n",
       "                                                  text topic id  \n",
       "0    Alex Jones  a prominent conspiracy theorist an...   biz  1  \n",
       "11   The big banks and Silicon Valley are waging an...   biz  2  \n",
       "4    Setting Up Face-Off With Trump  \"California's ...   biz  3  \n",
       "171  For more than two decades  free trade has been...   biz  4  \n",
       "168  Yahoo and AOL with advertisers'  \"Snapchat cou...   biz  5  "
      ]
     },
     "metadata": {},
     "output_type": "display_data"
    },
    {
     "name": "stdout",
     "output_type": "stream",
     "text": [
      "240\n"
     ]
    }
   ],
   "source": [
    "## small fake news dataset\n",
    "import os\n",
    "import re\n",
    "import pandas as pd\n",
    "FILE_TOPIC_MATCHER = re.compile('^[a-z]+(?=[0-9])')\n",
    "FILE_ID_MATCHER = re.compile('(?<=[a-z])[0-9]+')\n",
    "FILE_ENDING_MATCHER = re.compile('\\.(fake|legit)\\.txt')\n",
    "def process_file(text_file):\n",
    "    # get file topic/ID\n",
    "    text_file_clean = FILE_ENDING_MATCHER.sub('', os.path.basename(text_file))\n",
    "#     print(text_file_clean)\n",
    "    article_topic = FILE_TOPIC_MATCHER.search(text_file_clean).group(0)\n",
    "    article_id = int(FILE_ID_MATCHER.search(text_file_clean).group(0))\n",
    "    text_file_lines = open(text_file, 'r').readlines()\n",
    "    text_file_lines = list(map(lambda x: x.strip(), text_file_lines))\n",
    "    article_title = text_file_lines[0]\n",
    "    article_text = text_file_lines[-1]\n",
    "    article_data = pd.Series([article_title, article_text, article_topic, article_id], \n",
    "                             index=['title', 'text', 'topic', 'id'])\n",
    "    return article_data\n",
    "\n",
    "def load_all_data(data_dir):\n",
    "    data_files = list(map(lambda x: os.path.join(data_dir, x), os.listdir(data_dir)))\n",
    "    data = pd.concat(list(map(lambda x: process_file(x), data_files)), axis=1).transpose()\n",
    "    data.sort_values(['topic', 'id'], inplace=True, ascending=True)\n",
    "    return data\n",
    "\n",
    "fake_news_data_dir = 'data/fakeNewsDatasets/fakeNewsDataset/fake/'\n",
    "real_news_data_dir = 'data/fakeNewsDatasets/fakeNewsDataset/legit/'\n",
    "fake_news_data = load_all_data(fake_news_data_dir)\n",
    "real_news_data = load_all_data(real_news_data_dir)\n",
    "## save to combined files!!\n",
    "fake_news_data.to_csv('data/fakeNewsDatasets/fake_news_small.tsv', sep='\\t', index=False)\n",
    "real_news_data.to_csv('data/fakeNewsDatasets/real_news_small.tsv', sep='\\t', index=False)\n",
    "display(fake_news_data.head())\n",
    "display(real_news_data.head())\n",
    "print(fake_news_data.shape[0])\n",
    "# print(fake_news_data[5])\n",
    "# print(real_news_data[5])"
   ]
  },
  {
   "cell_type": "code",
   "execution_count": 28,
   "metadata": {},
   "outputs": [
    {
     "name": "stderr",
     "output_type": "stream",
     "text": [
      "/home/ianbstew/miniconda3/envs/CORE_tutorial/lib/python3.8/site-packages/sklearn/feature_extraction/text.py:383: UserWarning: Your stop_words may be inconsistent with your preprocessing. Tokenizing the stop words generated tokens [\"'\", 'aren', 'can', 'couldn', 'd', 'didn', 'doesn', 'don', 'hadn', 'hasn', 'haven', 'isn', 'let', 'll', 'm', 'mustn', 're', 's', 'shan', 'shouldn', 't', 've', 'wasn', 'weren', 'won', 'wouldn'] not in stop_words.\n",
      "  warnings.warn('Your stop_words may be inconsistent with '\n"
     ]
    }
   ],
   "source": [
    "# word frequency\n",
    "from nltk.tokenize import WordPunctTokenizer\n",
    "from sklearn.feature_extraction.text import CountVectorizer\n",
    "from stop_words import get_stop_words\n",
    "en_stops = get_stop_words('en')\n",
    "tokenizer = WordPunctTokenizer()\n",
    "cv = CountVectorizer(min_df=0.001, max_df=0.75, \n",
    "                     tokenizer=tokenizer.tokenize, stop_words=en_stops,\n",
    "                     ngram_range=(1,1))\n",
    "# get vocab for all data\n",
    "combined_txt = fake_news_data.loc[:, 'text'].append(real_news_data.loc[:, 'text'])\n",
    "combined_txt_dtm = cv.fit_transform(combined_txt)\n",
    "sorted_vocab = list(sorted(cv.vocabulary_.keys(), key=cv.vocabulary_.get))\n",
    "# get separate DTM for each news data\n",
    "cv = CountVectorizer(min_df=0.001, max_df=0.75, tokenizer=tokenizer.tokenize, stop_words=en_stops, vocabulary=vocab)\n",
    "fake_news_dtm = cv.fit_transform(fake_news_data.loc[:, 'text'].values)\n",
    "real_news_dtm = cv.fit_transform(real_news_data.loc[:, 'text'].values)"
   ]
  },
  {
   "cell_type": "code",
   "execution_count": 32,
   "metadata": {
    "scrolled": true
   },
   "outputs": [
    {
     "name": "stdout",
     "output_type": "stream",
     "text": [
      "!\".          851\n",
      "249          384\n",
      "!            343\n",
      "100th        278\n",
      "'            182\n",
      "20th         161\n",
      "24           113\n",
      "3bn           90\n",
      "2010          89\n",
      "allows        86\n",
      "650m          76\n",
      "biased        61\n",
      "adult         56\n",
      "2013          54\n",
      "2018          53\n",
      "2007          53\n",
      "10th          49\n",
      "119           48\n",
      "admission     43\n",
      "46            43\n",
      "dtype: int64\n",
      "249         451\n",
      "'           344\n",
      "!           339\n",
      "100th       323\n",
      "!\".         314\n",
      "3bn         148\n",
      "20th         87\n",
      ")-           64\n",
      "19th         53\n",
      "biased       52\n",
      "2010         51\n",
      "24           47\n",
      "allows       47\n",
      "75           45\n",
      "athlete      41\n",
      "2018         41\n",
      "),           38\n",
      "actual       38\n",
      "bathroom     38\n",
      "brash        37\n",
      "dtype: int64\n"
     ]
    }
   ],
   "source": [
    "## top words\n",
    "import numpy as np\n",
    "fake_news_dtm_top_words = pd.Series(np.array(fake_news_dtm.sum(axis=0))[0], index=sorted_vocab).sort_values(ascending=False)\n",
    "real_news_dtm_top_words = pd.Series(np.array(real_news_dtm.sum(axis=0))[0], index=sorted_vocab).sort_values(ascending=False)\n",
    "print(fake_news_dtm_top_words.head(20))\n",
    "print(real_news_dtm_top_words.head(20))"
   ]
  },
  {
   "cell_type": "code",
   "execution_count": 38,
   "metadata": {
    "scrolled": true
   },
   "outputs": [
    {
     "name": "stdout",
     "output_type": "stream",
     "text": [
      "topic = biz\n",
      "top words for fake news articles\n"
     ]
    },
    {
     "data": {
      "text/plain": [
       ",            106\n",
       "'             41\n",
       "\"             34\n",
       "s             33\n",
       "-             28\n",
       "will          28\n",
       "uk            21\n",
       "said          19\n",
       "$             14\n",
       "trump         13\n",
       "eu            13\n",
       "deal          13\n",
       ".\"            13\n",
       "company       11\n",
       "many          10\n",
       "companies     10\n",
       "european      10\n",
       "now            9\n",
       "may            8\n",
       "jobs           8\n",
       "dtype: int64"
      ]
     },
     "metadata": {},
     "output_type": "display_data"
    },
    {
     "name": "stdout",
     "output_type": "stream",
     "text": [
      "top words for real news articles\n"
     ]
    },
    {
     "data": {
      "text/plain": [
       "'            73\n",
       "s            65\n",
       "-            58\n",
       "\"            50\n",
       "said         44\n",
       "$            26\n",
       "will         18\n",
       "us           16\n",
       "1            16\n",
       ")            15\n",
       "company      15\n",
       ":            13\n",
       "last         13\n",
       "firm         13\n",
       "trump        13\n",
       "uk           13\n",
       "financial    13\n",
       "european     13\n",
       "eu           13\n",
       "two          12\n",
       "dtype: int64"
      ]
     },
     "metadata": {},
     "output_type": "display_data"
    },
    {
     "name": "stdout",
     "output_type": "stream",
     "text": [
      "topic = edu\n",
      "top words for fake news articles\n"
     ]
    },
    {
     "data": {
      "text/plain": [
       "\"            53\n",
       "school       47\n",
       "'            45\n",
       "students     38\n",
       "s            31\n",
       "-            23\n",
       "will         22\n",
       "education    20\n",
       "trump        15\n",
       "president    12\n",
       "new          12\n",
       "children     11\n",
       "student      10\n",
       ".\"           10\n",
       "said         10\n",
       "parents      10\n",
       "law          10\n",
       "time         10\n",
       "schools      10\n",
       "first        10\n",
       "dtype: int64"
      ]
     },
     "metadata": {},
     "output_type": "display_data"
    },
    {
     "name": "stdout",
     "output_type": "stream",
     "text": [
      "top words for real news articles\n"
     ]
    },
    {
     "data": {
      "text/plain": [
       "'             29\n",
       "s             24\n",
       "-             24\n",
       "school        23\n",
       "students      21\n",
       "\"             19\n",
       "education     11\n",
       "said           9\n",
       ",\"             9\n",
       "student        8\n",
       "year           8\n",
       "percent        7\n",
       "children       6\n",
       "president      6\n",
       "according      5\n",
       "will           5\n",
       "college        5\n",
       ")              5\n",
       "(              5\n",
       "university     5\n",
       "dtype: int64"
      ]
     },
     "metadata": {},
     "output_type": "display_data"
    },
    {
     "name": "stdout",
     "output_type": "stream",
     "text": [
      "topic = entmt\n",
      "top words for fake news articles\n"
     ]
    },
    {
     "data": {
      "text/plain": [
       ",            161\n",
       "\"            106\n",
       "s             64\n",
       "-             31\n",
       "will          29\n",
       ".\"            25\n",
       "t             24\n",
       "one           17\n",
       "time          16\n",
       "show          16\n",
       "new           16\n",
       "also          14\n",
       "said          14\n",
       "fans          13\n",
       "way           12\n",
       "now           11\n",
       "last          11\n",
       "just          11\n",
       "(             11\n",
       "character     10\n",
       "dtype: int64"
      ]
     },
     "metadata": {},
     "output_type": "display_data"
    },
    {
     "name": "stdout",
     "output_type": "stream",
     "text": [
      "top words for real news articles\n"
     ]
    },
    {
     "data": {
      "text/plain": [
       "\"        151\n",
       "s        102\n",
       "-         89\n",
       "said      42\n",
       ",         30\n",
       ".\"        29\n",
       "also      23\n",
       "t         21\n",
       "will      20\n",
       "one       16\n",
       "film      16\n",
       "year      16\n",
       "first     15\n",
       "told      14\n",
       "new       14\n",
       "--        14\n",
       "news      13\n",
       "show      13\n",
       "john      11\n",
       "years     11\n",
       "dtype: int64"
      ]
     },
     "metadata": {},
     "output_type": "display_data"
    },
    {
     "name": "stdout",
     "output_type": "stream",
     "text": [
      "topic = polit\n",
      "top words for fake news articles\n"
     ]
    },
    {
     "data": {
      "text/plain": [
       "trump         79\n",
       "'             69\n",
       "\"             59\n",
       "s             56\n",
       "president     50\n",
       "clinton       29\n",
       "-             25\n",
       "donald        22\n",
       "said          20\n",
       "house         16\n",
       "white         16\n",
       "washington    15\n",
       "will          14\n",
       ".\"            13\n",
       "just          11\n",
       "cnn           11\n",
       ")             11\n",
       "(             11\n",
       "obama         11\n",
       "us            11\n",
       "dtype: int64"
      ]
     },
     "metadata": {},
     "output_type": "display_data"
    },
    {
     "name": "stdout",
     "output_type": "stream",
     "text": [
      "top words for real news articles\n"
     ]
    },
    {
     "data": {
      "text/plain": [
       "\"            33\n",
       "'            32\n",
       "s            28\n",
       "trump        25\n",
       "-            20\n",
       "said         18\n",
       ",\"           12\n",
       "president    10\n",
       "mr            9\n",
       "clinton       7\n",
       "campaign      6\n",
       "t             5\n",
       "will          5\n",
       "time          5\n",
       ":             5\n",
       "first         5\n",
       "u             4\n",
       "america       4\n",
       "press         4\n",
       "order         4\n",
       "dtype: int64"
      ]
     },
     "metadata": {},
     "output_type": "display_data"
    },
    {
     "name": "stdout",
     "output_type": "stream",
     "text": [
      "topic = sports\n",
      "top words for fake news articles\n"
     ]
    },
    {
     "data": {
      "text/plain": [
       ",         148\n",
       "\"          55\n",
       "s          51\n",
       "-          41\n",
       "will       26\n",
       "game       24\n",
       "team       23\n",
       ".\"         21\n",
       "said       18\n",
       "two        16\n",
       "one        14\n",
       "years      13\n",
       "year       13\n",
       "last       12\n",
       "time       11\n",
       "new        10\n",
       "brazil     10\n",
       "world      10\n",
       "sports      9\n",
       "just        9\n",
       "dtype: int64"
      ]
     },
     "metadata": {},
     "output_type": "display_data"
    },
    {
     "name": "stdout",
     "output_type": "stream",
     "text": [
      "top words for real news articles\n"
     ]
    },
    {
     "data": {
      "text/plain": [
       "-          124\n",
       "s           83\n",
       "\"           71\n",
       "will        25\n",
       "year        23\n",
       "said        21\n",
       "world       17\n",
       "game        16\n",
       "sport       16\n",
       "one         15\n",
       ".\"          15\n",
       "two         14\n",
       "win         14\n",
       "time        13\n",
       "6           13\n",
       "team        13\n",
       "federer     12\n",
       "old         12\n",
       "sports      11\n",
       "(           11\n",
       "dtype: int64"
      ]
     },
     "metadata": {},
     "output_type": "display_data"
    },
    {
     "name": "stdout",
     "output_type": "stream",
     "text": [
      "topic = tech\n",
      "top words for fake news articles\n"
     ]
    },
    {
     "data": {
      "text/plain": [
       "'           49\n",
       "s           43\n",
       "will        42\n",
       "\"           36\n",
       "new         34\n",
       "-           34\n",
       "can         16\n",
       "amazon      14\n",
       "google      13\n",
       "now         12\n",
       "many        11\n",
       "apple       10\n",
       "t            9\n",
       "world        9\n",
       "devices      9\n",
       "said         9\n",
       "(            9\n",
       "time         9\n",
       "research     8\n",
       "app          8\n",
       "dtype: int64"
      ]
     },
     "metadata": {},
     "output_type": "display_data"
    },
    {
     "name": "stdout",
     "output_type": "stream",
     "text": [
      "top words for real news articles\n"
     ]
    },
    {
     "data": {
      "text/plain": [
       "-             29\n",
       "'             27\n",
       "s             21\n",
       "\"             15\n",
       "will          14\n",
       "said          14\n",
       "new           12\n",
       ",\"             9\n",
       "also           7\n",
       "devices        7\n",
       "can            6\n",
       "google         6\n",
       "year           6\n",
       "like           6\n",
       "t              6\n",
       "announced      5\n",
       "monday         5\n",
       "see            5\n",
       "game           4\n",
       "technology     4\n",
       "dtype: int64"
      ]
     },
     "metadata": {},
     "output_type": "display_data"
    }
   ],
   "source": [
    "# per-topic\n",
    "article_topics = fake_news_data.loc[:, 'topic'].unique()\n",
    "en_stops = get_stop_words('en')\n",
    "tokenizer = WordPunctTokenizer()\n",
    "top_k = 20\n",
    "for topic_i in article_topics:\n",
    "    print(f'topic = {topic_i}')\n",
    "    fake_news_data_i = fake_news_data[fake_news_data.loc[:, 'topic']==topic_i]\n",
    "    real_news_data_i = real_news_data[real_news_data.loc[:, 'topic']==topic_i]\n",
    "    # get vocab, compute counts, etc.\n",
    "    cv = CountVectorizer(min_df=0.001, max_df=0.75, \n",
    "                         tokenizer=tokenizer.tokenize, stop_words=en_stops,\n",
    "                         ngram_range=(1,1))\n",
    "    combined_txt_i = fake_news_data_i.loc[:, 'text'].append(real_news_data_i.loc[:, 'text'])\n",
    "    combined_txt_dtm_i = cv.fit_transform(combined_txt_i)\n",
    "    sorted_vocab_i = list(sorted(cv.vocabulary_.keys(), key=cv.vocabulary_.get))\n",
    "    # get separate DTM for each news data\n",
    "    cv = CountVectorizer(min_df=0.001, max_df=0.75, \n",
    "                         tokenizer=tokenizer.tokenize, stop_words=en_stops,\n",
    "                         ngram_range=(1,1), vocabulary=sorted_vocab_i)\n",
    "    fake_news_dtm_i = cv.fit_transform(fake_news_data_i.loc[:, 'text'].values)\n",
    "    real_news_dtm_i = cv.fit_transform(real_news_data_i.loc[:, 'text'].values)\n",
    "    # get top counts\n",
    "    fake_news_dtm_top_words_i = pd.Series(np.array(fake_news_dtm_i.sum(axis=0))[0], index=sorted_vocab_i).sort_values(ascending=False).head(top_k)\n",
    "    real_news_dtm_top_words_i = pd.Series(np.array(real_news_dtm_i.sum(axis=0))[0], index=sorted_vocab_i).sort_values(ascending=False).head(top_k)\n",
    "    print('top words for fake news articles')\n",
    "    display(fake_news_dtm_top_words_i)\n",
    "    print('top words for real news articles')\n",
    "    display(real_news_dtm_top_words_i)"
   ]
  },
  {
   "cell_type": "code",
   "execution_count": 61,
   "metadata": {},
   "outputs": [],
   "source": [
    "def compute_frequency(text_data, tokenizer, stops, vocab):\n",
    "    cv = CountVectorizer(tokenizer=tokenizer.tokenize, stop_words=stops,\n",
    "                         ngram_range=(1,1), vocabulary=vocab)\n",
    "    dtm = cv.fit_transform(text_data)\n",
    "    word_frequency = np.array(dtm.sum(axis=0))[0]\n",
    "    word_frequency = pd.Series(word_frequency, index=vocab)\n",
    "    return word_frequency"
   ]
  },
  {
   "cell_type": "code",
   "execution_count": 62,
   "metadata": {
    "scrolled": true
   },
   "outputs": [
    {
     "name": "stdout",
     "output_type": "stream",
     "text": [
      "words that occurred in more fake news articles\n",
      ",            537\n",
      "will          74\n",
      "trump         66\n",
      "president     41\n",
      "new           39\n",
      ".\"            38\n",
      "many          33\n",
      "clinton       27\n",
      "donald        25\n",
      "time          24\n",
      "now           24\n",
      "school        24\n",
      "can           23\n",
      "stated        20\n",
      "students      19\n",
      "even          18\n",
      "white         18\n",
      "order         16\n",
      "way           16\n",
      "great         16\n",
      "dtype: int64\n",
      "words that occurred in more real news articles\n",
      ")             -8\n",
      "000           -9\n",
      "–             -9\n",
      "6            -10\n",
      "report       -11\n",
      "m            -11\n",
      "4            -11\n",
      "tuesday      -11\n",
      "three        -11\n",
      "1            -12\n",
      "financial    -12\n",
      "$            -16\n",
      "--           -17\n",
      "also         -19\n",
      ":            -20\n",
      "year         -27\n",
      "s            -45\n",
      "said         -58\n",
      "'            -67\n",
      "-           -162\n",
      "dtype: int64\n"
     ]
    },
    {
     "name": "stderr",
     "output_type": "stream",
     "text": [
      "/home/ianbstew/miniconda3/envs/CORE_tutorial/lib/python3.8/site-packages/sklearn/feature_extraction/text.py:383: UserWarning: Your stop_words may be inconsistent with your preprocessing. Tokenizing the stop words generated tokens [\"'\", 'aren', 'can', 'couldn', 'd', 'didn', 'doesn', 'don', 'hadn', 'hasn', 'haven', 'isn', 'let', 'll', 'm', 'mustn', 're', 's', 'shan', 'shouldn', 't', 've', 'wasn', 'weren', 'won', 'wouldn'] not in stop_words.\n",
      "  warnings.warn('Your stop_words may be inconsistent with '\n"
     ]
    }
   ],
   "source": [
    "fake_news_text = fake_news_data.loc[:, 'text'].values\n",
    "real_news_text = real_news_data.loc[:, 'text'].values\n",
    "fake_news_word_frequency = compute_frequency(fake_news_text, tokenizer, en_stops, sorted_vocab)\n",
    "real_news_word_frequency = compute_frequency(real_news_text, tokenizer, en_stops, sorted_vocab)\n",
    "# compute difference\n",
    "fake_vs_real_news_word_frequency_diff = fake_news_word_frequency - real_news_word_frequency\n",
    "fake_vs_real_news_word_frequency_diff.sort_values(inplace=True, ascending=False)\n",
    "# show words with highest/lowest difference\n",
    "top_k = 20\n",
    "print('words that occurred in more fake news articles')\n",
    "print(fake_vs_real_news_word_frequency_diff.head(top_k))\n",
    "print('words that occurred in more real news articles')\n",
    "print(fake_vs_real_news_word_frequency_diff.tail(top_k))"
   ]
  },
  {
   "cell_type": "markdown",
   "metadata": {},
   "source": [
    "These differences suggest that fake news articles focused more on the actions of specific people (`trump`, `clinton`) and less on specific details (`tuesday`, `financial`).\n",
    "\n",
    "However, these results could be due to longer articles that allowed e.g. real news writers to cover more details. How do we control for length?\n",
    "\n",
    "Let's compute the normalized frequency for fake news and real news articles, to identify words that occurred more often than expected in one genre of article."
   ]
  },
  {
   "cell_type": "code",
   "execution_count": 53,
   "metadata": {},
   "outputs": [],
   "source": [
    "def compute_norm_frequency(text_data, tokenizer, stops, vocab):\n",
    "    cv = CountVectorizer(tokenizer=tokenizer.tokenize, stop_words=stops,\n",
    "                         ngram_range=(1,1), vocabulary=vocab)\n",
    "    dtm = cv.fit_transform(text_data)\n",
    "    # normalize by column\n",
    "    word_norm_frequency = np.array(dtm.sum(axis=0) / dtm.sum(axis=0).sum())[0]\n",
    "    # store in format that is easy to manipulate\n",
    "    word_norm_frequency = pd.Series(word_norm_frequency, index=vocab)\n",
    "    return word_norm_frequency"
   ]
  },
  {
   "cell_type": "code",
   "execution_count": 112,
   "metadata": {
    "scrolled": true
   },
   "outputs": [
    {
     "name": "stdout",
     "output_type": "stream",
     "text": [
      "words that occurred in more fake news articles\n",
      "hillary      11.724431\n",
      "commented    10.886971\n",
      "needs        10.049512\n",
      "secret        9.212053\n",
      "caused        8.374593\n",
      "ai            8.374593\n",
      "provided      7.537134\n",
      "earth         6.699675\n",
      "begin         6.699675\n",
      "instead       6.699675\n",
      "attempt       5.862215\n",
      "release       5.862215\n",
      "success       5.862215\n",
      "stein         5.862215\n",
      "lack          5.862215\n",
      "charges       5.024756\n",
      "tennis        5.024756\n",
      "met           5.024756\n",
      "phone         5.024756\n",
      "groups        5.024756\n",
      "dtype: float64\n",
      "words that occurred in more real news articles\n",
      "anniversary    0.167492\n",
      "customer       0.167492\n",
      "missing        0.167492\n",
      "saw            0.167492\n",
      "value          0.167492\n",
      "jersey         0.167492\n",
      "providers      0.167492\n",
      "potentially    0.167492\n",
      "growing        0.139577\n",
      "indian         0.139577\n",
      "story          0.139577\n",
      "drawn          0.139577\n",
      "january        0.139577\n",
      "february       0.139577\n",
      "vehicle        0.119637\n",
      "brady          0.119637\n",
      "40             0.119637\n",
      "18             0.119637\n",
      "amateur        0.119637\n",
      "birth          0.104682\n",
      "dtype: float64\n"
     ]
    },
    {
     "name": "stderr",
     "output_type": "stream",
     "text": [
      "/home/ianbstew/miniconda3/envs/CORE_tutorial/lib/python3.8/site-packages/sklearn/feature_extraction/text.py:383: UserWarning: Your stop_words may be inconsistent with your preprocessing. Tokenizing the stop words generated tokens [\"'\", 'aren', 'can', 'couldn', 'd', 'didn', 'doesn', 'don', 'hadn', 'hasn', 'haven', 'isn', 'let', 'll', 'm', 'mustn', 're', 's', 'shan', 'shouldn', 't', 've', 'wasn', 'weren', 'won', 'wouldn'] not in stop_words.\n",
      "  warnings.warn('Your stop_words may be inconsistent with '\n"
     ]
    }
   ],
   "source": [
    "tokenizer = WordPunctTokenizer()\n",
    "stops = get_stop_words('en')\n",
    "fake_news_word_norm_frequency = compute_norm_frequency(fake_news_data.loc[:, 'text'].values, tokenizer, stops, sorted_vocab)\n",
    "real_news_word_norm_frequency = compute_norm_frequency(real_news_data.loc[:, 'text'].values, tokenizer, stops, sorted_vocab)\n",
    "## compute ratio: what words are used more often in fake news than real news?\n",
    "def compute_text_word_ratio(text_data_1, text_data_2):\n",
    "    text_word_ratio = text_data_1 / text_data_2\n",
    "    # drop non-occurring words\n",
    "    text_word_ratio = text_word_ratio[~np.isinf(text_word_ratio)]\n",
    "    text_word_ratio = text_word_ratio[~np.isnan(text_word_ratio)]\n",
    "    text_word_ratio = text_word_ratio[text_word_ratio != 0.]\n",
    "    text_word_ratio.sort_values(inplace=True, ascending=False)\n",
    "    return text_word_ratio\n",
    "fake_vs_real_news_word_frequency_ratio = compute_text_word_ratio(fake_news_word_norm_frequency, real_news_word_norm_frequency)\n",
    "# show words with highest/lowest ratio\n",
    "top_k = 20\n",
    "print('words that occurred in more fake news articles')\n",
    "print(fake_real_news_word_frequency_ratio.head(top_k))\n",
    "print('words that occurred in more real news articles')\n",
    "print(fake_real_news_word_frequency_ratio.tail(top_k))"
   ]
  },
  {
   "cell_type": "markdown",
   "metadata": {},
   "source": [
    "OK! We see that fake news consistently focuses on `hillary` (e.g. her email case) s well as potential conspiracy theories (`secret`, `ai`). In contrast, real news focuses on concrete time details (`january`, `40`) and provides some words to \"hedge\" their claims (`potentially`, `story`)."
   ]
  },
  {
   "cell_type": "markdown",
   "metadata": {},
   "source": [
    "What if we want to identify words that occur frequency in just a few documents? E.g. some fake news stories may disproportionately use rare but inflammatory words.\n",
    "\n",
    "Let's try TF-IDF, which normalizes term frequency by the inverse document frequency:\n",
    "\n",
    "$$\\text{tf-idf(word)} = \\frac{\\text{freq(word)}}{\\text{document-freq(word)}}$$"
   ]
  },
  {
   "cell_type": "code",
   "execution_count": 98,
   "metadata": {},
   "outputs": [],
   "source": [
    "from sklearn.feature_extraction.text import TfidfVectorizer\n",
    "def compute_non_zero_mean(data):\n",
    "    non_zero_data = data[data != 0.]\n",
    "    non_zero_mean = non_zero_data.mean()\n",
    "    return non_zero_mean\n",
    "def compute_tfidf(text_data, tokenizer, stops, vocab):\n",
    "    tfidf_vec = TfidfVectorizer(tokenizer=tokenizer.tokenize, stop_words=stops, vocabulary=vocab)\n",
    "    text_tfidf_matrix = tfidf_vec.fit_transform(text_data).toarray()\n",
    "#     print(text_tfidf_matrix.shape)\n",
    "#     return text_tfidf_matrix\n",
    "    # compute mean over non-zero TF-IDF values\n",
    "#     text_tfidf_score = np.apply_along_axis(lambda x: x.mean(), 0, text_tfidf_matrix)\n",
    "    text_tfidf_score = np.apply_along_axis(lambda x: compute_non_zero_mean(x), 0, text_tfidf_matrix)\n",
    "#     text_tfidf_score = text_tfidf_matrix.max(axis=0)\n",
    "    text_tfidf_score = pd.Series(text_tfidf_score, index=vocab)\n",
    "    return text_tfidf_score"
   ]
  },
  {
   "cell_type": "code",
   "execution_count": 104,
   "metadata": {
    "scrolled": true
   },
   "outputs": [
    {
     "name": "stdout",
     "output_type": "stream",
     "text": [
      "words with higher TF-IDF scores in fake news\n"
     ]
    },
    {
     "name": "stderr",
     "output_type": "stream",
     "text": [
      "<ipython-input-98-8692082ea0c5>:4: RuntimeWarning: Mean of empty slice.\n",
      "  non_zero_mean = non_zero_data.mean()\n"
     ]
    },
    {
     "data": {
      "text/plain": [
       "steel         4.280091\n",
       "retailers     4.089067\n",
       "tourists      3.949276\n",
       "friendship    3.927483\n",
       "morgan        3.752379\n",
       "bruno         3.728585\n",
       "gas           3.509625\n",
       "saudi         3.392921\n",
       "arnold        3.364493\n",
       "privacy       3.356762\n",
       "sacrifice     3.214699\n",
       "emoji         3.112207\n",
       "duncan        3.080392\n",
       "michelle      3.053198\n",
       "ebony         3.014936\n",
       "qatar         2.980143\n",
       "fees          2.926611\n",
       "ai            2.926181\n",
       "wawrinka      2.924895\n",
       "kyrgios       2.892984\n",
       "dtype: float64"
      ]
     },
     "metadata": {},
     "output_type": "display_data"
    },
    {
     "name": "stdout",
     "output_type": "stream",
     "text": [
      "words with higher TF-IDF scores in real news\n"
     ]
    },
    {
     "data": {
      "text/plain": [
       "virtual           0.331943\n",
       "comfortable       0.330759\n",
       "saran             0.312199\n",
       "hacking           0.309510\n",
       "junco             0.308395\n",
       "farah             0.303634\n",
       "iphones           0.300928\n",
       "putin             0.297846\n",
       "engines           0.292603\n",
       "fisher            0.280006\n",
       "alcohol           0.279075\n",
       "absurdity         0.277041\n",
       "suddenly          0.272967\n",
       "pizzagate         0.270884\n",
       "punk              0.265890\n",
       "authentication    0.264018\n",
       "factor            0.264018\n",
       "graduates         0.254588\n",
       "tempe             0.239919\n",
       "investigators     0.221240\n",
       "dtype: float64"
      ]
     },
     "metadata": {},
     "output_type": "display_data"
    }
   ],
   "source": [
    "fake_news_tfidf = compute_tfidf(fake_news_text, tokenizer, en_stops, sorted_vocab)\n",
    "real_news_tfidf = compute_tfidf(real_news_text, tokenizer, en_stops, sorted_vocab)\n",
    "fake_vs_real_news_word_tfidf_ratio = fake_news_tfidf / real_news_tfidf\n",
    "fake_vs_real_news_word_tfidf_ratio.dropna(inplace=True)\n",
    "fake_vs_real_news_word_tfidf_ratio.sort_values(inplace=True, ascending=False)\n",
    "top_k = 20\n",
    "print('words with higher TF-IDF scores in fake news')\n",
    "display(fake_vs_real_news_word_tfidf_ratio.head(top_k))\n",
    "print('words with higher TF-IDF scores in real news')\n",
    "display(fake_vs_real_news_word_tfidf_ratio.tail(top_k))\n",
    "# raw TF-IDF scores\n",
    "# fake_news_tfidf.sort_values(inplace=True, ascending=False)\n",
    "# real_news_tfidf.sort_values(inplace=True, ascending=False)\n",
    "# top_k = 20\n",
    "# print('words with high TF-IDF scores in fake news')\n",
    "# print(fake_news_tfidf.head(top_k))\n",
    "# print('words with high TF-IDF scores in real news')\n",
    "# print(real_news_tfidf.head(top_k))"
   ]
  },
  {
   "cell_type": "markdown",
   "metadata": {},
   "source": [
    "This method succeeds in identifying fairly rare words that characterize real and fake news.\n",
    "\n",
    "For fake news, we see that words with higher TF-IDF scores include those related to business transactions (`retailers`, `gas`) and Middle Eastern countries (`saudi`, `qatar`).\n",
    "\n",
    "For real news, the words with higher TF-IDF scores include words that directly address conspiracies (`pizzagate`, `investigators`, `authentication`) and words that speculate on the veracity of claims (`absurdity`, `suddenly`)."
   ]
  },
  {
   "cell_type": "markdown",
   "metadata": {},
   "source": [
    "### Exploration\n",
    "\n",
    "Now it's time for you to explore the data a little more with word frequency modeling!\n",
    "\n",
    "Some thoughts:\n",
    "\n",
    "- The original data are organized by topic. What are the words that characterize real/fake news in each topic?\n",
    "- Changing the vocabulary size could identify more rare words (e.g. lowering `min_df` threshold in `CountVectorizer`). What happens if you include more words in the vocabulary?\n",
    "- Up until now we have focused more strongly on single words (unigrams). What if we include phrases (changing `ngram_range` in the `CountVectorizer`)? Will we see more examples of conspiracy theories being highlighted by the real news?"
   ]
  },
  {
   "cell_type": "code",
   "execution_count": 118,
   "metadata": {
    "scrolled": true
   },
   "outputs": [
    {
     "name": "stdout",
     "output_type": "stream",
     "text": [
      "top unigrams/bigrams that occur more often in fake news data\n"
     ]
    },
    {
     "name": "stderr",
     "output_type": "stream",
     "text": [
      "/home/ianbstew/miniconda3/envs/CORE_tutorial/lib/python3.8/site-packages/sklearn/feature_extraction/text.py:383: UserWarning: Your stop_words may be inconsistent with your preprocessing. Tokenizing the stop words generated tokens [\"'\", 'aren', 'can', 'couldn', 'd', 'didn', 'doesn', 'don', 'hadn', 'hasn', 'haven', 'isn', 'let', 'll', 'm', 'mustn', 're', 's', 'shan', 'shouldn', 't', 've', 'wasn', 'weren', 'won', 'wouldn'] not in stop_words.\n",
      "  warnings.warn('Your stop_words may be inconsistent with '\n"
     ]
    },
    {
     "data": {
      "text/plain": [
       "hillary clinton     10.837533\n",
       ", \"                  7.711322\n",
       "however ,            7.502908\n",
       "trump .              7.502908\n",
       ", many               6.669251\n",
       ", one                5.835595\n",
       "game ,               5.001938\n",
       "president donald     5.001938\n",
       "couldn '             5.001938\n",
       "first lady           5.001938\n",
       "white house          4.724053\n",
       "donald trump         4.335013\n",
       "monday .             4.168282\n",
       "night ,              4.168282\n",
       "now ,                4.168282\n",
       "trump tower          4.168282\n",
       "\" just               4.168282\n",
       ". new                3.751454\n",
       ", wanted             3.334626\n",
       "supreme court        3.334626\n",
       "dtype: float64"
      ]
     },
     "metadata": {},
     "output_type": "display_data"
    },
    {
     "name": "stdout",
     "output_type": "stream",
     "text": [
      "top unigrams/bigrams that occur more often in real news data\n"
     ]
    },
    {
     "data": {
      "text/plain": [
       "economy .        0.208414\n",
       "performance -    0.208414\n",
       "2 .              0.208414\n",
       "well -           0.208414\n",
       ". k              0.208414\n",
       ". 4              0.208414\n",
       "2016 .           0.208414\n",
       ". still          0.208414\n",
       "s really         0.208414\n",
       ", adding         0.208414\n",
       "science ,        0.208414\n",
       "k .              0.208414\n",
       "- year           0.189467\n",
       "year -           0.185257\n",
       "- old            0.175507\n",
       "middle east      0.166731\n",
       "indian wells     0.166731\n",
       ". report         0.166731\n",
       "world number     0.166731\n",
       "1 .              0.083366\n",
       "dtype: float64"
      ]
     },
     "metadata": {},
     "output_type": "display_data"
    }
   ],
   "source": [
    "## example: test different n-gram range\n",
    "## generate new vocabulary\n",
    "tokenizer = WordPunctTokenizer()\n",
    "en_stops = get_stop_words('en')\n",
    "def compute_word_freq_custom(text_data, custom_cv, vocab):\n",
    "    text_dtm = custom_cv.transform(text_data)\n",
    "    word_norm_frequency = np.array(text_dtm.sum(axis=0) / text_dtm.sum(axis=0).sum())[0]\n",
    "    word_norm_frequency = pd.Series(word_norm_frequency, index=vocab)\n",
    "    return word_norm_frequency\n",
    "# create custom vectorizer for bigrams\n",
    "bigram_cv = CountVectorizer(min_df=0.001, max_df=0.75, \n",
    "                            tokenizer=tokenizer.tokenize, stop_words=en_stops,\n",
    "                            ngram_range=(2,2))\n",
    "# get vocab for all data\n",
    "combined_txt = fake_news_data.loc[:, 'text'].append(real_news_data.loc[:, 'text'])\n",
    "combined_txt_dtm = bigram_cv.fit_transform(combined_txt)\n",
    "sorted_bigram_vocab = list(sorted(bigram_cv.vocabulary_.keys(), key=bigram_cv.vocabulary_.get))\n",
    "## compute frequency ratio for bigrams\n",
    "fake_news_bigram_frequency = compute_word_freq_custom(fake_news_data.loc[:, 'text'].values, bigram_cv, sorted_bigram_vocab)\n",
    "fake_vs_real_news_bigram_word_frequency_ratio = compute_text_word_ratio(fake_news_bigram_frequency, real_news_bigram_frequency)\n",
    "fake_vs_real_news_bigram_word_frequency_ratio.sort_values(inplace=True, ascending=False)\n",
    "top_k = 20\n",
    "print('top unigrams/bigrams that occur more often in fake news data')\n",
    "display(fake_vs_real_news_bigram_word_frequency_ratio.head(top_k))\n",
    "print('top unigrams/bigrams that occur more often in real news data')\n",
    "display(fake_vs_real_news_bigram_word_frequency_ratio.tail(top_k))"
   ]
  },
  {
   "cell_type": "markdown",
   "metadata": {},
   "source": [
    " # Topic modeling\n",
    "Another way to compare documents is to extract the latent topics that group words within each document, and compare those distributions.\n",
    "\n",
    "We'll continue on the topic of fake news with another dataset that has examples of both fake and real news articles, at a much larger scale than the previous data."
   ]
  },
  {
   "cell_type": "code",
   "execution_count": 219,
   "metadata": {},
   "outputs": [
    {
     "data": {
      "text/plain": [
       "array(['Donald Trump just couldn t wish all Americans a Happy New Year and leave it at that. Instead, he had to give a shout out to his enemies, haters and  the very dishonest fake news media.  The former reality show star had just one job to do and he couldn t do it. As our Country rapidly grows stronger and smarter, I want to wish all of my friends, supporters, enemies, haters, and even the very dishonest Fake News Media, a Happy and Healthy New Year,  President Angry Pants tweeted.  2018 will be a great year for America! As our Country rapidly grows stronger and smarter, I want to wish all of my friends, supporters, enemies, haters, and even the very dishonest Fake News Media, a Happy and Healthy New Year. 2018 will be a great year for America!  Donald J. Trump (@realDonaldTrump) December 31, 2017Trump s tweet went down about as welll as you d expect.What kind of president sends a New Year s greeting like this despicable, petty, infantile gibberish? Only Trump! His lack of decency won t even allow him to rise above the gutter long enough to wish the American citizens a happy new year!  Bishop Talbert Swan (@TalbertSwan) December 31, 2017no one likes you  Calvin (@calvinstowell) December 31, 2017Your impeachment would make 2018 a great year for America, but I ll also accept regaining control of Congress.  Miranda Yaver (@mirandayaver) December 31, 2017Do you hear yourself talk? When you have to include that many people that hate you you have to wonder? Why do the they all hate me?  Alan Sandoval (@AlanSandoval13) December 31, 2017Who uses the word Haters in a New Years wish??  Marlene (@marlene399) December 31, 2017You can t just say happy new year?  Koren pollitt (@Korencarpenter) December 31, 2017Here s Trump s New Year s Eve tweet from 2016.Happy New Year to all, including to my many enemies and those who have fought me and lost so badly they just don t know what to do. Love!  Donald J. Trump (@realDonaldTrump) December 31, 2016This is nothing new for Trump. He s been doing this for years.Trump has directed messages to his  enemies  and  haters  for New Year s, Easter, Thanksgiving, and the anniversary of 9/11. pic.twitter.com/4FPAe2KypA  Daniel Dale (@ddale8) December 31, 2017Trump s holiday tweets are clearly not presidential.How long did he work at Hallmark before becoming President?  Steven Goodine (@SGoodine) December 31, 2017He s always been like this . . . the only difference is that in the last few years, his filter has been breaking down.  Roy Schulze (@thbthttt) December 31, 2017Who, apart from a teenager uses the term haters?  Wendy (@WendyWhistles) December 31, 2017he s a fucking 5 year old  Who Knows (@rainyday80) December 31, 2017So, to all the people who voted for this a hole thinking he would change once he got into power, you were wrong! 70-year-old men don t change and now he s a year older.Photo by Andrew Burton/Getty Images.',\n",
       "       'House Intelligence Committee Chairman Devin Nunes is going to have a bad day. He s been under the assumption, like many of us, that the Christopher Steele-dossier was what prompted the Russia investigation so he s been lashing out at the Department of Justice and the FBI in order to protect Trump. As it happens, the dossier is not what started the investigation, according to documents obtained by the New York Times.Former Trump campaign adviser George Papadopoulos was drunk in a wine bar when he revealed knowledge of Russian opposition research on Hillary Clinton.On top of that, Papadopoulos wasn t just a covfefe boy for Trump, as his administration has alleged. He had a much larger role, but none so damning as being a drunken fool in a wine bar. Coffee boys  don t help to arrange a New York meeting between Trump and President Abdel Fattah el-Sisi of Egypt two months before the election. It was known before that the former aide set up meetings with world leaders for Trump, but team Trump ran with him being merely a coffee boy.In May 2016, Papadopoulos revealed to Australian diplomat Alexander Downer that Russian officials were shopping around possible dirt on then-Democratic presidential nominee Hillary Clinton. Exactly how much Mr. Papadopoulos said that night at the Kensington Wine Rooms with the Australian, Alexander Downer, is unclear,  the report states.  But two months later, when leaked Democratic emails began appearing online, Australian officials passed the information about Mr. Papadopoulos to their American counterparts, according to four current and former American and foreign officials with direct knowledge of the Australians  role. Papadopoulos pleaded guilty to lying to the F.B.I. and is now a cooperating witness with Special Counsel Robert Mueller s team.This isn t a presidency. It s a badly scripted reality TV show.Photo by Win McNamee/Getty Images.',\n",
       "       'On Friday, it was revealed that former Milwaukee Sheriff David Clarke, who was being considered for Homeland Security Secretary in Donald Trump s administration, has an email scandal of his own.In January, there was a brief run-in on a plane between Clarke and fellow passenger Dan Black, who he later had detained by the police for no reason whatsoever, except that maybe his feelings were hurt. Clarke messaged the police to stop Black after he deplaned, and now, a search warrant has been executed by the FBI to see the exchanges.Clarke is calling it fake news even though copies of the search warrant are on the Internet. I am UNINTIMIDATED by lib media attempts to smear and discredit me with their FAKE NEWS reports designed to silence me,  the former sheriff tweeted.  I will continue to poke them in the eye with a sharp stick and bitch slap these scum bags til they get it. I have been attacked by better people than them #MAGA I am UNINTIMIDATED by lib media attempts to smear and discredit me with their FAKE NEWS reports designed to silence me. I will continue to poke them in the eye with a sharp stick and bitch slap these scum bags til they get it. I have been attacked by better people than them #MAGA pic.twitter.com/XtZW5PdU2b  David A. Clarke, Jr. (@SheriffClarke) December 30, 2017He didn t stop there.BREAKING NEWS! When LYING LIB MEDIA makes up FAKE NEWS to smear me, the ANTIDOTE is go right at them. Punch them in the nose & MAKE THEM TASTE THEIR OWN BLOOD. Nothing gets a bully like LYING LIB MEDIA S attention better than to give them a taste of their own blood #neverbackdown pic.twitter.com/T2NY2psHCR  David A. Clarke, Jr. (@SheriffClarke) December 30, 2017The internet called him out.This is your local newspaper and that search warrant isn t fake, and just because the chose not to file charges at the time doesn t mean they won t! Especially if you continue to lie. Months after decision not to charge Clarke, email search warrant filed https://t.co/zcbyc4Wp5b  KeithLeBlanc (@KeithLeBlanc63) December 30, 2017I just hope the rest of the Village People aren t implicated.  Kirk Ketchum (@kirkketchum) December 30, 2017Slaw, baked potatoes, or French fries? pic.twitter.com/fWfXsZupxy  ALT- Immigration   (@ALT_uscis) December 30, 2017pic.twitter.com/ymsOBLjfxU  Pendulum Swinger (@PendulumSwngr) December 30, 2017you called your police friends to stand up for you when someone made fun of your hat  Chris Jackson (@ChrisCJackson) December 30, 2017Is it me, with this masterful pshop of your hat, which I seem to never tire of. I think it s the steely resolve in your one visible eye pic.twitter.com/dWr5k8ZEZV  Chris Mohney (@chrismohney) December 30, 2017Are you indicating with your fingers how many people died in your jail? I think you re a few fingers short, dipshit  Ike Barinholtz (@ikebarinholtz) December 30, 2017ROFL. Internet tough guy with fake flair. pic.twitter.com/ulCFddhkdy  KellMeCrazy (@Kel_MoonFace) December 30, 2017You re so edgy, buddy.  Mrs. SMH (@MRSSMH2) December 30, 2017Is his break over at Applebees?  Aaron (@feltrrr2) December 30, 2017Are you trying to earn your  still relevant  badge?  CircusRebel (@CircusDrew) December 30, 2017make sure to hydrate, drink lots of water. It s rumored that prisoners can be denied water by prison officials.  Robert Klinc (@RobertKlinc1) December 30, 2017Terrill Thomas, the 38-year-old black man who died of thirst in Clarke s Milwaukee County Jail cell this April, was a victim of homicide. We just thought we should point that out. It can t be repeated enough.Photo by Spencer Platt/Getty Images.',\n",
       "       'On Christmas day, Donald Trump announced that he would  be back to work  the following day, but he is golfing for the fourth day in a row. The former reality show star blasted former President Barack Obama for playing golf and now Trump is on track to outpace the number of golf games his predecessor played.Updated my tracker of Trump s appearances at Trump properties.71 rounds of golf including today s. At this pace, he ll pass Obama s first-term total by July 24 next year. https://t.co/Fg7VacxRtJ pic.twitter.com/5gEMcjQTbH  Philip Bump (@pbump) December 29, 2017 That makes what a Washington Post reporter discovered on Trump s website really weird, but everything about this administration is bizarre AF. The coding contained a reference to Obama and golf:  Unlike Obama, we are working to fix the problem   and not on the golf course.  However, the coding wasn t done correctly.The website of Donald Trump, who has spent several days in a row at the golf course, is coded to serve up the following message in the event of an internal server error: https://t.co/zrWpyMXRcz pic.twitter.com/wiQSQNNzw0  Christopher Ingraham (@_cingraham) December 28, 2017That snippet of code appears to be on all https://t.co/dkhw0AlHB4 pages, which the footer says is paid for by the RNC? pic.twitter.com/oaZDT126B3  Christopher Ingraham (@_cingraham) December 28, 2017It s also all over https://t.co/ayBlGmk65Z. As others have noted in this thread, this is weird code and it s not clear it would ever actually display, but who knows.  Christopher Ingraham (@_cingraham) December 28, 2017After the coding was called out, the reference to Obama was deleted.UPDATE: The golf error message has been removed from the Trump and GOP websites. They also fixed the javascript  =  vs  ==  problem. Still not clear when these messages would actually display, since the actual 404 (and presumably 500) page displays a different message pic.twitter.com/Z7dmyQ5smy  Christopher Ingraham (@_cingraham) December 29, 2017That suggests someone at either RNC or the Trump admin is sensitive enough to Trump s golf problem to make this issue go away quickly once people noticed. You have no idea how much I d love to see the email exchange that led us here.  Christopher Ingraham (@_cingraham) December 29, 2017 The code was f-cked up.The best part about this is that they are using the  =  (assignment) operator which means that bit of code will never get run. If you look a few lines up  errorCode  will always be  404          (@tw1trsux) December 28, 2017trump s coders can t code. Nobody is surprised.  Tim Peterson (@timrpeterson) December 28, 2017Donald Trump is obsessed with Obama that his name was even in the coding of his website while he played golf again.Photo by Joe Raedle/Getty Images.',\n",
       "       'Pope Francis used his annual Christmas Day message to rebuke Donald Trump without even mentioning his name. The Pope delivered his message just days after members of the United Nations condemned Trump s move to recognize Jerusalem as the capital of Israel. The Pontiff prayed on Monday for the  peaceful coexistence of two states within mutually agreed and internationally recognized borders. We see Jesus in the children of the Middle East who continue to suffer because of growing tensions between Israelis and Palestinians,  Francis said.  On this festive day, let us ask the Lord for peace for Jerusalem and for all the Holy Land. Let us pray that the will to resume dialogue may prevail between the parties and that a negotiated solution can finally be reached. The Pope went on to plead for acceptance of refugees who have been forced from their homes, and that is an issue Trump continues to fight against. Francis used Jesus for which there was  no place in the inn  as an analogy. Today, as the winds of war are blowing in our world and an outdated model of development continues to produce human, societal and environmental decline, Christmas invites us to focus on the sign of the Child and to recognize him in the faces of little children, especially those for whom, like Jesus,  there is no place in the inn,  he said. Jesus knows well the pain of not being welcomed and how hard it is not to have a place to lay one s head,  he added.  May our hearts not be closed as they were in the homes of Bethlehem. The Pope said that Mary and Joseph were immigrants who struggled to find a safe place to stay in Bethlehem. They had to leave their people, their home, and their land,  Francis said.  This was no comfortable or easy journey for a young couple about to have a child.   At heart, they were full of hope and expectation because of the child about to be born; yet their steps were weighed down by the uncertainties and dangers that attend those who have to leave their home behind. So many other footsteps are hidden in the footsteps of Joseph and Mary,  Francis said Sunday. We see the tracks of entire families forced to set out in our own day. We see the tracks of millions of persons who do not choose to go away, but driven from their land, leave behind their dear ones. Amen to that.Photo by Christopher Furlong/Getty Images.',\n",
       "       'The number of cases of cops brutalizing and killing people of color seems to see no end. Now, we have another case that needs to be shared far and wide. An Alabama woman by the name of Angela Williams shared a graphic photo of her son, lying in a hospital bed with a beaten and fractured face, on Facebook. It needs to be shared far and wide, because this is unacceptable.It is unclear why Williams  son was in police custody or what sort of altercation resulted in his arrest, but when you see the photo you will realize that these details matter not. Cops are not supposed to beat and brutalize those in their custody. In the post you are about to see, Ms. Williams expresses her hope that the cops had their body cameras on while they were beating her son, but I think we all know that there will be some kind of convenient  malfunction  to explain away the lack of existence of dash or body camera footage of what was clearly a brutal beating. Hell, it could even be described as attempted murder. Something tells me that this young man will never be the same. Without further ado, here is what Troy, Alabama s finest decided was appropriate treatment of Angela Williams  son:No matter what the perceived crime of this young man might be, this is completely unacceptable. The cops who did this need to rot in jail for a long, long time   but what you wanna bet they get a paid vacation while the force  investigates  itself, only to have the officers returned to duty posthaste?This, folks, is why we say BLACK LIVES MATTER. No way in hell would this have happened if Angela Williams  son had been white. Please share far and wide, and stay tuned to Addicting Info for further updates.Featured image via David McNew/Stringer/Getty Images',\n",
       "       'Donald Trump spent a good portion of his day at his golf club, marking the 84th day he s done so since taking the oath of office. It must have been a bad game because just after that, Trump lashed out at FBI Deputy Director Andrew McCabe on Twitter following a report saying McCabe plans to retire in a few months. The report follows McCabe s testimony in front of congressional committees this week, as well as mounting criticism from Republicans regarding the Russia probe.So, naturally, Trump attacked McCabe with a lie. How can FBI Deputy Director Andrew McCabe, the man in charge, along with leakin  James Comey, of the Phony Hillary Clinton investigation (including her 33,000 illegally deleted emails) be given $700,000 for wife s campaign by Clinton Puppets during investigation?  Trump tweeted.How can FBI Deputy Director Andrew McCabe, the man in charge, along with leakin  James Comey, of the Phony Hillary Clinton investigation (including her 33,000 illegally deleted emails) be given $700,000 for wife s campaign by Clinton Puppets during investigation?  Donald J. Trump (@realDonaldTrump) December 23, 2017He didn t stop there.FBI Deputy Director Andrew McCabe is racing the clock to retire with full benefits. 90 days to go?!!!  Donald J. Trump (@realDonaldTrump) December 23, 2017Wow,  FBI lawyer James Baker reassigned,  according to @FoxNews.  Donald J. Trump (@realDonaldTrump) December 23, 2017With all of the Intel at Trump s disposal, he s getting his information from Fox News. McCabe spent most of his career in the fight against terrorism and now he s being attacked by the so-called president. Trump has been fact-checked before on his claim of his wife receiving $700,000 for her campaign.Politifact noted in late July that Trump s  tweet about Andrew McCabe is a significant distortion of the facts. And the implication that McCabe got Clinton off as a political favor doesn t make much sense when we look at the evidence. His July tweet was rated  mostly false.  But Trump repeats these lies because he knows his supporters will believe them without bothering to Google. It s still a lie, though.Photo by Zach Gibson   Pool/Getty Images.',\n",
       "       'In the wake of yet another court decision that derailed Donald Trump s plan to bar Muslims from entering the United States, the New York Times published a report on Saturday morning detailing the president s frustration at not getting his way   and how far back that frustration goes.According to the article, back in June, Trump stomped into the Oval Office, furious about the state of the travel ban, which he thought would be implemented and fully in place by then. Instead, he fumed, visas had already been issued to immigrants at such a rate that his  friends were calling to say he looked like a fool  after making his broad pronouncements.It was then that Trump began reading from a document that a top advisor, noted white supremacist Stephen Miller, had handed him just before the meeting with his Cabinet. The page listed how many visas had been issued this year, and included 2,500 from Afghanistan (a country not on the travel ban), 15,000 from Haiti (also not included), and 40,000 from Nigeria (sensing a pattern yet?), and Trump expressed his dismay at each.According to witnesses in the room who spoke to the Times on condition of anonymity, and who were interviewed along with three dozen others for the article, Trump called out each country for its faults as he read: Afghanistan was a  terrorist haven,  the people of Nigeria would  never go back to their huts once they saw the glory of America, and immigrants from Haiti  all have AIDS. Despite the extensive research done by the newspaper, the White House of course denies that any such language was used.But given Trump s racist history and his advisor Stephen Miller s blatant white nationalism, it would be no surprise if a Freedom of Information Act request turned up that the document in question had the statements printed inline as commentary for the president to punctuate his anger with. It was Miller, after all, who was responsible for the  American Carnage  speech that Trump delivered at his inauguration.This racist is a menace to America, and he doesn t represent anything that this country stands for. Let s hope that more indictments from Robert Mueller are on their way as we speak.Featured image via Chris Kleponis/Pool/Getty Images',\n",
       "       'Many people have raised the alarm regarding the fact that Donald Trump is dangerously close to becoming an autocrat. The thing is, democracies become autocracies right under the people s noses, because they can often look like democracies in the beginning phases. This was explained by Republican David Frum just a couple of months into Donald Trump s presidency, in a piece in The Atlantic called  How to Build an Autocracy. In fact, if you really look critically at what is happening right now   the systematic discrediting of vital institutions such as the free press and the Federal Bureau of Investigation as well the direct weaponization of the Department of Justice in order to go after Trump s former political opponent, 2016 Democratic nominee Hillary Clinton, and you have the makings of an autocracy. We are more than well on our way. Further, one chamber of Congress, the House of Representatives, already has a rogue band of Republicans who are running a parallel investigation to the official Russian collusion investigation, with the explicit intent of undermining and discrediting the idea that Trump could have possibly done anything wrong with the Russians in order to swing the 2016 election in his favor.All of that is just for starters, too. Now, we have Trump making United Nations Ambassador Nikki Haley bully and threaten other countries in the United Nations who voted against Trump s decision to change U.S. policy when it comes to recognition of Jerusalem as the capital of the Jewish State. Well, one expert, who is usually quite measured, has had enough of Trump s autocratic antics: Former CIA Director John O. Brennan. The seasoned spy took to Trump s favorite platform, Twitter, and blasted the decision:Trump Admin threat to retaliate against nations that exercise sovereign right in UN to oppose US position on Jerusalem is beyond outrageous. Shows @realDonaldTrump expects blind loyalty and subservience from everyone qualities usually found in narcissistic, vengeful autocrats.  John O. Brennan (@JohnBrennan) December 21, 2017Director Brennan is correct, of course. Trump is behaving just like an autocrat, and so many people in the nation are asleep when it comes to this dangerous age, in which the greatest threat to democracy and the very fabric of the republic itself is the American president. Fellow Americans, we know the GOP-led Congress will not be the check on Trump that they are supposed to be. It s time to get out and flip the House and possibly the Senate in 2018, and resist in the meantime, if we want to save our country from devolving into something that looks more like Russia or North Korea than the America we have always know. We re already well on our way.Featured image via BRENDAN SMIALOWSKI/AFP/Getty Images',\n",
       "       'Just when you might have thought we d get a break from watching people kiss Donald Trump s ass and stroke his ego ad nauseam, a pro-Trump group creates an ad that s nothing but people doing even more of those exact things. America First Policies is set to release this ad, called  Thank You, President Trump,  on Christmas Day and, well, we threw up a little in our mouths trying to watch this.Basically, the spot is nothing but people fawning all over Trump for all the stuff he hasn t actually done. The ad includes a scene with a little girl thanking Trump for bringing back  Merry Christmas,  which never went away (there are even videos of President Obama saying  Merry Christmas  himself). A man thanks him for cutting his taxes. And America First says that everyday Americans everywhere are thanking Trump for being such a great and awesome president.The best president.Nobody s ever done what he s done. He s breaking all kinds of records every day.Believe us.Anyway, the word  propaganda  comes to mind when watching this. That s what it is   literal propaganda promoting someone who shouldn t need this kind of promotion anymore. Watch this ad bullshit below:The way the MAGAs are kowtowing to Orange Hitler is both disgusting and frightening. The man has done nothing, and his policies will harm the very same Americans who are thanking him. Unfortunately, it will take an obscene amount of pain before they ll open their eyes and see they ve been duped by a con man with a bad hairdo.And his ongoing need for this kind of adoration is, at best, unbecoming of his office. This ad is vile.Featured image via Al Drago-Pool/Getty Images'],\n",
       "      dtype=object)"
      ]
     },
     "metadata": {},
     "output_type": "display_data"
    }
   ],
   "source": [
    "## data = fake news challenge\n",
    "import pandas as pd\n",
    "fake_news_article_data = pd.read_csv('data/fake_news_challenge/Fake.csv', sep=',', index_col=False)\n",
    "real_news_article_data = pd.read_csv('data/fake_news_challenge/True.csv', sep=',', index_col=False)\n",
    "# get rid of duplicate articles\n",
    "fake_news_article_data.drop_duplicates('text', inplace=True)\n",
    "real_news_article_data.drop_duplicates('text', inplace=True)\n",
    "display(fake_news_article_data.loc[:, 'text'].head(10).values)"
   ]
  },
  {
   "cell_type": "markdown",
   "metadata": {},
   "source": [
    "Before we try topic modeling, we have to convert the text to a usable format (document-term matrix, like before)."
   ]
  },
  {
   "cell_type": "code",
   "execution_count": 220,
   "metadata": {},
   "outputs": [
    {
     "name": "stderr",
     "output_type": "stream",
     "text": [
      "/home/ianbstew/miniconda3/envs/CORE_tutorial/lib/python3.8/site-packages/sklearn/feature_extraction/text.py:383: UserWarning: Your stop_words may be inconsistent with your preprocessing. Tokenizing the stop words generated tokens [\"'\", 'aren', 'can', 'couldn', 'd', 'didn', 'doesn', 'don', 'hadn', 'hasn', 'haven', 'isn', 'let', 'll', 'm', 'mustn', 're', 's', 'shan', 'shouldn', 't', 've', 'wasn', 'weren', 'won', 'wouldn'] not in stop_words.\n",
      "  warnings.warn('Your stop_words may be inconsistent with '\n"
     ]
    },
    {
     "name": "stdout",
     "output_type": "stream",
     "text": [
      "(38647, 13508)\n"
     ]
    }
   ],
   "source": [
    "from sklearn.feature_extraction.text import CountVectorizer\n",
    "from nltk.tokenize import WordPunctTokenizer\n",
    "from stop_words import get_stop_words\n",
    "## combine text data, keep track of fake/real news indices\n",
    "combined_news_text = fake_news_article_data.loc[:, 'text'].append(real_news_article_data.loc[:, 'text'])\n",
    "fake_news_text_indices = list(range(fake_news_article_data.shape[0]))\n",
    "real_news_text_indices = list(range(fake_news_article_data.shape[0], combined_news_text.shape[0]))\n",
    "## convert text to DTM\n",
    "en_stops = get_stop_words('en')\n",
    "tokenizer = WordPunctTokenizer()\n",
    "cv = CountVectorizer(min_df=0.001, max_df=0.75, lowercase=True, \n",
    "                     ngram_range=(1,1), stop_words=en_stops, tokenizer=tokenizer.tokenize)\n",
    "combined_news_text_dtm = cv.fit_transform(combined_news_text)\n",
    "print(combined_news_text_dtm.shape)"
   ]
  },
  {
   "cell_type": "markdown",
   "metadata": {},
   "source": [
    "For our first method, let's try Latent Semantic Analysis, which is a form of dimensionality reduction."
   ]
  },
  {
   "cell_type": "code",
   "execution_count": 221,
   "metadata": {},
   "outputs": [
    {
     "name": "stdout",
     "output_type": "stream",
     "text": [
      "(38647, 10)\n"
     ]
    }
   ],
   "source": [
    "## LSA\n",
    "from sklearn.decomposition import TruncatedSVD\n",
    "num_topics = 10\n",
    "num_iter = 10\n",
    "lsa_model = TruncatedSVD(n_components=num_topics, n_iter=num_iter, random_state=123)\n",
    "combined_news_text_lsa_topics = lsa_model.fit_transform(combined_news_text_dtm)\n",
    "print(combined_news_text_lsa_topics.shape)"
   ]
  },
  {
   "cell_type": "markdown",
   "metadata": {},
   "source": [
    "The LSA process outputs continuous values [-inf, +inf] which we need to convert to probabilities [0,1]. We can use the softmax function along each dimension to convert the topic-document matrix to probabilities:\n",
    "\n",
    "$$\\text{softmax}(x_{i}) = \\frac{e^{x_{i}}}{\\sum_{j}^{K}e^{x_{j}}}$$\n",
    "\n",
    "where $x$ is one of $K$ topic dimensions."
   ]
  },
  {
   "cell_type": "code",
   "execution_count": 222,
   "metadata": {},
   "outputs": [],
   "source": [
    "from sklearn.utils.extmath import softmax\n",
    "from sklearn.preprocessing import StandardScaler\n",
    "import numpy as np\n",
    "# convert per-column scores to a normal distribution (0,1)\n",
    "scaler = StandardScaler()\n",
    "combined_news_text_lsa_topic_scores = scaler.fit_transform(combined_news_text_lsa_topics)\n",
    "# soft-max per-column\n",
    "combined_news_text_lsa_topic_probs = softmax(combined_news_text_lsa_topic_scores.T).T\n",
    "# normalize per-row so that probabilities sum to 1\n",
    "combined_news_text_lsa_topic_probs = combined_news_text_lsa_topic_probs / combined_news_text_lsa_topic_probs.sum(axis=1).reshape(-1,1)"
   ]
  },
  {
   "cell_type": "markdown",
   "metadata": {},
   "source": [
    "What is the expected probability of a document being assigned to a topic?"
   ]
  },
  {
   "cell_type": "code",
   "execution_count": 227,
   "metadata": {},
   "outputs": [
    {
     "name": "stdout",
     "output_type": "stream",
     "text": [
      "expected probability of topics = \n",
      "0    0.618483\n",
      "1    0.000006\n",
      "2    0.000006\n",
      "3    0.000007\n",
      "4    0.215442\n",
      "5    0.000013\n",
      "6    0.000009\n",
      "7    0.156142\n",
      "8    0.000013\n",
      "9    0.009879\n",
      "dtype: float64\n"
     ]
    }
   ],
   "source": [
    "combined_news_text_lsa_expected_topics = pd.Series(combined_news_text_lsa_topic_probs.mean(axis=0))\n",
    "print(f'expected probability of topics = \\n{combined_news_text_lsa_expected_topics}')"
   ]
  },
  {
   "cell_type": "markdown",
   "metadata": {},
   "source": [
    "It looks like the data is \"dominated\" by 3 topics with high probability."
   ]
  },
  {
   "cell_type": "markdown",
   "metadata": {},
   "source": [
    "To figure out what \"topics\" the model learned, let's look at the news articles with the highest probability for each topic.\n",
    "\n",
    "We'll take the arg-max along each topic and print the text for the corresponding articles.\n",
    "We'll look at the most likely topics (0, 4, 7) as a first pass."
   ]
  },
  {
   "cell_type": "code",
   "execution_count": 258,
   "metadata": {},
   "outputs": [],
   "source": [
    "def show_articles_with_highest_prob_per_topic(doc_topic_probs, doc_text, num_topics):\n",
    "    topic_ids = list(range(num_topics))\n",
    "    top_articles_per_topic = 10\n",
    "    text_sample_len = 200\n",
    "    for topic_id_i in topic_ids:\n",
    "        print(f'processing topic {topic_id_i}')\n",
    "        # get indices for articles with highest topic probability\n",
    "        top_article_indices_i = np.argsort(doc_topic_probs[:, topic_id_i])[-top_articles_per_topic:]\n",
    "        top_article_indices_i = list(reversed(top_article_indices_i))\n",
    "        for index_j in top_article_indices_i:\n",
    "            topic_prob_i_j = doc_topic_probs[index_j, topic_id_i]\n",
    "            print(f'\\tarticle {index_j} has P(topic)={topic_prob_i_j} with text = {doc_text.iloc[index_j][:text_sample_len]}')"
   ]
  },
  {
   "cell_type": "code",
   "execution_count": 260,
   "metadata": {
    "scrolled": true
   },
   "outputs": [
    {
     "name": "stdout",
     "output_type": "stream",
     "text": [
      "processing topic 0\n",
      "\tarticle 9196 has P(topic)=0.9999988709477023 with text = With mainstream media and establishment politicians stacked against him from the moment he announced his run for the presidency, Donald J. Trump has been in an ongoing pitched battle to communicate hi\n",
      "\tarticle 17381 has P(topic)=0.9999964560569015 with text = Shawn Helton   21st Century WireGOP presidential frontrunner Donald Trump is a populist candidate among a bevy of warhawk rivals  yet many still wonder how the real estate mogul has marched virtually \n",
      "\tarticle 12986 has P(topic)=0.9999855797336982 with text = This is a must read for anyone who s undecided or plans on voting for a third party candidate It covers all the bases and cements for you the duty as an American to do what s best for our nation. If y\n",
      "\tarticle 16773 has P(topic)=0.999961726727553 with text =  By ramping up US troop levels in Afghanistan, Trump is alienating many supporters. (Photo: DoD/USAF Tech Sgt Brigitte N Brantley. Source: Wikicommons)Miles Elliot 21st Century WireOn Monday night, US\n",
      "\tarticle 14524 has P(topic)=0.9999345815786133 with text = I just happened to be listening to Rush today and want to pass this on to everyone. Please share this and stop the false story being reported to try and bring down Trump. It s bad enough that the left\n",
      "\tarticle 16765 has P(topic)=0.99982108262459 with text = One of the ancillary benefits of Donald Trump s insurgence into the US political scene has been a forceful injection of realism into the national political discourse. One of those points of discussion\n",
      "\tarticle 11458 has P(topic)=0.9997847530153907 with text = THE TRANSCRIPT OF PRESIDENT TRUMP S SPEECH TO CONGRESS: THE VIDEOS ARE BELOWMr. Speaker, Mr. Vice President, Members of Congress, the First Lady of the United States, and Citizens of America: Tonight,\n",
      "\tarticle 16961 has P(topic)=0.9997644695032993 with text =  Andrew Korybko 21st Century Wire The global media is awash with analysis and speculation about the resignation of former National Security Advisor Michael Flynn, with everyone trying to make sense of\n",
      "\tarticle 11074 has P(topic)=0.9997302172152327 with text = Bruce Springsteen aka  The Boss  is showing all of his fans just how out of touch he is with his latest song. He s been a fervent anti-Trump guy and has been very outspoken against President Donald Tr\n",
      "\tarticle 23291 has P(topic)=0.9997202290114336 with text = WASHINGTON (Reuters) - President Donald Trump’s administration on Sunday tempered a key element of his move to ban entry of refugees and people from seven Muslim-majority countries in the face of moun\n",
      "processing topic 1\n",
      "\tarticle 7715 has P(topic)=0.2500214490524349 with text = I ve been saying for a long time now that the Republican Party was on the verge of splitting   and I was right. Sort of. I always assumed that the establishment would control the party with an iron fi\n",
      "\tarticle 8527 has P(topic)=6.249481637247137e-17 with text = Donald Rumsfeld is in full damage control mode after a declassified memo from 2002 making the rounds revealed that he lied about Iraq s  WMDs.  Like anyone desperate to sway public opinion and keep hi\n",
      "\tarticle 14325 has P(topic)=9.949766806089017e-48 with text = // <![CDATA[ (function(d, s, id) { var js, fjs = d.getElementsByTagName(s)[0]; if (d.getElementById(id)) return; js = d.createElement(s); js.id = id; js.src = \"//connect.facebook.net/en_GB/sdk.js#xfbm\n",
      "\tarticle 8504 has P(topic)=5.090977407911721e-48 with text = On Tuesday night, the FBI finally stopped treating the Oregon militants with kid gloves and arrested several of them as they were on their way to terrorize another local town meeting. One of the milit\n",
      "\tarticle 16368 has P(topic)=4.3580559372811437e-48 with text = Fundamental transformation Obama style Henry Claude Agnew   Miami, FL Offense: Conspiracy to possess with intent to distribute 50 grams or more of cocaine base; Southern District of Florida Sentence: \n",
      "\tarticle 7226 has P(topic)=3.6706855667560644e-48 with text = On Monday, President Obama and the First Lady gave numerous children the day of a lifetime at their final installment of the annual White House Easter Egg Roll. During the festivities Barack and Miche\n",
      "\tarticle 14464 has P(topic)=2.8204235625460446e-48 with text = Because everyone deserves a  safe space right? The White Student Union (WSU) at the University of California, Santa Barbara (UCSB), a new student club dedicated to creating a  safe, supportive and inc\n",
      "\tarticle 15469 has P(topic)=1.665798338894183e-48 with text = Just making room for Hillary President Obama today announced his decision to commute the sentences of 22 convicted drug offenders   many of them serving time after being convicted of conspiracy to dis\n",
      "\tarticle 17194 has P(topic)=1.2682175109810976e-48 with text =  Jay Dyer 21st Century WireDemonstrating where bad hermeneutics and theology lead, plus evidence of a continued conspiracy against historic Orthodox Christianity.Pastor John Hagee of the the large Cor\n",
      "\tarticle 16471 has P(topic)=1.2456181288773135e-48 with text = Islamic terrorist Syed Farook threatened his coworkers at work. Farook reportedly threatened conservative Nicholas Thalasinos before the attack:Farook had been threatening him, telling him that islam \n",
      "processing topic 2\n",
      "\tarticle 7715 has P(topic)=0.25002144904958323 with text = I ve been saying for a long time now that the Republican Party was on the verge of splitting   and I was right. Sort of. I always assumed that the establishment would control the party with an iron fi\n",
      "\tarticle 8527 has P(topic)=1.4161640737809974e-07 with text = Donald Rumsfeld is in full damage control mode after a declassified memo from 2002 making the rounds revealed that he lied about Iraq s  WMDs.  Like anyone desperate to sway public opinion and keep hi\n",
      "\tarticle 14325 has P(topic)=2.0122779617995e-20 with text = // <![CDATA[ (function(d, s, id) { var js, fjs = d.getElementsByTagName(s)[0]; if (d.getElementById(id)) return; js = d.createElement(s); js.id = id; js.src = \"//connect.facebook.net/en_GB/sdk.js#xfbm\n",
      "\tarticle 25321 has P(topic)=1.8186937965402463e-20 with text = LONDON, Oct 6 (Reuters) - Officials from the U.S. government’s health research agency are to be questioned by a congressional committee about why taxpayers are funding a World Health Organization canc\n",
      "\tarticle 18933 has P(topic)=1.5967795260792177e-20 with text = (Reuters) - “What Happened,” Hillary Clinton’s memoir of her unsuccessful bid to win the 2016 U.S. presidential election, topped the U.S. non-fiction bestsellers list on Thursday, fending off a challe\n",
      "\tarticle 25994 has P(topic)=1.2828902412354804e-20 with text = (Reuters) - A federal appeals court on Friday refused to dismiss a corruption indictment against Senator Robert Menendez of New Jersey, rejecting the Democrat’s claim that the U.S. Constitution shield\n",
      "\tarticle 26686 has P(topic)=1.2720177524989898e-20 with text = SEOUL (Reuters) - U.S. Treasury Secretary Jack Lew said on Friday China would see “very bad consequences” for its economy and bilateral U.S. relations if it backs away from its stated goals to open it\n",
      "\tarticle 17558 has P(topic)=1.2639422831535493e-20 with text = WASHINGTON () - The top Democrat on the Senate environment committee on Monday asked the Environmental Protection Agency’s internal watchdog to audit a recent trip to Morocco by the agency’s head to d\n",
      "\tarticle 28191 has P(topic)=1.2475544672361756e-20 with text = WASHINGTON (Reuters) - The United States and the European Union warned China on Wednesday that it should respect an international court ruling expected later this year on its dispute with the Philippi\n",
      "\tarticle 25007 has P(topic)=1.2459230501766304e-20 with text = WASHINGTON (Reuters) - Twelve U.S. senators urged on Wednesday that a national security review panel reject Chinese aluminum giant Zhongwang International Group Ltd’s proposed $2.3 billion purchase of\n",
      "processing topic 3\n",
      "\tarticle 7715 has P(topic)=0.25002143301685886 with text = I ve been saying for a long time now that the Republican Party was on the verge of splitting   and I was right. Sort of. I always assumed that the establishment would control the party with an iron fi\n",
      "\tarticle 8527 has P(topic)=0.0007963395859219796 with text = Donald Rumsfeld is in full damage control mode after a declassified memo from 2002 making the rounds revealed that he lied about Iraq s  WMDs.  Like anyone desperate to sway public opinion and keep hi\n",
      "\tarticle 1476 has P(topic)=7.701232348799275e-07 with text = Trump s long record of tweet-before-think action has gotten him into some hot water in the past, but somehow a few weird pre-POTUS tweets from November 2014 through January 2015 went largely unnoticed\n",
      "\tarticle 8223 has P(topic)=6.344714439710209e-07 with text = On the morning after Donald Trump s  yuge  win in the New Hampshire primary, it has been revealed that the comedy website Funny or Die has created a Donald Trump movie starring Johnny Depp that they h\n",
      "\tarticle 7398 has P(topic)=6.253757035891284e-07 with text = Looking back at all of the offensive, ridiculous things that Republican front runner Donald Trump has said over the past few months, it seems that Trump would probably have a more promising career in \n",
      "\tarticle 7099 has P(topic)=5.422467230647659e-07 with text = Why has Fox News been Donald Trump s cheerleader, even while he viciously attacks its employees? The answer may be as simple as blackmail.While much of the Republican establishment has turned on Donal\n",
      "\tarticle 6023 has P(topic)=5.030305558352276e-07 with text = The war of words between Donald Trump and Elizabeth Warren just reached an epic new height. On Saturday, during the Democrats of Massachusetts state convention, Warren did the best thing that you can \n",
      "\tarticle 11924 has P(topic)=4.6326272028537234e-07 with text = UPDATE: Trump 304 Clinton 224, Other 6 and 4 pending votes remaining.Among the electors today, there were more Hillary defectors than Trump defectors. Go HERE to see who they were and which states the\n",
      "\tarticle 3365 has P(topic)=4.5913514015859434e-07 with text = Donald Trump is NOT going to like this one bit.Saturday Night Live delivered a Christmas episode this week, and the cold-open was an instant classic because it featured the return of Alec Baldwin as D\n",
      "\tarticle 7049 has P(topic)=4.474832807711429e-07 with text = In growing signs that rumors of a Fox News split on GOP frontrunner Donald Trump are true, Bill O Reilly is the latest Fox News heavyweight to take a swing at the Trump Campaign. The O Reilly Factor h\n",
      "processing topic 4\n",
      "\tarticle 2639 has P(topic)=0.9998430499824424 with text = In another of Donald Trump s whine rests, the Dictator in Chief accused the media of not reporting terrorist attacks. On Tuesday, Trump released the list of  unreported terrorist attacks,  which not s\n",
      "\tarticle 20257 has P(topic)=0.9767325700683852 with text = (Reuters) - U.S. Environmental Protection Agency Administrator Scott Pruitt gave Reuters a wide-ranging interview on Monday at his office in Washington, discussing issues from climate science to autom\n",
      "\tarticle 15469 has P(topic)=0.9704133342510767 with text = Just making room for Hillary President Obama today announced his decision to commute the sentences of 22 convicted drug offenders   many of them serving time after being convicted of conspiracy to dis\n",
      "\tarticle 25889 has P(topic)=0.9569081604739679 with text = The following timeline charts the origin and spread of the Zika virus from its discovery nearly 70 years ago: 1947: Scientists researching yellow fever in Uganda’s Zika Forest identify the virus in a \n",
      "\tarticle 25912 has P(topic)=0.951168620212223 with text = The following timeline charts the origin and spread of the Zika virus from its discovery nearly 70 years ago: 1947: Scientists researching yellow fever in Uganda’s Zika Forest identify the virus in a \n",
      "\tarticle 26413 has P(topic)=0.9306040242760982 with text = The following timeline charts the origin and spread of the Zika virus from its discovery nearly 70 years ago: 1947: Scientists researching yellow fever in Uganda’s Zika Forest identify the virus in a \n",
      "\tarticle 25602 has P(topic)=0.9278690342782157 with text = The following timeline charts the origin and spread of the Zika virus from its discovery nearly 70 years ago: 1947: Scientists researching yellow fever in Uganda’s Zika Forest identify the virus in a \n",
      "\tarticle 13138 has P(topic)=0.9159755709811789 with text = Isn t it great when the day after a major terror attack in France, citizens can wake up in America, and fear more organized chaos and violence in cities across the nation? A group claiming to be the h\n",
      "\tarticle 13784 has P(topic)=0.9137451115573264 with text = The number of law enforcement officials killed by gunfire is up 150% this year. In an effort to pander for the black vote, Hillary says she would like our police officers to be  retrained.  She ignore\n",
      "\tarticle 11996 has P(topic)=0.9125048221649962 with text = Start Counting. Keep Counting. Stop Counting? Michigan's election recount hearing set to start in Detroit. Will judge change course?  Tresa Baldas (@TBaldas) December 7, 2016Hallroom chatter in Michig\n",
      "processing topic 5\n",
      "\tarticle 16368 has P(topic)=0.33349776006921444 with text = Fundamental transformation Obama style Henry Claude Agnew   Miami, FL Offense: Conspiracy to possess with intent to distribute 50 grams or more of cocaine base; Southern District of Florida Sentence: \n",
      "\tarticle 9730 has P(topic)=0.0834747457437534 with text = We just discovered another reason NOT to support the NFL The man who is the most anti-American person we know is now connected to The National Football League Players Association (NFLPA)  The NFLPA ha\n",
      "\tarticle 12151 has P(topic)=0.06678569240247917 with text = There have been many articles written about George Soros and his collectivist activism. Soros is a business magnate, investor, philanthropist, and author who is of Jewish-Hungarian ancestry and holds \n",
      "\tarticle 2639 has P(topic)=1.2285985921507085e-09 with text = In another of Donald Trump s whine rests, the Dictator in Chief accused the media of not reporting terrorist attacks. On Tuesday, Trump released the list of  unreported terrorist attacks,  which not s\n",
      "\tarticle 15469 has P(topic)=8.634582947821147e-11 with text = Just making room for Hillary President Obama today announced his decision to commute the sentences of 22 convicted drug offenders   many of them serving time after being convicted of conspiracy to dis\n",
      "\tarticle 25889 has P(topic)=2.3487170541740163e-11 with text = The following timeline charts the origin and spread of the Zika virus from its discovery nearly 70 years ago: 1947: Scientists researching yellow fever in Uganda’s Zika Forest identify the virus in a \n",
      "\tarticle 25912 has P(topic)=1.8427937222597498e-11 with text = The following timeline charts the origin and spread of the Zika virus from its discovery nearly 70 years ago: 1947: Scientists researching yellow fever in Uganda’s Zika Forest identify the virus in a \n",
      "\tarticle 25602 has P(topic)=5.177084214199015e-12 with text = The following timeline charts the origin and spread of the Zika virus from its discovery nearly 70 years ago: 1947: Scientists researching yellow fever in Uganda’s Zika Forest identify the virus in a \n",
      "\tarticle 13138 has P(topic)=1.2689879520103517e-12 with text = Isn t it great when the day after a major terror attack in France, citizens can wake up in America, and fear more organized chaos and violence in cities across the nation? A group claiming to be the h\n",
      "\tarticle 26413 has P(topic)=9.932068060586355e-13 with text = The following timeline charts the origin and spread of the Zika virus from its discovery nearly 70 years ago: 1947: Scientists researching yellow fever in Uganda’s Zika Forest identify the virus in a \n",
      "processing topic 6\n",
      "\tarticle 16368 has P(topic)=0.3335009803315562 with text = Fundamental transformation Obama style Henry Claude Agnew   Miami, FL Offense: Conspiracy to possess with intent to distribute 50 grams or more of cocaine base; Southern District of Florida Sentence: \n",
      "\tarticle 12151 has P(topic)=1.7970409124294507e-05 with text = There have been many articles written about George Soros and his collectivist activism. Soros is a business magnate, investor, philanthropist, and author who is of Jewish-Hungarian ancestry and holds \n",
      "\tarticle 9730 has P(topic)=6.5205199995001584e-06 with text = We just discovered another reason NOT to support the NFL The man who is the most anti-American person we know is now connected to The National Football League Players Association (NFLPA)  The NFLPA ha\n",
      "\tarticle 2639 has P(topic)=4.944852178063546e-07 with text = In another of Donald Trump s whine rests, the Dictator in Chief accused the media of not reporting terrorist attacks. On Tuesday, Trump released the list of  unreported terrorist attacks,  which not s\n",
      "\tarticle 25889 has P(topic)=1.4386214037616028e-08 with text = The following timeline charts the origin and spread of the Zika virus from its discovery nearly 70 years ago: 1947: Scientists researching yellow fever in Uganda’s Zika Forest identify the virus in a \n",
      "\tarticle 25912 has P(topic)=1.2503568666969358e-08 with text = The following timeline charts the origin and spread of the Zika virus from its discovery nearly 70 years ago: 1947: Scientists researching yellow fever in Uganda’s Zika Forest identify the virus in a \n",
      "\tarticle 15469 has P(topic)=3.948541785244184e-09 with text = Just making room for Hillary President Obama today announced his decision to commute the sentences of 22 convicted drug offenders   many of them serving time after being convicted of conspiracy to dis\n",
      "\tarticle 25602 has P(topic)=3.937639762632037e-09 with text = The following timeline charts the origin and spread of the Zika virus from its discovery nearly 70 years ago: 1947: Scientists researching yellow fever in Uganda’s Zika Forest identify the virus in a \n",
      "\tarticle 26413 has P(topic)=7.829748354716145e-10 with text = The following timeline charts the origin and spread of the Zika virus from its discovery nearly 70 years ago: 1947: Scientists researching yellow fever in Uganda’s Zika Forest identify the virus in a \n",
      "\tarticle 4360 has P(topic)=4.003366643889331e-10 with text = We all already know that Republican presidential nominee Donald Trump is a loose cannon, especially when it comes to his Twitter habits. Tuesday night during the vice presidential debate was no differ\n",
      "processing topic 7\n",
      "\tarticle 17163 has P(topic)=0.9999998174324105 with text =  Patrick Henningsen 21st Century WireThe longer this soap opera drags on, it s becoming more and more evident that the Russian government did not  hack  into the DNC, and Moscow is not feeding John Po\n",
      "\tarticle 17156 has P(topic)=0.9999111326651935 with text = Patrick Henningsen 21st Century Wire Hillary Clinton is the architect of US foreign policy failures in Libya and Syria.   We ve heard that statement many times over the course of this US election cycl\n",
      "\tarticle 15200 has P(topic)=0.9993791845604001 with text =  We came,we saw, he died    HRCIn short, without Mrs. Clinton s vigorous intervention, Qadhafi would still be in power, Libya would still be a country, and the jihadis who now own the place would be t\n",
      "\tarticle 17172 has P(topic)=0.9992376292743136 with text = 21st Century Wire says In a stunning turn of events 11 days before the 2016 presidential election, the FBI announced it is reopenning its investigation into Hillary Clinton s email server case, by pro\n",
      "\tarticle 12275 has P(topic)=0.9988649684964663 with text = As federal agents prepare to scour roughly 650,000 emails to see how many relate to a prior probe of Hillary Clinton s email use, the surprise disclosure that investigators were pursuing the potential\n",
      "\tarticle 9388 has P(topic)=0.9987895287685193 with text = Houston, Texas trial lawyer and Democrat mega-donor Steve Mostyn died on Thursday in what authorities are saying was a  suicide,  according to the Houston Chronicle. Mr. Mostyn was only 46, he left be\n",
      "\tarticle 9128 has P(topic)=0.9983948393514039 with text = After Judicial Watch exposed a serious ethics issue related to FBI Deputy Director Andrew McCabe s involvement in his Democrat wife s VA Senate campaign, President Trump just took to Twitter to expose\n",
      "\tarticle 17055 has P(topic)=0.9976674280497341 with text =  Funny how secrets travel. I d start to believe, if I were to bleed.    Lyrics written by David Bowie from the album OutsideShawn Helton 21st Century Wire In the days before the US presidential electi\n",
      "\tarticle 12504 has P(topic)=0.9966296900912579 with text = Hillary won t be able to claim a vast right-wing conspiracy when she sees the article the left-leaning New York Times published. The article outlines how Hillary aggressively pursued the women her hus\n",
      "\tarticle 16673 has P(topic)=0.9949346659656779 with text = Looking back on the 2016 Presidential election, there was a non-stop chorus on denials by Hillary Clinton, her campaign surrogates, and the mainstream media   that had not allowed any classified email\n",
      "processing topic 8\n",
      "\tarticle 13979 has P(topic)=0.5005831099513072 with text = Bill and Hillary Clinton whored themselves out for over $25 million dollars from 2013 to 2015   the disturbing thing is that there is no video or transcript to be found of these speeches. The list of \n",
      "\tarticle 17526 has P(topic)=0.0051182476288964785 with text = (Reuters) - The U.S. House of Representatives gave final approval on Wednesday to a sweeping, debt-financed tax bill in a midday vote. It now will go to President Donald Trump to sign into law, althou\n",
      "\tarticle 18226 has P(topic)=0.00446128837399628 with text = (Reuters) - The U.S. House of Representatives’ tax panel continued debating amendments on Tuesday to a tax bill offered by congressional Republicans and President Donald Trump. The following are its m\n",
      "\tarticle 17564 has P(topic)=0.00279088211265672 with text = (Reuters) - The U.S. Congress is expected to vote this week on sweeping, debt-financed tax legislation. Here are key parts of the bill. CORPORATE TAX RATE: Cuts corporate income tax rate to 21 percent\n",
      "\tarticle 18310 has P(topic)=0.001713195908464876 with text = (Reuters) - Republicans in the U.S. House of Representatives on Thursday released details of a 429-page tax bill that calls for slashing taxes on corporations, along with many other changes affecting \n",
      "\tarticle 9102 has P(topic)=0.0007544067136691973 with text = The U.N. voted against America moving our embassy to Jerusalem, raising the question of what we pay to those who voted against us. The grand total of all donations to countries around the world (using\n",
      "\tarticle 17598 has P(topic)=8.227777083120038e-05 with text = (Reuters) - Republicans in the U.S. Congress reached a deal on tax legislation on Wednesday, clearing the way for final votes next week on a package that, if approved, would be sent to President Donal\n",
      "\tarticle 15877 has P(topic)=5.77136579713153e-05 with text = Thanks to Obama s promise to shut down the coal industry, West Virginia comes in at #50. It s also interesting to note where Washington DC ranks in the nations best economies and why.Business Insider \n",
      "\tarticle 14222 has P(topic)=5.2177373440247643e-05 with text = Hey Bernie fans! You might want to take a look at this:BernieSanders.com, Medicare for All: Leaving No One Behind:How Much Will It Cost and How Do We Pay For It?How Much Will It Cost? This plan has be\n",
      "\tarticle 24450 has P(topic)=5.104063238789467e-05 with text = (Reuters) - U.S. President-elect Donald Trump is holding more meetings on Monday as he prepares to make high-level appointments, his transition team said. Below are people mentioned as contenders for \n",
      "processing topic 9\n",
      "\tarticle 15877 has P(topic)=0.9999388554070874 with text = Thanks to Obama s promise to shut down the coal industry, West Virginia comes in at #50. It s also interesting to note where Washington DC ranks in the nations best economies and why.Business Insider \n",
      "\tarticle 9102 has P(topic)=0.99916934193888 with text = The U.N. voted against America moving our embassy to Jerusalem, raising the question of what we pay to those who voted against us. The grand total of all donations to countries around the world (using\n",
      "\tarticle 12521 has P(topic)=0.9974436024771169 with text = The hypocrisy of our media is astounding! What about Hillary s major corporate donors like GE for example, that have been working the loopholes in our tax system for decades? Does anyone care that Hil\n",
      "\tarticle 17564 has P(topic)=0.9869043994983824 with text = (Reuters) - The U.S. Congress is expected to vote this week on sweeping, debt-financed tax legislation. Here are key parts of the bill. CORPORATE TAX RATE: Cuts corporate income tax rate to 21 percent\n",
      "\tarticle 17526 has P(topic)=0.9821024347525106 with text = (Reuters) - The U.S. House of Representatives gave final approval on Wednesday to a sweeping, debt-financed tax bill in a midday vote. It now will go to President Donald Trump to sign into law, althou\n",
      "\tarticle 32982 has P(topic)=0.9811396291949954 with text = SEOUL (Reuters) - Take the dregs left from making soy bean oil, which usually go to feed the pigs. Press and roll them into a sandy-colored paste. Stuff with rice, and top with chilli sauce. The dish \n",
      "\tarticle 21626 has P(topic)=0.9650610787306579 with text = (Reuters) - The United Nations Security Council has issued a wide range of sanctions against North Korea, including entities and individuals in the reclusive country, for pursuing nuclear and ballisti\n",
      "\tarticle 37500 has P(topic)=0.9593165651273784 with text = BEIJING/CHICAGO (Reuters) - United Nations sanctions on North Korea s important textiles industry are expected to disrupt a business largely based in China and pose compliance headaches for clothing r\n",
      "\tarticle 37866 has P(topic)=0.9499215836023938 with text = BEIJING (Reuters) - When Kim Jong Un inherited power in North Korea in late 2011, then-Chinese president Hu Jintao was outwardly supportive of the untested young leader, predicting that  traditional f\n",
      "\tarticle 34284 has P(topic)=0.9474354594626806 with text = SEOUL (Reuters) - Former U.S. presidential candidate Hillary Clinton said on Wednesday that  cavalier  threats to start war on the Korean peninsula were  dangerous and short-sighted , urging the Unite\n"
     ]
    }
   ],
   "source": [
    "show_articles_with_highest_prob_per_topic(combined_news_text_lsa_topic_probs, combined_news_text, num_topics)"
   ]
  },
  {
   "cell_type": "code",
   "execution_count": 229,
   "metadata": {
    "scrolled": true
   },
   "outputs": [
    {
     "name": "stdout",
     "output_type": "stream",
     "text": [
      "processing topic 0\n",
      "\tarticle 9196 has P(topic)=0.9999988709477023 with text = With mainstream media and establishment politicians stacked against him from the moment he announced his run for the presidency, Donald J. Trump has been in an ongoing pitched battle to communicate hi\n",
      "\tarticle 17381 has P(topic)=0.9999964560569015 with text = Shawn Helton   21st Century WireGOP presidential frontrunner Donald Trump is a populist candidate among a bevy of warhawk rivals  yet many still wonder how the real estate mogul has marched virtually \n",
      "\tarticle 12986 has P(topic)=0.9999855797336982 with text = This is a must read for anyone who s undecided or plans on voting for a third party candidate It covers all the bases and cements for you the duty as an American to do what s best for our nation. If y\n",
      "\tarticle 16773 has P(topic)=0.999961726727553 with text =  By ramping up US troop levels in Afghanistan, Trump is alienating many supporters. (Photo: DoD/USAF Tech Sgt Brigitte N Brantley. Source: Wikicommons)Miles Elliot 21st Century WireOn Monday night, US\n",
      "\tarticle 14524 has P(topic)=0.9999345815786133 with text = I just happened to be listening to Rush today and want to pass this on to everyone. Please share this and stop the false story being reported to try and bring down Trump. It s bad enough that the left\n",
      "\tarticle 16765 has P(topic)=0.99982108262459 with text = One of the ancillary benefits of Donald Trump s insurgence into the US political scene has been a forceful injection of realism into the national political discourse. One of those points of discussion\n",
      "\tarticle 11458 has P(topic)=0.9997847530153907 with text = THE TRANSCRIPT OF PRESIDENT TRUMP S SPEECH TO CONGRESS: THE VIDEOS ARE BELOWMr. Speaker, Mr. Vice President, Members of Congress, the First Lady of the United States, and Citizens of America: Tonight,\n",
      "\tarticle 16961 has P(topic)=0.9997644695032993 with text =  Andrew Korybko 21st Century Wire The global media is awash with analysis and speculation about the resignation of former National Security Advisor Michael Flynn, with everyone trying to make sense of\n",
      "\tarticle 11074 has P(topic)=0.9997302172152327 with text = Bruce Springsteen aka  The Boss  is showing all of his fans just how out of touch he is with his latest song. He s been a fervent anti-Trump guy and has been very outspoken against President Donald Tr\n",
      "\tarticle 23291 has P(topic)=0.9997202290114336 with text = WASHINGTON (Reuters) - President Donald Trump’s administration on Sunday tempered a key element of his move to ban entry of refugees and people from seven Muslim-majority countries in the face of moun\n",
      "processing topic 1\n",
      "\tarticle 7715 has P(topic)=0.2500214490524349 with text = I ve been saying for a long time now that the Republican Party was on the verge of splitting   and I was right. Sort of. I always assumed that the establishment would control the party with an iron fi\n",
      "\tarticle 8527 has P(topic)=6.249481637247137e-17 with text = Donald Rumsfeld is in full damage control mode after a declassified memo from 2002 making the rounds revealed that he lied about Iraq s  WMDs.  Like anyone desperate to sway public opinion and keep hi\n",
      "\tarticle 14325 has P(topic)=9.949766806089017e-48 with text = // <![CDATA[ (function(d, s, id) { var js, fjs = d.getElementsByTagName(s)[0]; if (d.getElementById(id)) return; js = d.createElement(s); js.id = id; js.src = \"//connect.facebook.net/en_GB/sdk.js#xfbm\n",
      "\tarticle 8504 has P(topic)=5.090977407911721e-48 with text = On Tuesday night, the FBI finally stopped treating the Oregon militants with kid gloves and arrested several of them as they were on their way to terrorize another local town meeting. One of the milit\n",
      "\tarticle 16368 has P(topic)=4.3580559372811437e-48 with text = Fundamental transformation Obama style Henry Claude Agnew   Miami, FL Offense: Conspiracy to possess with intent to distribute 50 grams or more of cocaine base; Southern District of Florida Sentence: \n",
      "\tarticle 7226 has P(topic)=3.6706855667560644e-48 with text = On Monday, President Obama and the First Lady gave numerous children the day of a lifetime at their final installment of the annual White House Easter Egg Roll. During the festivities Barack and Miche\n",
      "\tarticle 14464 has P(topic)=2.8204235625460446e-48 with text = Because everyone deserves a  safe space right? The White Student Union (WSU) at the University of California, Santa Barbara (UCSB), a new student club dedicated to creating a  safe, supportive and inc\n",
      "\tarticle 15469 has P(topic)=1.665798338894183e-48 with text = Just making room for Hillary President Obama today announced his decision to commute the sentences of 22 convicted drug offenders   many of them serving time after being convicted of conspiracy to dis\n",
      "\tarticle 17194 has P(topic)=1.2682175109810976e-48 with text =  Jay Dyer 21st Century WireDemonstrating where bad hermeneutics and theology lead, plus evidence of a continued conspiracy against historic Orthodox Christianity.Pastor John Hagee of the the large Cor\n",
      "\tarticle 16471 has P(topic)=1.2456181288773135e-48 with text = Islamic terrorist Syed Farook threatened his coworkers at work. Farook reportedly threatened conservative Nicholas Thalasinos before the attack:Farook had been threatening him, telling him that islam \n",
      "processing topic 2\n",
      "\tarticle 7715 has P(topic)=0.25002144904958323 with text = I ve been saying for a long time now that the Republican Party was on the verge of splitting   and I was right. Sort of. I always assumed that the establishment would control the party with an iron fi\n",
      "\tarticle 8527 has P(topic)=1.4161640737809974e-07 with text = Donald Rumsfeld is in full damage control mode after a declassified memo from 2002 making the rounds revealed that he lied about Iraq s  WMDs.  Like anyone desperate to sway public opinion and keep hi\n",
      "\tarticle 14325 has P(topic)=2.0122779617995e-20 with text = // <![CDATA[ (function(d, s, id) { var js, fjs = d.getElementsByTagName(s)[0]; if (d.getElementById(id)) return; js = d.createElement(s); js.id = id; js.src = \"//connect.facebook.net/en_GB/sdk.js#xfbm\n",
      "\tarticle 25321 has P(topic)=1.8186937965402463e-20 with text = LONDON, Oct 6 (Reuters) - Officials from the U.S. government’s health research agency are to be questioned by a congressional committee about why taxpayers are funding a World Health Organization canc\n",
      "\tarticle 18933 has P(topic)=1.5967795260792177e-20 with text = (Reuters) - “What Happened,” Hillary Clinton’s memoir of her unsuccessful bid to win the 2016 U.S. presidential election, topped the U.S. non-fiction bestsellers list on Thursday, fending off a challe\n",
      "\tarticle 25994 has P(topic)=1.2828902412354804e-20 with text = (Reuters) - A federal appeals court on Friday refused to dismiss a corruption indictment against Senator Robert Menendez of New Jersey, rejecting the Democrat’s claim that the U.S. Constitution shield\n",
      "\tarticle 26686 has P(topic)=1.2720177524989898e-20 with text = SEOUL (Reuters) - U.S. Treasury Secretary Jack Lew said on Friday China would see “very bad consequences” for its economy and bilateral U.S. relations if it backs away from its stated goals to open it\n",
      "\tarticle 17558 has P(topic)=1.2639422831535493e-20 with text = WASHINGTON () - The top Democrat on the Senate environment committee on Monday asked the Environmental Protection Agency’s internal watchdog to audit a recent trip to Morocco by the agency’s head to d\n",
      "\tarticle 28191 has P(topic)=1.2475544672361756e-20 with text = WASHINGTON (Reuters) - The United States and the European Union warned China on Wednesday that it should respect an international court ruling expected later this year on its dispute with the Philippi\n",
      "\tarticle 25007 has P(topic)=1.2459230501766304e-20 with text = WASHINGTON (Reuters) - Twelve U.S. senators urged on Wednesday that a national security review panel reject Chinese aluminum giant Zhongwang International Group Ltd’s proposed $2.3 billion purchase of\n",
      "processing topic 3\n",
      "\tarticle 7715 has P(topic)=0.25002143301685886 with text = I ve been saying for a long time now that the Republican Party was on the verge of splitting   and I was right. Sort of. I always assumed that the establishment would control the party with an iron fi\n",
      "\tarticle 8527 has P(topic)=0.0007963395859219796 with text = Donald Rumsfeld is in full damage control mode after a declassified memo from 2002 making the rounds revealed that he lied about Iraq s  WMDs.  Like anyone desperate to sway public opinion and keep hi\n",
      "\tarticle 1476 has P(topic)=7.701232348799275e-07 with text = Trump s long record of tweet-before-think action has gotten him into some hot water in the past, but somehow a few weird pre-POTUS tweets from November 2014 through January 2015 went largely unnoticed\n",
      "\tarticle 8223 has P(topic)=6.344714439710209e-07 with text = On the morning after Donald Trump s  yuge  win in the New Hampshire primary, it has been revealed that the comedy website Funny or Die has created a Donald Trump movie starring Johnny Depp that they h\n",
      "\tarticle 7398 has P(topic)=6.253757035891284e-07 with text = Looking back at all of the offensive, ridiculous things that Republican front runner Donald Trump has said over the past few months, it seems that Trump would probably have a more promising career in \n",
      "\tarticle 7099 has P(topic)=5.422467230647659e-07 with text = Why has Fox News been Donald Trump s cheerleader, even while he viciously attacks its employees? The answer may be as simple as blackmail.While much of the Republican establishment has turned on Donal\n",
      "\tarticle 6023 has P(topic)=5.030305558352276e-07 with text = The war of words between Donald Trump and Elizabeth Warren just reached an epic new height. On Saturday, during the Democrats of Massachusetts state convention, Warren did the best thing that you can \n",
      "\tarticle 11924 has P(topic)=4.6326272028537234e-07 with text = UPDATE: Trump 304 Clinton 224, Other 6 and 4 pending votes remaining.Among the electors today, there were more Hillary defectors than Trump defectors. Go HERE to see who they were and which states the\n",
      "\tarticle 3365 has P(topic)=4.5913514015859434e-07 with text = Donald Trump is NOT going to like this one bit.Saturday Night Live delivered a Christmas episode this week, and the cold-open was an instant classic because it featured the return of Alec Baldwin as D\n",
      "\tarticle 7049 has P(topic)=4.474832807711429e-07 with text = In growing signs that rumors of a Fox News split on GOP frontrunner Donald Trump are true, Bill O Reilly is the latest Fox News heavyweight to take a swing at the Trump Campaign. The O Reilly Factor h\n",
      "processing topic 4\n",
      "\tarticle 2639 has P(topic)=0.9998430499824424 with text = In another of Donald Trump s whine rests, the Dictator in Chief accused the media of not reporting terrorist attacks. On Tuesday, Trump released the list of  unreported terrorist attacks,  which not s\n",
      "\tarticle 20257 has P(topic)=0.9767325700683852 with text = (Reuters) - U.S. Environmental Protection Agency Administrator Scott Pruitt gave Reuters a wide-ranging interview on Monday at his office in Washington, discussing issues from climate science to autom\n",
      "\tarticle 15469 has P(topic)=0.9704133342510767 with text = Just making room for Hillary President Obama today announced his decision to commute the sentences of 22 convicted drug offenders   many of them serving time after being convicted of conspiracy to dis\n",
      "\tarticle 25889 has P(topic)=0.9569081604739679 with text = The following timeline charts the origin and spread of the Zika virus from its discovery nearly 70 years ago: 1947: Scientists researching yellow fever in Uganda’s Zika Forest identify the virus in a \n",
      "\tarticle 25912 has P(topic)=0.951168620212223 with text = The following timeline charts the origin and spread of the Zika virus from its discovery nearly 70 years ago: 1947: Scientists researching yellow fever in Uganda’s Zika Forest identify the virus in a \n",
      "\tarticle 26413 has P(topic)=0.9306040242760982 with text = The following timeline charts the origin and spread of the Zika virus from its discovery nearly 70 years ago: 1947: Scientists researching yellow fever in Uganda’s Zika Forest identify the virus in a \n",
      "\tarticle 25602 has P(topic)=0.9278690342782157 with text = The following timeline charts the origin and spread of the Zika virus from its discovery nearly 70 years ago: 1947: Scientists researching yellow fever in Uganda’s Zika Forest identify the virus in a \n",
      "\tarticle 13138 has P(topic)=0.9159755709811789 with text = Isn t it great when the day after a major terror attack in France, citizens can wake up in America, and fear more organized chaos and violence in cities across the nation? A group claiming to be the h\n",
      "\tarticle 13784 has P(topic)=0.9137451115573264 with text = The number of law enforcement officials killed by gunfire is up 150% this year. In an effort to pander for the black vote, Hillary says she would like our police officers to be  retrained.  She ignore\n",
      "\tarticle 11996 has P(topic)=0.9125048221649962 with text = Start Counting. Keep Counting. Stop Counting? Michigan's election recount hearing set to start in Detroit. Will judge change course?  Tresa Baldas (@TBaldas) December 7, 2016Hallroom chatter in Michig\n",
      "processing topic 5\n",
      "\tarticle 16368 has P(topic)=0.33349776006921444 with text = Fundamental transformation Obama style Henry Claude Agnew   Miami, FL Offense: Conspiracy to possess with intent to distribute 50 grams or more of cocaine base; Southern District of Florida Sentence: \n",
      "\tarticle 9730 has P(topic)=0.0834747457437534 with text = We just discovered another reason NOT to support the NFL The man who is the most anti-American person we know is now connected to The National Football League Players Association (NFLPA)  The NFLPA ha\n",
      "\tarticle 12151 has P(topic)=0.06678569240247917 with text = There have been many articles written about George Soros and his collectivist activism. Soros is a business magnate, investor, philanthropist, and author who is of Jewish-Hungarian ancestry and holds \n",
      "\tarticle 2639 has P(topic)=1.2285985921507085e-09 with text = In another of Donald Trump s whine rests, the Dictator in Chief accused the media of not reporting terrorist attacks. On Tuesday, Trump released the list of  unreported terrorist attacks,  which not s\n",
      "\tarticle 15469 has P(topic)=8.634582947821147e-11 with text = Just making room for Hillary President Obama today announced his decision to commute the sentences of 22 convicted drug offenders   many of them serving time after being convicted of conspiracy to dis\n",
      "\tarticle 25889 has P(topic)=2.3487170541740163e-11 with text = The following timeline charts the origin and spread of the Zika virus from its discovery nearly 70 years ago: 1947: Scientists researching yellow fever in Uganda’s Zika Forest identify the virus in a \n",
      "\tarticle 25912 has P(topic)=1.8427937222597498e-11 with text = The following timeline charts the origin and spread of the Zika virus from its discovery nearly 70 years ago: 1947: Scientists researching yellow fever in Uganda’s Zika Forest identify the virus in a \n",
      "\tarticle 25602 has P(topic)=5.177084214199015e-12 with text = The following timeline charts the origin and spread of the Zika virus from its discovery nearly 70 years ago: 1947: Scientists researching yellow fever in Uganda’s Zika Forest identify the virus in a \n",
      "\tarticle 13138 has P(topic)=1.2689879520103517e-12 with text = Isn t it great when the day after a major terror attack in France, citizens can wake up in America, and fear more organized chaos and violence in cities across the nation? A group claiming to be the h\n",
      "\tarticle 26413 has P(topic)=9.932068060586355e-13 with text = The following timeline charts the origin and spread of the Zika virus from its discovery nearly 70 years ago: 1947: Scientists researching yellow fever in Uganda’s Zika Forest identify the virus in a \n",
      "processing topic 6\n",
      "\tarticle 16368 has P(topic)=0.3335009803315562 with text = Fundamental transformation Obama style Henry Claude Agnew   Miami, FL Offense: Conspiracy to possess with intent to distribute 50 grams or more of cocaine base; Southern District of Florida Sentence: \n",
      "\tarticle 12151 has P(topic)=1.7970409124294507e-05 with text = There have been many articles written about George Soros and his collectivist activism. Soros is a business magnate, investor, philanthropist, and author who is of Jewish-Hungarian ancestry and holds \n",
      "\tarticle 9730 has P(topic)=6.5205199995001584e-06 with text = We just discovered another reason NOT to support the NFL The man who is the most anti-American person we know is now connected to The National Football League Players Association (NFLPA)  The NFLPA ha\n",
      "\tarticle 2639 has P(topic)=4.944852178063546e-07 with text = In another of Donald Trump s whine rests, the Dictator in Chief accused the media of not reporting terrorist attacks. On Tuesday, Trump released the list of  unreported terrorist attacks,  which not s\n",
      "\tarticle 25889 has P(topic)=1.4386214037616028e-08 with text = The following timeline charts the origin and spread of the Zika virus from its discovery nearly 70 years ago: 1947: Scientists researching yellow fever in Uganda’s Zika Forest identify the virus in a \n",
      "\tarticle 25912 has P(topic)=1.2503568666969358e-08 with text = The following timeline charts the origin and spread of the Zika virus from its discovery nearly 70 years ago: 1947: Scientists researching yellow fever in Uganda’s Zika Forest identify the virus in a \n",
      "\tarticle 15469 has P(topic)=3.948541785244184e-09 with text = Just making room for Hillary President Obama today announced his decision to commute the sentences of 22 convicted drug offenders   many of them serving time after being convicted of conspiracy to dis\n",
      "\tarticle 25602 has P(topic)=3.937639762632037e-09 with text = The following timeline charts the origin and spread of the Zika virus from its discovery nearly 70 years ago: 1947: Scientists researching yellow fever in Uganda’s Zika Forest identify the virus in a \n",
      "\tarticle 26413 has P(topic)=7.829748354716145e-10 with text = The following timeline charts the origin and spread of the Zika virus from its discovery nearly 70 years ago: 1947: Scientists researching yellow fever in Uganda’s Zika Forest identify the virus in a \n",
      "\tarticle 4360 has P(topic)=4.003366643889331e-10 with text = We all already know that Republican presidential nominee Donald Trump is a loose cannon, especially when it comes to his Twitter habits. Tuesday night during the vice presidential debate was no differ\n",
      "processing topic 7\n",
      "\tarticle 17163 has P(topic)=0.9999998174324105 with text =  Patrick Henningsen 21st Century WireThe longer this soap opera drags on, it s becoming more and more evident that the Russian government did not  hack  into the DNC, and Moscow is not feeding John Po\n",
      "\tarticle 17156 has P(topic)=0.9999111326651935 with text = Patrick Henningsen 21st Century Wire Hillary Clinton is the architect of US foreign policy failures in Libya and Syria.   We ve heard that statement many times over the course of this US election cycl\n",
      "\tarticle 15200 has P(topic)=0.9993791845604001 with text =  We came,we saw, he died    HRCIn short, without Mrs. Clinton s vigorous intervention, Qadhafi would still be in power, Libya would still be a country, and the jihadis who now own the place would be t\n",
      "\tarticle 17172 has P(topic)=0.9992376292743136 with text = 21st Century Wire says In a stunning turn of events 11 days before the 2016 presidential election, the FBI announced it is reopenning its investigation into Hillary Clinton s email server case, by pro\n",
      "\tarticle 12275 has P(topic)=0.9988649684964663 with text = As federal agents prepare to scour roughly 650,000 emails to see how many relate to a prior probe of Hillary Clinton s email use, the surprise disclosure that investigators were pursuing the potential\n",
      "\tarticle 9388 has P(topic)=0.9987895287685193 with text = Houston, Texas trial lawyer and Democrat mega-donor Steve Mostyn died on Thursday in what authorities are saying was a  suicide,  according to the Houston Chronicle. Mr. Mostyn was only 46, he left be\n",
      "\tarticle 9128 has P(topic)=0.9983948393514039 with text = After Judicial Watch exposed a serious ethics issue related to FBI Deputy Director Andrew McCabe s involvement in his Democrat wife s VA Senate campaign, President Trump just took to Twitter to expose\n",
      "\tarticle 17055 has P(topic)=0.9976674280497341 with text =  Funny how secrets travel. I d start to believe, if I were to bleed.    Lyrics written by David Bowie from the album OutsideShawn Helton 21st Century Wire In the days before the US presidential electi\n",
      "\tarticle 12504 has P(topic)=0.9966296900912579 with text = Hillary won t be able to claim a vast right-wing conspiracy when she sees the article the left-leaning New York Times published. The article outlines how Hillary aggressively pursued the women her hus\n",
      "\tarticle 16673 has P(topic)=0.9949346659656779 with text = Looking back on the 2016 Presidential election, there was a non-stop chorus on denials by Hillary Clinton, her campaign surrogates, and the mainstream media   that had not allowed any classified email\n",
      "processing topic 8\n",
      "\tarticle 13979 has P(topic)=0.5005831099513072 with text = Bill and Hillary Clinton whored themselves out for over $25 million dollars from 2013 to 2015   the disturbing thing is that there is no video or transcript to be found of these speeches. The list of \n",
      "\tarticle 17526 has P(topic)=0.0051182476288964785 with text = (Reuters) - The U.S. House of Representatives gave final approval on Wednesday to a sweeping, debt-financed tax bill in a midday vote. It now will go to President Donald Trump to sign into law, althou\n",
      "\tarticle 18226 has P(topic)=0.00446128837399628 with text = (Reuters) - The U.S. House of Representatives’ tax panel continued debating amendments on Tuesday to a tax bill offered by congressional Republicans and President Donald Trump. The following are its m\n",
      "\tarticle 17564 has P(topic)=0.00279088211265672 with text = (Reuters) - The U.S. Congress is expected to vote this week on sweeping, debt-financed tax legislation. Here are key parts of the bill. CORPORATE TAX RATE: Cuts corporate income tax rate to 21 percent\n",
      "\tarticle 18310 has P(topic)=0.001713195908464876 with text = (Reuters) - Republicans in the U.S. House of Representatives on Thursday released details of a 429-page tax bill that calls for slashing taxes on corporations, along with many other changes affecting \n",
      "\tarticle 9102 has P(topic)=0.0007544067136691973 with text = The U.N. voted against America moving our embassy to Jerusalem, raising the question of what we pay to those who voted against us. The grand total of all donations to countries around the world (using\n",
      "\tarticle 17598 has P(topic)=8.227777083120038e-05 with text = (Reuters) - Republicans in the U.S. Congress reached a deal on tax legislation on Wednesday, clearing the way for final votes next week on a package that, if approved, would be sent to President Donal\n",
      "\tarticle 15877 has P(topic)=5.77136579713153e-05 with text = Thanks to Obama s promise to shut down the coal industry, West Virginia comes in at #50. It s also interesting to note where Washington DC ranks in the nations best economies and why.Business Insider \n",
      "\tarticle 14222 has P(topic)=5.2177373440247643e-05 with text = Hey Bernie fans! You might want to take a look at this:BernieSanders.com, Medicare for All: Leaving No One Behind:How Much Will It Cost and How Do We Pay For It?How Much Will It Cost? This plan has be\n",
      "\tarticle 24450 has P(topic)=5.104063238789467e-05 with text = (Reuters) - U.S. President-elect Donald Trump is holding more meetings on Monday as he prepares to make high-level appointments, his transition team said. Below are people mentioned as contenders for \n",
      "processing topic 9\n",
      "\tarticle 15877 has P(topic)=0.9999388554070874 with text = Thanks to Obama s promise to shut down the coal industry, West Virginia comes in at #50. It s also interesting to note where Washington DC ranks in the nations best economies and why.Business Insider \n",
      "\tarticle 9102 has P(topic)=0.99916934193888 with text = The U.N. voted against America moving our embassy to Jerusalem, raising the question of what we pay to those who voted against us. The grand total of all donations to countries around the world (using\n",
      "\tarticle 12521 has P(topic)=0.9974436024771169 with text = The hypocrisy of our media is astounding! What about Hillary s major corporate donors like GE for example, that have been working the loopholes in our tax system for decades? Does anyone care that Hil\n",
      "\tarticle 17564 has P(topic)=0.9869043994983824 with text = (Reuters) - The U.S. Congress is expected to vote this week on sweeping, debt-financed tax legislation. Here are key parts of the bill. CORPORATE TAX RATE: Cuts corporate income tax rate to 21 percent\n",
      "\tarticle 17526 has P(topic)=0.9821024347525106 with text = (Reuters) - The U.S. House of Representatives gave final approval on Wednesday to a sweeping, debt-financed tax bill in a midday vote. It now will go to President Donald Trump to sign into law, althou\n",
      "\tarticle 32982 has P(topic)=0.9811396291949954 with text = SEOUL (Reuters) - Take the dregs left from making soy bean oil, which usually go to feed the pigs. Press and roll them into a sandy-colored paste. Stuff with rice, and top with chilli sauce. The dish \n",
      "\tarticle 21626 has P(topic)=0.9650610787306579 with text = (Reuters) - The United Nations Security Council has issued a wide range of sanctions against North Korea, including entities and individuals in the reclusive country, for pursuing nuclear and ballisti\n",
      "\tarticle 37500 has P(topic)=0.9593165651273784 with text = BEIJING/CHICAGO (Reuters) - United Nations sanctions on North Korea s important textiles industry are expected to disrupt a business largely based in China and pose compliance headaches for clothing r\n",
      "\tarticle 37866 has P(topic)=0.9499215836023938 with text = BEIJING (Reuters) - When Kim Jong Un inherited power in North Korea in late 2011, then-Chinese president Hu Jintao was outwardly supportive of the untested young leader, predicting that  traditional f\n",
      "\tarticle 34284 has P(topic)=0.9474354594626806 with text = SEOUL (Reuters) - Former U.S. presidential candidate Hillary Clinton said on Wednesday that  cavalier  threats to start war on the Korean peninsula were  dangerous and short-sighted , urging the Unite\n"
     ]
    }
   ],
   "source": [
    "topic_ids = list(range(num_topics))\n",
    "top_articles_per_topic = 10\n",
    "for topic_id_i in topic_ids:\n",
    "    print(f'processing topic {topic_id_i}')\n",
    "    # get indices for articles with highest topic probability\n",
    "    top_article_indices_i = np.argsort(combined_news_text_lsa_topic_probs[:, topic_id_i])[-top_articles_per_topic:]\n",
    "    top_article_indices_i = list(reversed(top_article_indices_i))\n",
    "    for index_j in top_article_indices_i:\n",
    "        topic_prob_i_j = combined_news_text_lsa_topic_probs[index_j, topic_id_i]\n",
    "        print(f'\\tarticle {index_j} has P(topic)={topic_prob_i_j} with text = {combined_news_text.iloc[index_j][:200]}')"
   ]
  },
  {
   "cell_type": "markdown",
   "metadata": {},
   "source": [
    "Looking at the article text qualitatively, we observe the following:\n",
    "\n",
    "- Topic 0 includes major election issues such as U.S. president Trump's campaign and action in office.\n",
    "- Topic 4 includes more subjective claims (`anti-American`, `whine`) and more extreme issues (`conspiracy`, `chaos`, `violence`).\n",
    "- Topic 7 includes discussion of the 2016 election, particularly related to Clinton (`email`, `classified`)."
   ]
  },
  {
   "cell_type": "markdown",
   "metadata": {},
   "source": [
    "Which topics are more prevalent in fake news versus real news?"
   ]
  },
  {
   "cell_type": "code",
   "execution_count": 228,
   "metadata": {
    "scrolled": true
   },
   "outputs": [
    {
     "name": "stdout",
     "output_type": "stream",
     "text": [
      "expected probability of topics for fake news = \n",
      "0    0.587222\n",
      "1    0.000014\n",
      "2    0.000014\n",
      "3    0.000014\n",
      "4    0.254715\n",
      "5    0.000028\n",
      "6    0.000019\n",
      "7    0.150289\n",
      "8    0.000029\n",
      "9    0.007655\n",
      "dtype: float64\n",
      "expected probability of topics for real news = \n",
      "0    6.442312e-01\n",
      "1    6.450358e-50\n",
      "2    4.350468e-21\n",
      "3    2.759873e-08\n",
      "4    1.830952e-01\n",
      "5    2.407049e-15\n",
      "6    1.779703e-12\n",
      "7    1.609624e-01\n",
      "8    7.720062e-07\n",
      "9    1.171039e-02\n",
      "dtype: float64\n"
     ]
    }
   ],
   "source": [
    "fake_news_text_lsa_topic_probs = combined_news_text_lsa_topic_probs[fake_news_text_indices, :]\n",
    "real_news_text_lsa_topic_probs = combined_news_text_lsa_topic_probs[real_news_text_indices, :]\n",
    "fake_news_text_lsa_expected_topics = pd.Series(fake_news_text_lsa_topic_probs.mean(axis=0))\n",
    "real_news_text_lsa_expected_topics = pd.Series(real_news_text_lsa_topic_probs.mean(axis=0))\n",
    "print(f'expected probability of topics for fake news = \\n{fake_news_text_lsa_expected_topics}')\n",
    "print(f'expected probability of topics for real news = \\n{real_news_text_lsa_expected_topics}')"
   ]
  },
  {
   "cell_type": "markdown",
   "metadata": {},
   "source": [
    "It looks like real news discusses topic 0 (possible criticism of Trump?) slightly more than fake news, while fake news discusses discusses topic 4 (conspiracy theories?) slightly more than real news."
   ]
  },
  {
   "cell_type": "markdown",
   "metadata": {},
   "source": [
    "While this is a useful first pass on the data, it doesn't help us identify which words or phrases may differentiate fake news from real news. \n",
    "\n",
    "We'll move onto a more complicated method (Latent Dirichlet Allocation) that identifies latent topics from which words are \"generated.\" \n",
    "This will help us pull out specific words that characterize the topics."
   ]
  },
  {
   "cell_type": "code",
   "execution_count": 249,
   "metadata": {
    "scrolled": true
   },
   "outputs": [],
   "source": [
    "## LDA\n",
    "# get text tokens first using the CountVectorizer from earlier\n",
    "combined_news_text_dtm_tokens = cv.inverse_transform(combined_news_text_dtm)\n",
    "from gensim.corpora import Dictionary\n",
    "lda_dict = Dictionary(combined_news_text_dtm_tokens)\n",
    "combined_news_text_corpus = list(map(lambda x: lda_dict.doc2bow(x), combined_news_text_dtm_tokens))\n",
    "# train model\n",
    "from gensim.models import LdaModel\n",
    "num_topics = 10\n",
    "iterations = 50\n",
    "lda_model = LdaModel(corpus=combined_news_text_corpus, num_topics=10, iterations=iterations)"
   ]
  },
  {
   "cell_type": "markdown",
   "metadata": {},
   "source": [
    "Like before, let's look at the distribution of topics over all documents and get a sense of the articles that correspond to each topic."
   ]
  },
  {
   "cell_type": "code",
   "execution_count": 261,
   "metadata": {},
   "outputs": [
    {
     "name": "stdout",
     "output_type": "stream",
     "text": [
      "expected value of LDA topics =\n",
      "[0.05210339 0.10082803 0.09245355 0.19189136 0.06793168 0.08321581\n",
      " 0.07276974 0.06280325 0.14228573 0.13371876]\n"
     ]
    }
   ],
   "source": [
    "def compute_lda_topic_probs(text_doc, model):\n",
    "    doc_topics = model.get_document_topics(text_doc, minimum_probability=0.)\n",
    "    # convert to probability array\n",
    "    doc_topic_ids, doc_topic_probs = zip(*doc_topics)\n",
    "    return doc_topic_probs\n",
    "combined_news_text_lda_topic_probs = np.array(list(map(lambda x: compute_lda_topic_probs(x, lda_model), combined_news_text_corpus)))\n",
    "combined_news_text_lda_topic_expected_prob = combined_news_text_lda_topic_probs.mean(axis=0)\n",
    "print(f'expected value of LDA topics =\\n{combined_news_text_lda_topic_expected_prob}')"
   ]
  },
  {
   "cell_type": "markdown",
   "metadata": {},
   "source": [
    "In contrast to the SVD analysis, we see a more even distribution of topics. Let's see which articles were more strongly associated with each topic."
   ]
  },
  {
   "cell_type": "code",
   "execution_count": 262,
   "metadata": {},
   "outputs": [
    {
     "name": "stdout",
     "output_type": "stream",
     "text": [
      "processing topic 0\n",
      "\tarticle 14595 has P(topic)=0.9808146953582764 with text = Because Obama s doing such a great job keeping Putin in check right?  President Obama mocked Republican candidates who suggested they ll be tough with Vladimir Putin but  can t handle a bunch of CNBC \n",
      "\tarticle 11502 has P(topic)=0.9571210145950317 with text = Blow wrote in his article today for the New York Times that he has no desire to work with Trump voters. He clearly stated that there is no room for compromise with anyone who doesn t agree with him:\n",
      "\tarticle 13247 has P(topic)=0.9549550414085388 with text = Next stop after BREXIT is the US! Judge Jeanine nails it and says we need to know the facts to fight this elitist agenda. We re  tired of being lectured to by the fat cats in Washington . \n",
      "\tarticle 13839 has P(topic)=0.935684859752655 with text = Yes, it s really hard to be a dictator in America Obama obviously doesn t like power to be given to anyone but him. \n",
      "\tarticle 14139 has P(topic)=0.9249395728111267 with text = Gloria Steinem does pretty much everything she can to prove she s a big hypocrite in this interview with Bill Mayer:\n",
      "\tarticle 12829 has P(topic)=0.9249252676963806 with text = This is great! The CNN anchor tries to put words in the mouth of the Louisiana governor but it totally backfires!\n",
      "\tarticle 15002 has P(topic)=0.9249250888824463 with text = She s really good at this! This should disqualify her for the nomination don t candidates need to be vetted? \n",
      "\tarticle 14425 has P(topic)=0.909918487071991 with text = This ad is fantastic and really nails the failure of leadership from Obama and Clinton: \n",
      "\tarticle 15113 has P(topic)=0.9098236560821533 with text = I m shocked! I thought these two were buddies and this would be a fluff interview. Not so much! Ouch! \n",
      "\tarticle 15017 has P(topic)=0.9062816500663757 with text = We re not sure what s funnier, the fact that he talks about being a  pretty good president  or that he actually thinks anyone believes him when he says he can t run again because the Constitution proh\n",
      "processing topic 1\n",
      "\tarticle 26306 has P(topic)=0.9939176440238953 with text = WASHINGTON (Reuters) - Donald Trump will meet this weekend with Indiana Governor Mike Pence, a Pence spokesman said on Friday, after a report the governor was being vetted as a potential running mate \n",
      "\tarticle 14833 has P(topic)=0.9890193343162537 with text = You know what they say about playing with fire Here are Jindal s comments about Trump:Here is Trump s epic response to Jindal s comments:// <![CDATA[ (function(d, s, id) {  var js, fjs = d.getElements\n",
      "\tarticle 26191 has P(topic)=0.9890190958976746 with text = WASHINGTON (Reuters) - Presumptive Republican presidential nominee Donald Trump is expected to announce his choice for running mate at a campaign event on Friday, campaign sources said on Tuesday. Amo\n",
      "\tarticle 14384 has P(topic)=0.9884238243103027 with text = Does anyone remember a time in recent history that candidates in the Republican party caused so many hissy fits by the Left?// <![CDATA[ (function(d, s, id) { var js, fjs = d.getElementsByTagName(s)[0\n",
      "\tarticle 26259 has P(topic)=0.9883034229278564 with text = WASHINGTON (Reuters) - Democratic presumptive presidential nominee Hillary Clinton could receive her rival Bernie Sanders’ endorsement at a public event next week, ABC News reported on Wednesday, citi\n",
      "\tarticle 14461 has P(topic)=0.9865451455116272 with text =  I want everybody to know that we stand behind Donald J. Trump! (function(d, s, id) {  var js, fjs = d.getElementsByTagName(s)[0];  if (d.getElementById(id)) return;  js = d.createElement(s); js.id = \n",
      "\tarticle 23900 has P(topic)=0.9835894703865051 with text = WASHINGTON (Reuters) - President-elect Donald Trump said on Friday that he would ask congressional committees to investigate NBC’s receipt of top secret information, apparently referring to a report o\n",
      "\tarticle 25057 has P(topic)=0.9835837483406067 with text = DES MOINES, Iowa (Reuters) - U.S. Democratic presidential candidate Hillary Clinton on Friday called on the FBI to release all new information in its probe of her private email server and said she did\n",
      "\tarticle 20063 has P(topic)=0.9830076694488525 with text = WASHINGTON (Reuters) - Special counsel Robert Mueller asked the White House to save all documents related to a meeting last year between Donald Trump Jr and a Russian lawyer he was told had damaging i\n",
      "\tarticle 20264 has P(topic)=0.9826781153678894 with text = WASHINGTON (Reuters) - The U.S. House Intelligence Committee wants Donald Trump Jr. to appear before the panel to answer questions about his meeting last year with a Russian lawyer who he believed had\n",
      "processing topic 2\n",
      "\tarticle 36380 has P(topic)=0.9909021258354187 with text = LONDON (Reuters) - British police made a new arrest on Monday in their investigation into a bomb attack on a London underground train earlier this month. The man, 20, was detained at a house in the We\n",
      "\tarticle 36737 has P(topic)=0.9906172752380371 with text = LONDON (Reuters) - British detectives have arrested a 17-year-old youth in connection with a bomb attack on an underground train in London last week that injured 30 people, bringing the total number o\n",
      "\tarticle 30859 has P(topic)=0.9887390732765198 with text = COPENHAGEN (Reuters) - Divers searching waters near Copenhagen found a second arm on Wednesday that police said probably belonged to Swedish journalist Kim Wall, who died in August on board a Danish i\n",
      "\tarticle 30883 has P(topic)=0.9878221750259399 with text = ADEN (Reuters) - Assailants detonated a car bomb outside the Yemeni Finance Ministry offices in the southern city of Aden on Wednesday, killing at least two people, hospital officials and residents sa\n",
      "\tarticle 35304 has P(topic)=0.9854690432548523 with text = ACCRA (Reuters) - At least six people were killed and 35 injured, mostly suffering burns, after an explosion at a natural gas depot in Ghana s capital, fire service spokesman Billy Anaglate said on Su\n",
      "\tarticle 34629 has P(topic)=0.9847118258476257 with text = BENGALURU (Reuters) - A multi-storey building collapsed in the south Indian city of Bengaluru on Monday, killing at least five people and injuring several, officials said. The accident occurred in a d\n",
      "\tarticle 35329 has P(topic)=0.984470009803772 with text = LONDON (Reuters) - London s ambulance service said they had treated 11 people, mostly for head and leg injuries, with nine taken to hospital after a car collided with pedestrians near the city s Natur\n",
      "\tarticle 36051 has P(topic)=0.9844602346420288 with text = MOGADISHU (Reuters) - Seven people were killed when a car bomb exploded near a bus stop in a district of Somalia s capital Mogadishu on Thursday, police said. It was not yet clear who had carried out \n",
      "\tarticle 16120 has P(topic)=0.9844562411308289 with text = A refugee from Ghana has been arrested for dragging a young woman from her tent and raping her while she was on a camping holiday with her boyfriend.The young couple were on a camping trip in the Sieg\n",
      "\tarticle 35227 has P(topic)=0.983916163444519 with text = PARIS (Reuters) - A British border guard was one of 12 people arrested in France and Britain as part of an operation against arms and drugs smuggling across the English Channel, British police said on\n",
      "processing topic 3\n",
      "\tarticle 37009 has P(topic)=0.9948570132255554 with text = VIENNA (Reuters) - The United States and Iran quarreled over how Tehran s nuclear activities should be policed at a meeting of the U.N. nuclear watchdog on Monday, in a row sparked last month by Washi\n",
      "\tarticle 37655 has P(topic)=0.9947901964187622 with text = VIENNA (Reuters) - The head of the U.N. nuclear watchdog said on Monday Iran was abiding by the rules set out in a nuclear accord it signed with six world powers in 2015, after Washington suggested it\n",
      "\tarticle 19530 has P(topic)=0.9941866993904114 with text = MOSCOW (Reuters) - Russia’s next ambassador to Washington will be Anatoly Antonov, a former defense official who is subject to European sanctions over his role in the conflict in Ukraine, the Kremlin \n",
      "\tarticle 34806 has P(topic)=0.9929632544517517 with text = ANKARA (Reuters) - Iran said on Friday it would retaliate against any action targeting its armed forces and accused the United States of violating the spirit of the 2015 nuclear deal reached between T\n",
      "\tarticle 22751 has P(topic)=0.9903135895729065 with text = WASHINGTON (Reuters) - Secretary of State Rex Tillerson will visit Mexico this week along with the Homeland Security Secretary John Kelly to discuss issues including border security with the southern \n",
      "\tarticle 31720 has P(topic)=0.9902059435844421 with text = BEIJING (Reuters) - China s military on Sunday launched a website inviting the public to report leaks and fake news, as well as illegal online activities by military personnel, the latest step in a pu\n",
      "\tarticle 23093 has P(topic)=0.9892781376838684 with text = ANKARA (Reuters) - Iran on Friday denounced new sanctions imposed on it by the United States and said it would impose legal restrictions on American individuals and entities helping “regional terroris\n",
      "\tarticle 36470 has P(topic)=0.9892779588699341 with text = NEW YORK (Reuters) - France said on Saturday it was extremely concerned by Iran s ballistic missile test and called on U.N. Secretary-General Antonio Guterres to carry out a full report on the launch.\n",
      "\tarticle 19417 has P(topic)=0.9890171885490417 with text = MOSCOW (Reuters) - Moscow and Washington should re-establish direct contacts between their military and foreign policy chiefs, Russia’s new ambassador to Washington, Anatoly Antonov, said on Wednesday\n",
      "\tarticle 37769 has P(topic)=0.9888837337493896 with text = MOSCOW (Reuters) - U.S. Undersecretary of State Thomas Shannon will travel to Helsinki on Sept. 10-12 where he will meet Russian Deputy Foreign Minister Sergei Ryabkov, the U.S. Department of State sa\n",
      "processing topic 4\n",
      "\tarticle 36956 has P(topic)=0.9878244400024414 with text = The following statements were posted to the verified Twitter accounts of U.S. President Donald Trump, @realDonaldTrump and @POTUS.  The opinions expressed are his own. Reuters has not edited the state\n",
      "\tarticle 33053 has P(topic)=0.9841997623443604 with text = BEIJING (Reuters) - A senior Chinese diplomat said on Friday China has made its best efforts to resolve issues on the Korean peninsula, ahead of U.S. President Donald Trump s state visit to Beijing ne\n",
      "\tarticle 26243 has P(topic)=0.9830085635185242 with text = WASHINGTON (Reuters) - President Barack Obama will speak with European leaders about the Syrian refugee crisis, Russia and Ukraine, and the aftermath of Britain’s decision to pull out of the EU during\n",
      "\tarticle 29168 has P(topic)=0.9826745986938477 with text = WASHINGTON (Reuters) - U.S. President Donald Trump and British Prime Minister Theresa May talked about ways to move towards peace in the Middle East in a phone call on Tuesday, the White House said.  \n",
      "\tarticle 23559 has P(topic)=0.9819908738136292 with text = JERUSALEM (Reuters) - Israeli Prime Minister Benjamin Netanyahu said on Sunday he would later in the day hold his first conversation with Donald Trump since his inauguration as U.S. president. The Whi\n",
      "\tarticle 21221 has P(topic)=0.9816064238548279 with text = The following statements were posted to the verified Twitter accounts of U.S. President Donald Trump, @realDonaldTrump and @POTUS.  The opinions expressed are his own. Reuters has not edited the state\n",
      "\tarticle 32329 has P(topic)=0.9804251790046692 with text = HANOI (Reuters) - U.S. President Donald Trump said on Sunday that it was possible he could be friends with North Korean leader Kim Jong Un one day and that it would be  very, very nice  but he was not\n",
      "\tarticle 35737 has P(topic)=0.9799891114234924 with text = WASHINGTON (Reuters) - The Trump administration will not hold any talks with North Korea at this time, except for possible conversations about freeing U.S. citizens who have been detained there, the W\n",
      "\tarticle 31815 has P(topic)=0.9785643815994263 with text = GOTHENBURG, Sweden (Reuters) - British Prime Minister Theresa May and European Council President Donald Tusk agreed on Friday there was more work to be done to advance Brexit talks and discussed ways \n",
      "\tarticle 32332 has P(topic)=0.9785458445549011 with text = HANOI (Reuters) - U.S. President Donald Trump said on Sunday that he was prepared to mediate between claimants to the South China Sea, which include Vietnam and China.  If I can help mediate or arbitr\n",
      "processing topic 5\n",
      "\tarticle 2412 has P(topic)=0.9939753413200378 with text = If there is one political ideology that every American should despise, it s Nazism. But conservatives don t seem to mind it one bit.On inauguration day last month, Nazi Richard Spencer got punched in \n",
      "\tarticle 4492 has P(topic)=0.9933688044548035 with text = David Duke, a former Ku Klux Klan Grand Wizard, finally got what he deserved when he was forced out of a racist protest on Saturday in New Orleans, Louisiana.The protest Duke attended was to counter t\n",
      "\tarticle 8044 has P(topic)=0.993206262588501 with text = Another person was attacked at a Trump rally in what has become a theme at Trump events since the billionaire businessman threw in his hat for the Republican nomination for the presidency.This time, a\n",
      "\tarticle 558 has P(topic)=0.9929242730140686 with text = Donald Trump wants us to believe that he is not a sympathizer of neo-Nazis, the Ku Klux Klan, white nationalists, white supremacists and other assorted bigots. However, his statements on the white sup\n",
      "\tarticle 16046 has P(topic)=0.9913256168365479 with text = CNN has more than enough representation from the radical side of the Democrat aisle This host is yet another who speaks in terms of race and divisiveness..@wkamaubell: \"Bye Nazis!\" @KQEDnews pic.twitt\n",
      "\tarticle 7533 has P(topic)=0.9911302328109741 with text = Donald Trump has brought every racist out of the closet and given them a megaphone   as well as the courage to openly be as awful as humanly possible. His campaign events might as well be called white\n",
      "\tarticle 13599 has P(topic)=0.9833245873451233 with text = Hillary has to be one of the worst candidates to ever get this far in a presidential race. She has no idea what the American people truly want. Like every good progressive, she only knows what she bel\n",
      "\tarticle 16642 has P(topic)=0.9804033041000366 with text = After a recent speech given by Minister Louis Farrakhan, he took questions from the audience. One woman goes to the mic and asks Farrakhan about leadership and what she needs to do to be a good leader\n",
      "\tarticle 13385 has P(topic)=0.9799702763557434 with text = ***LANGUAGE WARNING*** Why is it acceptable for people who come from other damn countries to be proud of their country, but if American who is proud of the American flag is deemed  racist ? Why are yo\n",
      "\tarticle 14895 has P(topic)=0.9795272350311279 with text = Bernie Sanders can t effectively handle two loud mouthed female #BlackLiesMatter activists/thugs (see video below), but he wants America to believe he s ready to defend our nation against some of the \n",
      "processing topic 6\n",
      "\tarticle 31434 has P(topic)=0.9708809852600098 with text = THE HAGUE (Reuters) - Former Bosnian Serb military leader Ratko Mladic will appeal his conviction and life sentence, his legal team said on Wednesday after a U.N. war crimes tribunal found him guilty \n",
      "\tarticle 37612 has P(topic)=0.967830240726471 with text = WASHINGTON (Reuters) - The White House said on Monday the violent displacement of Rohingya Muslims in Myanmar showed the country s security forces were not protecting civilians.  We call on Burmese se\n",
      "\tarticle 15933 has P(topic)=0.9651864767074585 with text = The FBI defines terrorism as  the unlawful use of force or violence against persons or property to intimidate or coerce a government, the civilian population, or any segment thereof, in furtherance of\n",
      "\tarticle 15284 has P(topic)=0.957059919834137 with text = The hate for our law enforcement is at an all time high. The blame for the injuries suffered and murders of innocent law enforcement officers falls squarely on the shoulders of Eric Holder, Eric Sharp\n",
      "\tarticle 15346 has P(topic)=0.9525533318519592 with text = Marilyn Mosby held a press conference today in which she said police officers had no probable cause to arrest Freddie Gray. That s a lie  Freddie Gray had an active warrant out for his arrest so Balti\n",
      "\tarticle 14011 has P(topic)=0.9181287884712219 with text = This is a SHOCKING example of a government putting the rights of violent extreme Muslims before their own citizens: \n",
      "\tarticle 10701 has P(topic)=0.8764175772666931 with text = 1[1pro-]:  relating to, caused by, or being interference between previous learning and the recall or performance of later learning proactive inhibition of memory2[2pro- + reactive]:  acting in anticip\n",
      "\tarticle 30858 has P(topic)=0.8639184236526489 with text = THE HAGUE (Reuters) - Dutch police have declared the courtroom where a Bosnian Croat war crimes defendant said he drank poison on Wednesday during his appeals verdict a crime scene, the presiding judg\n",
      "\tarticle 30494 has P(topic)=0.8619539141654968 with text = BRUSSELS (Reuters) - A Belgian judge will decide on the exercising of a European arrest warrant for ousted Catalan leader Carles Puigdemont on Dec. 14, his lawyers said on Monday. Puigdemont and four \n",
      "\tarticle 33402 has P(topic)=0.8604423999786377 with text = MADRID (Reuters) - Spain s state prosecutor on Monday called for rebellion and  sedition charges to be brought against Catalonia s leaders over their push to separate from Spain.  Attorney-General Jos\n",
      "processing topic 7\n",
      "\tarticle 37211 has P(topic)=0.9904173016548157 with text = WELLINGTON (Reuters) - Support for New Zealand s opposition Labour Party was neck-and-neck with the National Party, a poll showed, threatening the center-right government s decade-long grip on power. \n",
      "\tarticle 35625 has P(topic)=0.9884506464004517 with text = BERLIN (Reuters) - More than half of Germans, 57 percent, want a three-way coalition between Chancellor Angela Merkel s conservatives, the pro-business Free Democrats (FDP) and Greens to govern their \n",
      "\tarticle 36512 has P(topic)=0.985707700252533 with text = WELLINGTON (Reuters) - Votes cast for New Zealand s ruling National Party hit 46.5 percent on Saturday evening with 70 percent of results counted, putting the center-right party in the lead as it vies\n",
      "\tarticle 12183 has P(topic)=0.9847237467765808 with text = Market Watch   U.S. stocks rallied Wednesday, with the Dow industrials jumping 257 points, led by a surge in financial, health-care and industrial stocks, as investors bet on the infrastructure spendi\n",
      "\tarticle 36515 has P(topic)=0.9844666719436646 with text = WELLINGTON (Reuters) - Votes cast for New Zealand s ruling National Party reached 46.3 percent with 31.4 percent of results counted in the country s general election on Saturday, while support for the\n",
      "\tarticle 35345 has P(topic)=0.9836162328720093 with text = WELLINGTON (Reuters) - New Zealand opposition Labour Party leader Jacinda Ardern said on Saturday a final election vote tally put her party in a strengthened position as it negotiates to form a govern\n",
      "\tarticle 36506 has P(topic)=0.9812251329421997 with text = WELLINGTON (Reuters) - New Zealand Labour Party leader Jacinda Ardern said the ruling National Party had taken the largest number of votes in Saturday s general election, but the race was not over yet\n",
      "\tarticle 29896 has P(topic)=0.9763026237487793 with text = CARACAS (Reuters) - Venezuela s ruling Socialist Party won at least 90 percent of the 335 mayorships contested in Sunday s local elections, President Nicolas Maduro said on Sunday.  According to the n\n",
      "\tarticle 30120 has P(topic)=0.9706395864486694 with text = BERLIN (Reuters) - German voters are punishing the pro-business Free Democrats (FDP) for walking out of three-way coalition talks last month as a poll showed on Thursday support for the party falling \n",
      "\tarticle 35992 has P(topic)=0.9674423933029175 with text = BERLIN (Reuters) - Some 59 percent of Germans want a three-way coalition of Chancellor Angela Merkel s conservatives, the pro-business Free Democrats and the environmentalist Greens to rule after a na\n",
      "processing topic 8\n",
      "\tarticle 372 has P(topic)=0.9915705919265747 with text = If you don t know who Tomi Lahren is by this point, you re clearly a very fortunate person. Lahren has made her fame off trashing everything liberal despite not knowing anything of which she speaks.Ba\n",
      "\tarticle 16042 has P(topic)=0.9914926886558533 with text = David Beckham s son posed with a gun in a modeling photo shoot. No big deal, right? Well, not so much to the big hypocrites on the left. He s being hammered on social media for holding a prop gun we k\n",
      "\tarticle 16580 has P(topic)=0.990982174873352 with text = Yes, we did say she s a Harvard Business School graduate. Just goes to show, you can t buy brains Kiran Gandhi, who has played drums for singer M.I.A. and Thievery Corporation, decided to run the Lond\n",
      "\tarticle 16463 has P(topic)=0.990500271320343 with text = Real journalism ended a long time ago, but this is a new low even for leftist Barbara Walters. Just embarrassing He was named People s Sexiest Man Alive back in 2011. And Bradley Cooper proved just wh\n",
      "\tarticle 17089 has P(topic)=0.9901001453399658 with text = Tune in to the Alternate Current Radio Network (ACR) for another LIVE broadcast of  The Boiler Room  starting at 6:00 PM PST | 8:00 PM CST | 9:00 PM EST for this special broadcast. Join us for uncenso\n",
      "\tarticle 17082 has P(topic)=0.9898736476898193 with text = Tune in to the Alternate Current Radio Network (ACR) for another LIVE broadcast of  The Boiler Room  starting at 6:00 PM PST | 8:00 PM CST | 9:00 PM EST for this special broadcast. Join us for uncenso\n",
      "\tarticle 17243 has P(topic)=0.9897622466087341 with text = Tune in to the Alternate Current Radio Network (ACR) for another LIVE broadcast of  The Boiler Room  starting at 6 PM PST | 9 PM EST for this special broadcast. Join us for uncensored, uninterruptible\n",
      "\tarticle 6525 has P(topic)=0.9895120859146118 with text = In case people weren t already aware, lesbians exist. I know, shocking, right? I mean, one even wrote this article. Reading this could be exposing you to unadulterated homosexuality. Yet, if you re no\n",
      "\tarticle 16020 has P(topic)=0.9881459474563599 with text = Lithonia, Georgia mom Octavia Parks was left dumbfounded after discovering her 12 year old daughter s health class homework.The sixth grade student from Lithonia Middle School in Lithonia, Georgia was\n",
      "\tarticle 17052 has P(topic)=0.9879885911941528 with text = Tune in to the Alternate Current Radio Network (ACR) for another LIVE broadcast of  The Boiler Room  starting at 6:00 PM PST | 8:00 PM CST | 9:00 PM EST for this special broadcast. Join us for uncenso\n",
      "processing topic 9\n",
      "\tarticle 22456 has P(topic)=0.9963042736053467 with text = (Reuters) - Republicans in the U.S. House of Representatives have unveiled a plan to replace Obamacare, known formally as the Affordable Care Act, stripping away much of President Barack Obama’s signa\n",
      "\tarticle 22504 has P(topic)=0.995881974697113 with text = (Reuters) - Republicans in the U.S. House of Representatives have unveiled a plan to replace Obamacare, known formally as the Affordable Care Act, stripping away much of Democratic President Barack Ob\n",
      "\tarticle 22398 has P(topic)=0.9958473443984985 with text = WASHINGTON (Reuters) - A Republican plan to repeal taxes set under Obamacare would benefit the wealthiest U.S. households at more than five times the rate for middle-income families, according to the \n",
      "\tarticle 23509 has P(topic)=0.9955762624740601 with text = WASHINGTON (Reuters) - Two Republican senators said on Monday that U.S. states should be allowed to stay in the Obamacare medical insurance program if they like, with one also saying she was confused \n",
      "\tarticle 21350 has P(topic)=0.9954270720481873 with text = (Reuters) - After months of internal discord, Republicans in the U.S. House of Representatives on Thursday approved a bill to overhaul the Affordable Care Act, known as Obamacare, which they have been\n",
      "\tarticle 26203 has P(topic)=0.9953773021697998 with text = (Reuters) - President Barack Obama on Monday urged Congress to reconsider offering a government-run health insurance option alongside private plans on the exchanges created as part of his national hea\n",
      "\tarticle 21676 has P(topic)=0.9949960708618164 with text = WASHINGTON (Reuters) - The Trump administration on Thursday issued a final rule that will shorten the Obamacare enrollment period and give insurers more of what they say they need in the individual in\n",
      "\tarticle 20690 has P(topic)=0.9947621822357178 with text = WASHINGTON (Reuters) - Having Republicans control both the White House and Congress could deliver more federal funds to charter schools and also create competition for dollars from alternative approac\n",
      "\tarticle 17650 has P(topic)=0.9946371912956238 with text = WASHINGTON (Reuters) - U.S. House Republicans proposed on Tuesday to delay or suspend several taxes under former President Barack Obama’s healthcare law, including a tax on medical devices and the so-\n",
      "\tarticle 19806 has P(topic)=0.9945396780967712 with text = (Reuters) - U.S. health insurer Anthem Inc is pulling back from 16 of 19 pricing regions in California where it offered Obamacare options this year, state officials said on Tuesday. The move, which ta\n"
     ]
    }
   ],
   "source": [
    "show_articles_with_highest_prob_per_topic(combined_news_text_lda_topic_probs, combined_news_text, num_topics)"
   ]
  },
  {
   "cell_type": "markdown",
   "metadata": {},
   "source": [
    "Restricting ourselves to the top 5 most frequent topics in the data based on the probabilities above (topics 3, 8, 9, 1, 2), we see the following trends:\n",
    "\n",
    "- Topic 1 includes U.S. election issues and general content concerning the president.\n",
    "- Topic 2 includes disasters and violence, possibly fear-mongering.\n",
    "- Topic 3 includes international politics.\n",
    "- Topic 8 seems to include inflammatory and \"alternative\" news content (`hypocrites`, `trashing`).\n",
    "- Topic 9 includes the politics around U.S. healthcare."
   ]
  },
  {
   "cell_type": "markdown",
   "metadata": {},
   "source": [
    "Let's also compare the distribution of topics in each text category."
   ]
  },
  {
   "cell_type": "code",
   "execution_count": 263,
   "metadata": {
    "scrolled": true
   },
   "outputs": [
    {
     "name": "stdout",
     "output_type": "stream",
     "text": [
      "expected probability of topics for fake news = \n",
      "0    0.082665\n",
      "1    0.098468\n",
      "2    0.070029\n",
      "3    0.074751\n",
      "4    0.029148\n",
      "5    0.164867\n",
      "6    0.067225\n",
      "7    0.043522\n",
      "8    0.287306\n",
      "9    0.082018\n",
      "dtype: float32\n",
      "expected probability of topics for real news = \n",
      "0    0.026931\n",
      "1    0.102773\n",
      "2    0.110924\n",
      "3    0.288375\n",
      "4    0.099876\n",
      "5    0.015963\n",
      "6    0.077336\n",
      "7    0.078685\n",
      "8    0.022834\n",
      "9    0.176304\n",
      "dtype: float32\n"
     ]
    }
   ],
   "source": [
    "fake_news_text_lda_topic_probs = combined_news_text_lda_topic_probs[fake_news_text_indices, :]\n",
    "real_news_text_lda_topic_probs = combined_news_text_lda_topic_probs[real_news_text_indices, :]\n",
    "fake_news_text_lda_expected_topics = pd.Series(fake_news_text_lda_topic_probs.mean(axis=0))\n",
    "real_news_text_lda_expected_topics = pd.Series(real_news_text_lda_topic_probs.mean(axis=0))\n",
    "print(f'expected probability of topics for fake news = \\n{fake_news_text_lda_expected_topics}')\n",
    "print(f'expected probability of topics for real news = \\n{real_news_text_lda_expected_topics}')"
   ]
  },
  {
   "cell_type": "markdown",
   "metadata": {},
   "source": [
    "Real news articles tend to have more representation for topics 3 and 9, while fake news articles have more representation for topics 1, 2 and 8, which makes sense given the more violent and \"alternative\" content included in those topics."
   ]
  },
  {
   "cell_type": "markdown",
   "metadata": {},
   "source": [
    "Now that we've established the high-level differences in topics between fake news and real news, let's look at the individual words that make up the topics.\n",
    "\n",
    "Specifically, we're going to compute the probability of observing a word given a topic, using the parameters learned by the LDA model."
   ]
  },
  {
   "cell_type": "code",
   "execution_count": 277,
   "metadata": {
    "scrolled": true
   },
   "outputs": [],
   "source": [
    "def show_top_words_all_topics(model, model_dict, num_topics, words_per_topic):\n",
    "    topic_ids = list(range(num_topics))\n",
    "    for topic_i in topic_ids:\n",
    "        topic_word_id_scores_i = model.get_topic_terms(topic_i, topn=words_per_topic)\n",
    "        topic_word_ids_i, topic_word_scores_i = zip(*topic_word_id_scores_i)\n",
    "        # convert word ID to words\n",
    "        topic_words_i = list(map(model_dict.get, topic_word_ids_i))\n",
    "        print(f'topic {topic_i} has top words: \\n\\t{\", \".join(topic_words_i)}')"
   ]
  },
  {
   "cell_type": "code",
   "execution_count": 278,
   "metadata": {},
   "outputs": [
    {
     "name": "stdout",
     "output_type": "stream",
     "text": [
      "topic 0 has top words: \n",
      "\temirates, .”, ,”, trump, republican, t, comments, donald, “, interview, ”, think, ’, runner, asked, president, presidential, going, flows, news\n",
      "topic 1 has top words: \n",
      "\tpresidential, election, (, republican, democratic, reuters, party, candidate, hillary, campaign, clinton, ’, donald, “, nov, trump, vote, ,”, senator, washington\n",
      "topic 2 has top words: \n",
      "\t(, police, people, year, two, 000, one, killed, reuters, city, told, also, authorities, three, near, state, since, area, last, old\n",
      "topic 3 has top words: \n",
      "\treuters, (, u, government, president, united, also, state, will, foreign, told, states, security, new, last, officials, minister, two, international, including\n",
      "topic 4 has top words: \n",
      "\t(, minister, reuters, prime, president, told, will, donald, trump, korea, reporters, military, news, britain, london, u, north, wednesday, british, theresa\n",
      "topic 5 has top words: \n",
      "\tpeople, speech, rally, crowd, :, anti, t, supporters, protesters, one, party, trump, right, front, nazi, donald, president, like, runner, (\n",
      "topic 6 has top words: \n",
      "\tcourt, rights, people, (, country, violence, killed, muslim, ruling, law, police, state, groups, last, one, government, attacks, case, will, justice\n",
      "topic 7 has top words: \n",
      "\tpercent, election, party, reuters, political, new, (, vote, will, support, economy, voters, year, since, polls, country, last, years, far, also\n",
      "topic 8 has top words: \n",
      "\tt, one, people, like, :, can, just, old, time, life, world, will, (, year, social, many, first, don, now, ?\n",
      "topic 9 has top words: \n",
      "\treuters, (, will, year, government, u, “, president, ’, also, ,”, billion, house, $, bill, lawmakers, new, republican, law, legislation\n"
     ]
    }
   ],
   "source": [
    "words_per_topic = 20\n",
    "show_top_words_all_topics(lda_model, lda_dict, num_topics, words_per_topic)"
   ]
  },
  {
   "cell_type": "markdown",
   "metadata": {},
   "source": [
    "Looking at the top words confirms what we saw before, that fake news articles tend to focus on election conflicts (topic 1), violence (topic 2), and possibly more simple or engaging words to correspond with more \"opinion\" pieces (topic 8)."
   ]
  },
  {
   "cell_type": "markdown",
   "metadata": {},
   "source": [
    "What happens if we train separate topic models on real news and fake news? This could help highlight groups of words that are specific only to fake news or to real news, which may be \"washed out\" with the combined topic model."
   ]
  },
  {
   "cell_type": "code",
   "execution_count": 281,
   "metadata": {},
   "outputs": [],
   "source": [
    "num_topics = 10\n",
    "iterations = 100\n",
    "# train fake news model\n",
    "def train_lda_model_from_corpus(text_corpus, num_topics, iterations):\n",
    "    lda_model = LdaModel(text_corpus, num_topics=num_topics, iterations=iterations)\n",
    "    return lda_model\n",
    "# fake_news_text_dtm_tokens = list(map(lambda x: combined_news_text_dtm_tokens[x], fake_news_text_indices))\n",
    "# real_news_text_dtm_tokens = list(map(lambda x: combined_news_text_dtm_tokens[x], real_news_text_indices))\n",
    "fake_news_text_corpus = list(map(lambda x: combined_news_text_corpus[x], fake_news_text_indices))\n",
    "real_news_text_corpus = list(map(lambda x: combined_news_text_corpus[x], real_news_text_indices))\n",
    "## train models\n",
    "fake_news_lda_model = train_lda_model_from_corpus(fake_news_text_corpus, num_topics, iterations)\n",
    "real_news_lda_model = train_lda_model_from_corpus(real_news_text_corpus, num_topics, iterations)"
   ]
  },
  {
   "cell_type": "markdown",
   "metadata": {},
   "source": [
    "What are the top words captured per-topic from each model?"
   ]
  },
  {
   "cell_type": "code",
   "execution_count": 282,
   "metadata": {
    "scrolled": true
   },
   "outputs": [
    {
     "name": "stdout",
     "output_type": "stream",
     "text": [
      "real news: top words per topic\n",
      "topic 0 has top words: \n",
      "\t(, reuters, will, percent, year, $, billion, 1, also, government, next, new, vote, budget, house, president, million, bill, tax, irma\n",
      "topic 1 has top words: \n",
      "\telection, presidential, candidate, reuters, party, (, campaign, former, democratic, clinton, hillary, republican, voters, vote, candidates, national, nov, 8, race, new\n",
      "topic 2 has top words: \n",
      "\t(, reuters, u, president, told, russian, investigation, moscow, russia, state, news, reported, washington, government, last, statement, denied, charges, thursday, allegations\n",
      "topic 3 has top words: \n",
      "\t(, court, reuters, will, law, government, ruling, also, rights, president, year, former, one, case, u, supreme, years, new, last, justice\n",
      "topic 4 has top words: \n",
      "\treuters, (, will, year, government, president, power, also, years, country, last, national, one, head, leftist, ($, u, change, afd, new\n",
      "topic 5 has top words: \n",
      "\tpercent, 1, 000, (, since, people, 25, reuters, million, 5, government, migrants, population, referendum, iraqi, according, refugees, fleeing, baghdad, illegal\n",
      "topic 6 has top words: \n",
      "\t(, reuters, party, president, former, casualties, cairo, leader, told, jailed, mugabe, boris, will, zimbabwe, new, egyptian, year, british, people, london\n",
      "topic 7 has top words: \n",
      "\treuters, (, minister, told, president, will, united, u, government, also, foreign, prime, military, states, state, two, security, european, country, last\n",
      "topic 8 has top words: \n",
      "\t(, reuters, people, police, killed, 000, one, two, last, year, city, state, government, including, group, also, since, area, least, three\n",
      "topic 9 has top words: \n",
      "\tpeople, reuters, (, one, country, election, party, t, old, year, political, last, also, polls, first, two, state, told, will, won\n",
      "fake news: top words per topic\n",
      "topic 0 has top words: \n",
      "\t:, president, syria, military, news, trump, us, war, ?, t, obama, security, foreign, also, former, will, u, syrian, al, isis\n",
      "topic 1 has top words: \n",
      "\t$, government, :, money, will, million, federal, (, dollars, t, also, 000, one, pay, state, people, u, new, american, years\n",
      "topic 2 has top words: \n",
      "\tt, :, !, ?, just, can, like, president, don, one, trump, people, get, will, obama, know, via, /, think, even\n",
      "topic 3 has top words: \n",
      "\t:, !, t, trump, /, ?, just, like, donald, twitter, (@, com, one, can, people, president, will, ://, time, re\n",
      "topic 4 has top words: \n",
      "\t:, news, media, wire, one, (, t, ?, new, also, just, according, 21st, president, told, two, time, story, can, read\n",
      "topic 5 has top words: \n",
      "\t:, t, hillary, trump, clinton, ?, donald, can, one, just, watch, republican, people, election, president, presidential, think, know, like, democratic\n",
      "topic 6 has top words: \n",
      "\t:, will, state, states, t, now, one, people, (, via, also, new, can, century, even, many, time, just, years, country\n",
      "topic 7 has top words: \n",
      "\t:, t, people, like, one, ?, via, us, can, (, just, america, will, black, right, don, american, white, country, re\n",
      "topic 8 has top words: \n",
      "\tcom, (@, /, twitter, pic, #, :, @, ://, https, t, !, video, co, trump, &, ?, protesters, police, protest\n",
      "topic 9 has top words: \n",
      "\tpolice, :, year, old, via, one, law, court, man, t, also, two, told, people, time, woman, according, arrested, will, state\n"
     ]
    }
   ],
   "source": [
    "words_per_topic = 20\n",
    "print('real news: top words per topic')\n",
    "show_top_words_all_topics(real_news_lda_model, lda_dict, num_topics, words_per_topic)\n",
    "print('fake news: top words per topic')\n",
    "show_top_words_all_topics(fake_news_lda_model, lda_dict, num_topics, words_per_topic)"
   ]
  },
  {
   "cell_type": "markdown",
   "metadata": {},
   "source": [
    "The real news topics include concrete details such as money (topic 1), immigration statistics (topic 5), and international diplomacy (topic 7).\n",
    "\n",
    "The fake news topics include sub-discussions around Donald Trump (topic 2: Trump vs. Obama; topic 5: election results) and some topics related to social justice (topic 7: `black`, `white`; topic 8: `protesters`, `police`)."
   ]
  },
  {
   "cell_type": "code",
   "execution_count": null,
   "metadata": {},
   "outputs": [],
   "source": [
    "## stretch goal: visualizing topics??"
   ]
  },
  {
   "cell_type": "markdown",
   "metadata": {},
   "source": [
    "### Exploration\n",
    "Now it's time for you to keep exploring what topic models can tell us about real and fake news.\n",
    "\n",
    "Some ideas:\n",
    "- We used word frequency to represent words when training the topic models, but you can try other metrics such as TF-IDF, which we saw before can up-weight rarer words. What happens if you re-train the topic model using another form of word frequency?\n",
    "- You can change the number of topics learned by the model to include more or less detail that may reveal different \"levels\" of granularity. You may want to try using \"coherence\" as a metric to determine the number of topics that maximizes the similarity among words within the same topic. What broad or fine-grained differences can you find that differentiate real and fake news? \n",
    "- One way of reducing \"overlap\" among words within topics is to **stem** each word and convert it to a base form that is shared among different versions of the word (e.g. `dog` and `dogs` stemmed to `dog`). What happens if you stem the text before training the topic model?\n",
    "- Some topics may be closer together in \"space\" than others. For instance, topics that discuss different aspects of international relations. [This package](https://github.com/bmabey/pyLDAvis) visualizes the relationship between LDA topics by projecting the topics to a shared 2-dimensional space via PCA. Can you find topics that are unexpectedly close, and whether these topics indicate similarities or differences between real and fake news?"
   ]
  },
  {
   "cell_type": "markdown",
   "metadata": {},
   "source": [
    "# Word embeddings\n",
    "\n",
    "The previous analyses have shown that fake news tends to use consistently inflammatory and subjective vocabulary, and tends to cover issues that may incite controversy.\n",
    "\n",
    "Let's drill down to the word level and look for connotations among words used in both fake and real news. This could reveal underlying biases that shape how certain words like `election` or `president` are perceived."
   ]
  },
  {
   "cell_type": "code",
   "execution_count": 24,
   "metadata": {},
   "outputs": [
    {
     "data": {
      "text/html": [
       "<div>\n",
       "<style scoped>\n",
       "    .dataframe tbody tr th:only-of-type {\n",
       "        vertical-align: middle;\n",
       "    }\n",
       "\n",
       "    .dataframe tbody tr th {\n",
       "        vertical-align: top;\n",
       "    }\n",
       "\n",
       "    .dataframe thead th {\n",
       "        text-align: right;\n",
       "    }\n",
       "</style>\n",
       "<table border=\"1\" class=\"dataframe\">\n",
       "  <thead>\n",
       "    <tr style=\"text-align: right;\">\n",
       "      <th></th>\n",
       "      <th>title</th>\n",
       "      <th>text</th>\n",
       "      <th>subject</th>\n",
       "      <th>date</th>\n",
       "    </tr>\n",
       "  </thead>\n",
       "  <tbody>\n",
       "    <tr>\n",
       "      <th>0</th>\n",
       "      <td>Donald Trump Sends Out Embarrassing New Year’...</td>\n",
       "      <td>Donald Trump just couldn t wish all Americans ...</td>\n",
       "      <td>News</td>\n",
       "      <td>December 31, 2017</td>\n",
       "    </tr>\n",
       "    <tr>\n",
       "      <th>1</th>\n",
       "      <td>Drunk Bragging Trump Staffer Started Russian ...</td>\n",
       "      <td>House Intelligence Committee Chairman Devin Nu...</td>\n",
       "      <td>News</td>\n",
       "      <td>December 31, 2017</td>\n",
       "    </tr>\n",
       "    <tr>\n",
       "      <th>2</th>\n",
       "      <td>Sheriff David Clarke Becomes An Internet Joke...</td>\n",
       "      <td>On Friday, it was revealed that former Milwauk...</td>\n",
       "      <td>News</td>\n",
       "      <td>December 30, 2017</td>\n",
       "    </tr>\n",
       "    <tr>\n",
       "      <th>3</th>\n",
       "      <td>Trump Is So Obsessed He Even Has Obama’s Name...</td>\n",
       "      <td>On Christmas day, Donald Trump announced that ...</td>\n",
       "      <td>News</td>\n",
       "      <td>December 29, 2017</td>\n",
       "    </tr>\n",
       "    <tr>\n",
       "      <th>4</th>\n",
       "      <td>Pope Francis Just Called Out Donald Trump Dur...</td>\n",
       "      <td>Pope Francis used his annual Christmas Day mes...</td>\n",
       "      <td>News</td>\n",
       "      <td>December 25, 2017</td>\n",
       "    </tr>\n",
       "  </tbody>\n",
       "</table>\n",
       "</div>"
      ],
      "text/plain": [
       "                                               title  \\\n",
       "0   Donald Trump Sends Out Embarrassing New Year’...   \n",
       "1   Drunk Bragging Trump Staffer Started Russian ...   \n",
       "2   Sheriff David Clarke Becomes An Internet Joke...   \n",
       "3   Trump Is So Obsessed He Even Has Obama’s Name...   \n",
       "4   Pope Francis Just Called Out Donald Trump Dur...   \n",
       "\n",
       "                                                text subject  \\\n",
       "0  Donald Trump just couldn t wish all Americans ...    News   \n",
       "1  House Intelligence Committee Chairman Devin Nu...    News   \n",
       "2  On Friday, it was revealed that former Milwauk...    News   \n",
       "3  On Christmas day, Donald Trump announced that ...    News   \n",
       "4  Pope Francis used his annual Christmas Day mes...    News   \n",
       "\n",
       "                date  \n",
       "0  December 31, 2017  \n",
       "1  December 31, 2017  \n",
       "2  December 30, 2017  \n",
       "3  December 29, 2017  \n",
       "4  December 25, 2017  "
      ]
     },
     "metadata": {},
     "output_type": "display_data"
    }
   ],
   "source": [
    "## data = fake news challenge\n",
    "import pandas as pd\n",
    "fake_news_article_data = pd.read_csv('data/fake_news_challenge/Fake.csv', sep=',', index_col=False)\n",
    "real_news_article_data = pd.read_csv('data/fake_news_challenge/True.csv', sep=',', index_col=False)\n",
    "display(fake_news_article_data.head())"
   ]
  },
  {
   "cell_type": "code",
   "execution_count": 37,
   "metadata": {},
   "outputs": [],
   "source": [
    "# ## clean data\n",
    "from nltk.tokenize import PunktSentenceTokenizer, WordPunctTokenizer\n",
    "sent_tokenizer = PunktSentenceTokenizer()\n",
    "word_tokenizer = WordPunctTokenizer()\n",
    "def get_sentence_word_tokens(text, word_tokenizer, sent_tokenizer):\n",
    "    text_sents = sent_tokenizer.tokenize(text)\n",
    "    text_sent_tokens = list(map(word_tokenizer.tokenize, text_sents))\n",
    "    return text_sent_tokens\n",
    "fake_news_sentences = fake_news_article_data.loc[:, 'text'].apply(lambda x: get_sentence_word_tokens(x, word_tokenizer, sent_tokenizer))\n",
    "real_news_sentences = real_news_article_data.loc[:, 'text'].apply(lambda x: get_sentence_word_tokens(x, word_tokenizer, sent_tokenizer))\n",
    "# flatten for processing\n",
    "from functools import reduce\n",
    "def flatten_list_data(data):\n",
    "    flat_data = []\n",
    "    for x in data:\n",
    "        flat_data.extend(x)\n",
    "    return flat_data\n",
    "fake_news_sentences = flatten_list_data(fake_news_sentences)\n",
    "real_news_sentences = flatten_list_data(real_news_sentences)"
   ]
  },
  {
   "cell_type": "code",
   "execution_count": 124,
   "metadata": {
    "scrolled": true
   },
   "outputs": [],
   "source": [
    "## train word2vec embeddings\n",
    "from gensim.models.word2vec import Word2Vec\n",
    "def train_word2vec_model(text_sents, model_out_file):\n",
    "    dim = 50\n",
    "    alpha = 0.025\n",
    "    window = 5\n",
    "    min_count = 5\n",
    "    model = Word2Vec(sentences=text_sents, size=dim, alpha=alpha, window=window, min_count=min_count)\n",
    "#     model.build_vocab(text_sents)\n",
    "    model.save(model_out_file)\n",
    "fake_news_word2vec_model_out_file = 'data/fake_news_challenge/fake_news_word2vec_embed.model'\n",
    "real_news_word2vec_model_out_file = 'data/fake_news_challenge/real_news_word2vec_embed.model'\n",
    "train_word2vec_model(fake_news_sentences, fake_news_word2vec_model_out_file)\n",
    "train_word2vec_model(real_news_sentences, real_news_word2vec_model_out_file)"
   ]
  },
  {
   "cell_type": "code",
   "execution_count": 130,
   "metadata": {},
   "outputs": [],
   "source": [
    "## load from file\n",
    "fake_news_word2vec_embed_model = Word2Vec.load(fake_news_word2vec_model_out_file)\n",
    "real_news_word2vec_embed_model = Word2Vec.load(real_news_word2vec_model_out_file)"
   ]
  },
  {
   "cell_type": "code",
   "execution_count": null,
   "metadata": {},
   "outputs": [],
   "source": [
    "## train Glove embeddings\n",
    "from glove import Glove, Corpus\n",
    "def fit_glove_model(text_sents, model_out_file):\n",
    "    dim = 50\n",
    "    learning_rate = 0.05\n",
    "    alpha = 0.025\n",
    "    random_state = 123\n",
    "    train_epochs = 100\n",
    "    num_threads = 4\n",
    "    window = 5\n",
    "    glove_corpus = Corpus()\n",
    "    glove_corpus.fit(text_sents, window=window)\n",
    "    glove_embed_model = Glove(no_components=dim, learning_rate=learning_rate, \n",
    "                              alpha=alpha, random_state=random_state)\n",
    "    # note: this takes ~ 5 minutes with 4 threads on a server\n",
    "    glove_embed_model.fit(glove_corpus.matrix, epochs=train_epochs,\n",
    "                          no_threads=num_threads, verbose=True)\n",
    "    glove_embed_model.add_dictionary(glove_corpus.dictionary)\n",
    "    glove_embed_model.save(model_out_file)\n",
    "fake_news_glove_model_out_file = 'data/fake_news_challenge/fake_news_glove_embed.model'\n",
    "real_news_glove_model_out_file = 'data/fake_news_challenge/real_news_glove_embed.model'\n",
    "print('fitting Glove embeddings for fake news')\n",
    "fit_glove_model(fake_news_sentences, fake_news_glove_model_out_file)\n",
    "print('fitting Glove embeddings for real news')\n",
    "fit_glove_model(real_news_sentences, real_news_glove_model_out_file)"
   ]
  },
  {
   "cell_type": "code",
   "execution_count": 95,
   "metadata": {},
   "outputs": [],
   "source": [
    "## reload models after training\n",
    "fake_news_glove_embed_model = Glove.load(fake_news_glove_model_out_file)\n",
    "real_news_glove_embed_model = Glove.load(real_news_glove_model_out_file)"
   ]
  },
  {
   "cell_type": "markdown",
   "metadata": {},
   "source": [
    "Let's start out by looking at the nearest neighbors for some test words. \n",
    "\n",
    "We'll get the test words by filtering from the most frequent words."
   ]
  },
  {
   "cell_type": "code",
   "execution_count": 57,
   "metadata": {
    "scrolled": true
   },
   "outputs": [
    {
     "data": {
      "text/plain": [
       ".                 899948\n",
       ",                 872906\n",
       "s                 231123\n",
       "-                 191679\n",
       "Trump             132996\n",
       "said              132673\n",
       "The               115553\n",
       "’                  70098\n",
       ":                  63415\n",
       ")                  63128\n",
       "I                  62061\n",
       "(                  57607\n",
       "U                  54124\n",
       "“                  53931\n",
       "t                  53069\n",
       "S                  51453\n",
       "will               48561\n",
       "people             39640\n",
       "President          36123\n",
       "one                32627\n",
       "also               30519\n",
       "It                 29705\n",
       "Reuters            29343\n",
       "Clinton            28556\n",
       "Donald             28066\n",
       "Obama              28035\n",
       "?                  27492\n",
       "government         26786\n",
       "can                26401\n",
       "He                 26344\n",
       "Republican         25450\n",
       "House              25418\n",
       "In                 25292\n",
       "year               24425\n",
       ",”                 24296\n",
       "/                  23695\n",
       "told               23330\n",
       "United             22860\n",
       "just               22835\n",
       "We                 22082\n",
       "like               21830\n",
       "state              21276\n",
       "campaign           21257\n",
       "time               20355\n",
       "A                  19937\n",
       "election           19882\n",
       "two                19850\n",
       "president          19578\n",
       "States             19182\n",
       "last               18973\n",
       "But                18857\n",
       "$                  18357\n",
       "country            17936\n",
       "(@                 17884\n",
       "now                17279\n",
       "This               17223\n",
       "new                16820\n",
       "Hillary            16757\n",
       "years              16552\n",
       "former             16440\n",
       "re                 16433\n",
       "first              16337\n",
       "White              16161\n",
       "American           16132\n",
       "even               15892\n",
       "!                  15526\n",
       "made               15432\n",
       "media              15262\n",
       "say                15240\n",
       "political          14885\n",
       ".”                 14755\n",
       "many               14583\n",
       "get                14457\n",
       "law                14442\n",
       "percent            14392\n",
       "Republicans        14109\n",
       "going              14030\n",
       "Russia             13943\n",
       "make               13937\n",
       "right              13682\n",
       "America            13490\n",
       "back               13477\n",
       "party              13365\n",
       "New                13346\n",
       "called             13170\n",
       "State              13109\n",
       "presidential       13060\n",
       "week               13048\n",
       "since              12896\n",
       "administration     12818\n",
       "support            12788\n",
       "And                12766\n",
       "Senate             12706\n",
       "including          12586\n",
       "know               12491\n",
       "vote               12442\n",
       "way                12440\n",
       "Democratic         12354\n",
       "police             12347\n",
       "think              12269\n",
       "dtype: int64"
      ]
     },
     "metadata": {},
     "output_type": "display_data"
    }
   ],
   "source": [
    "from collections import Counter\n",
    "from stop_words import get_stop_words\n",
    "import pandas as pd\n",
    "pd.set_option('display.max_rows', 100)\n",
    "news_word_counter = Counter()\n",
    "for sent_i in fake_news_sentences:\n",
    "    news_word_counter.update(sent_i)\n",
    "for sent_i in real_news_sentences:\n",
    "    news_word_counter.update(sent_i)\n",
    "news_word_counts = pd.Series(dict(news_word_counter)).sort_values(inplace=False, ascending=False)\n",
    "en_stops = set(get_stop_words('en')) & set(news_word_counts.index)\n",
    "news_word_counts.drop(en_stops, inplace=True)\n",
    "display(news_word_counts.head(100))"
   ]
  },
  {
   "cell_type": "code",
   "execution_count": null,
   "metadata": {},
   "outputs": [],
   "source": [
    "test_words = ['Trump', 'President', 'election', 'Republicans', 'Democratic']"
   ]
  },
  {
   "cell_type": "code",
   "execution_count": 152,
   "metadata": {
    "scrolled": true
   },
   "outputs": [
    {
     "name": "stdout",
     "output_type": "stream",
     "text": [
      "testing word = Trump\n",
      "\tfake news neighbors\n",
      "[('Rubio', 0.7030426263809204), ('Obama', 0.6997063159942627), ('Cruz', 0.6733947992324829), ('he', 0.6496449112892151), ('him', 0.6216100454330444), ('trump', 0.6005026698112488), ('Hillary', 0.5969979166984558), ('Russia', 0.5960808992385864), ('Putin', 0.5954418778419495), ('He', 0.5948378443717957)]\n",
      "\treal news neighbors\n",
      "[('Pence', 0.6959595084190369), ('he', 0.6848228573799133), ('Cruz', 0.6819908022880554), ('Abe', 0.6777504682540894), ('Macron', 0.672048807144165), ('him', 0.6628677845001221), ('Clinton', 0.6577510237693787), ('Rubio', 0.6568259596824646), ('Obama', 0.6540595293045044), ('Duterte', 0.650699257850647)]\n",
      "testing word = President\n",
      "\tfake news neighbors\n",
      "[('Barack', 0.8168875575065613), ('president', 0.8109959959983826), ('administration', 0.7899814248085022), ('Administration', 0.73664391040802), ('presidency', 0.7126862406730652), ('Donald', 0.641764223575592), ('Michelle', 0.60544753074646), ('regime', 0.5730191469192505), ('2016President', 0.5575225353240967), ('nominee', 0.5508920550346375)]\n",
      "\treal news neighbors\n",
      "[('president', 0.6807978749275208), ('Rumsfeld', 0.5728514194488525), ('leader', 0.5449401140213013), ('predecessor', 0.5301105380058289), ('presidency', 0.5064476728439331), ('Presidents', 0.5052238702774048), ('Janot', 0.4890914261341095), ('Governor', 0.4883328974246979), ('Jr', 0.4860992133617401), ('Tusk', 0.48190000653266907)]\n",
      "testing word = election\n",
      "\tfake news neighbors\n",
      "[('elections', 0.7940957546234131), ('primaries', 0.7812632918357849), ('contest', 0.7415914535522461), ('primary', 0.727788507938385), ('race', 0.7144359350204468), ('nomination', 0.7017841935157776), ('debate', 0.7013251781463623), ('landslide', 0.7003783583641052), ('victory', 0.680475115776062), ('candidate', 0.661431074142456)]\n",
      "\treal news neighbors\n",
      "[('elections', 0.8387276530265808), ('race', 0.7429296970367432), ('contest', 0.7061190605163574), ('electoral', 0.6699434518814087), ('candidate', 0.6649948358535767), ('referendum', 0.6485381126403809), ('vote', 0.6472706198692322), ('primary', 0.6435508728027344), ('victory', 0.639729917049408), ('campaign', 0.637935996055603)]\n",
      "testing word = Republicans\n",
      "\tfake news neighbors\n",
      "[('Democrats', 0.9475896954536438), ('conservatives', 0.8750953078269958), ('voters', 0.7377797961235046), ('candidates', 0.734005868434906), ('lawmakers', 0.7294324040412903), ('politicians', 0.7233482003211975), ('parties', 0.7001833319664001), ('GOP', 0.6930691003799438), ('Dems', 0.6926183700561523), ('progressives', 0.6808422803878784)]\n",
      "\treal news neighbors\n",
      "[('Democrats', 0.9482499957084656), ('conservatives', 0.8086115121841431), ('lawmakers', 0.7555219531059265), ('parties', 0.6887307167053223), ('candidates', 0.6762281060218811), ('senators', 0.6744876503944397), ('MPs', 0.669486939907074), ('Conservatives', 0.6613771915435791), ('voters', 0.6518579125404358), ('Catalans', 0.6454824805259705)]\n",
      "testing word = Democratic\n",
      "\tfake news neighbors\n",
      "[('Republican', 0.8929237127304077), ('Democrat', 0.8530702590942383), ('GOP', 0.7768924832344055), ('Tea', 0.7761590480804443), ('Libertarian', 0.7159236073493958), ('republican', 0.6959002017974854), ('Labour', 0.6792230606079102), ('Dance', 0.6680352091789246), ('Vermont', 0.6488345265388489), ('Communist', 0.6222336292266846)]\n",
      "\treal news neighbors\n",
      "[('Republican', 0.8826723098754883), ('Socialist', 0.7737101912498474), ('Conservative', 0.7484926581382751), ('Tea', 0.7340053915977478), ('Janata', 0.6930243372917175), ('Regions', 0.6910569071769714), ('Labour', 0.6855936050415039), ('PRI', 0.6693596243858337), ('AK', 0.6657257080078125), ('Green', 0.6640552282333374)]\n"
     ]
    },
    {
     "name": "stderr",
     "output_type": "stream",
     "text": [
      "<ipython-input-152-ff8394035b46>:6: DeprecationWarning: Call to deprecated `most_similar` (Method will be removed in 4.0.0, use self.wv.most_similar() instead).\n",
      "  print(fake_news_word2vec_embed_model.most_similar(test_word_i, topn=N_neighbors))\n",
      "<ipython-input-152-ff8394035b46>:8: DeprecationWarning: Call to deprecated `most_similar` (Method will be removed in 4.0.0, use self.wv.most_similar() instead).\n",
      "  print(real_news_word2vec_embed_model.most_similar(test_word_i, topn=N_neighbors))\n"
     ]
    }
   ],
   "source": [
    "## test word2vec first\n",
    "N_neighbors = 10\n",
    "for test_word_i in test_words:\n",
    "    print(f'testing word = {test_word_i}')\n",
    "    print(f'\\tfake news neighbors')\n",
    "    print(fake_news_word2vec_embed_model.most_similar(test_word_i, topn=N_neighbors))\n",
    "    print(f'\\treal news neighbors')\n",
    "    print(real_news_word2vec_embed_model.most_similar(test_word_i, topn=N_neighbors))"
   ]
  },
  {
   "cell_type": "code",
   "execution_count": 153,
   "metadata": {
    "scrolled": true
   },
   "outputs": [
    {
     "name": "stdout",
     "output_type": "stream",
     "text": [
      "testing word = Trump\n",
      "\tfake news neighbors\n",
      "[('Donald', 0.8976928852032244), ('he', 0.750797318175638), ('President', 0.7224733577899606), ('elect', 0.6950681370557232), ('his', 0.6873461754719997), ('him', 0.6607629129400844), ('presidency', 0.6461921033349649), ('supporter', 0.6430482444622551), ('Q13FOXWATCH', 0.6391587798777106)]\n",
      "\treal news neighbors\n",
      "[('Donald', 0.9018925471531778), ('Obama', 0.7329701551897114), ('Clinton', 0.7253358950095211), ('he', 0.7219566927581803), ('Putin', 0.7197551851813184), ('administration', 0.6996611063749594), ('He', 0.6981073253324681), ('president', 0.6959299640971673), ('elect', 0.6852015437442879)]\n",
      "testing word = President\n",
      "\tfake news neighbors\n",
      "[('Obama', 0.8745549150502164), ('president', 0.8300468244161047), ('Barack', 0.8096793836572981), ('Donald', 0.7728321776884208), ('ObamaE', 0.7725010583428265), ('administration', 0.7640559438864527), ('elect', 0.72963454464097), ('Trump', 0.7224733577899606), ('Putin', 0.6720365624445165)]\n",
      "\treal news neighbors\n",
      "[('Barack', 0.8086528300552979), ('Obama', 0.7646152458376682), ('Xi', 0.7389069232532137), ('elect', 0.7368471446400732), ('president', 0.7302385123936124), ('Vice', 0.7139533290514882), ('Donald', 0.7106481830728736), ('Emmanuel', 0.676188596399093), ('Vladimir', 0.6730685127116153)]\n",
      "testing word = election\n",
      "\tfake news neighbors\n",
      "[('presidential', 0.7869030615179107), ('win', 0.720060544873601), ('won', 0.7132810872509115), ('primary', 0.6993691381721916), ('elections', 0.6968645147282432), ('campaign', 0.6931552945626136), ('2016', 0.6858446734482803), ('race', 0.6676134607769463), ('run', 0.6649361558749709)]\n",
      "\treal news neighbors\n",
      "[('2016', 0.8276092183784373), ('elections', 0.8038909872124897), ('presidential', 0.8021766049652546), ('November', 0.7758173176891402), ('July', 0.6976699113656692), ('race', 0.6882295040152506), ('vote', 0.684555047813963), ('2018', 0.679158655287818), ('September', 0.6789581944865516)]\n",
      "testing word = Republicans\n",
      "\tfake news neighbors\n",
      "[('Democrats', 0.8970723922712085), ('conservatives', 0.8148132327953772), ('Congress', 0.7409676790706138), ('GOP', 0.7393818534989127), ('Republican', 0.731515418262319), ('won', 0.7098147035949577), ('win', 0.6848942420475854), ('still', 0.6770851149583786), ('voters', 0.671580131272387)]\n",
      "\treal news neighbors\n",
      "[('Democrats', 0.9083597890275228), ('lawmakers', 0.8429549312237947), ('both', 0.7712426367402855), ('Congress', 0.7378831039044729), ('senators', 0.7309557134007222), ('Republican', 0.6954619729683196), ('Senate', 0.6881861456624728), ('some', 0.6649588635108648), ('opposed', 0.6541944347503562)]\n",
      "testing word = Democratic\n",
      "\tfake news neighbors\n",
      "[('Republican', 0.8743542358951663), ('Democrat', 0.8346653988277387), ('Party', 0.8245918845324374), ('GOP', 0.8095375670581186), ('presidential', 0.8038427238701031), ('candidates', 0.7607760735703655), ('candidate', 0.7523742575192388), ('primary', 0.7308515892576932), ('party', 0.7101687436907573)]\n",
      "\treal news neighbors\n",
      "[('Republican', 0.8267092941135616), ('candidate', 0.7693512256701805), ('Democrat', 0.7540856714394084), ('Hillary', 0.7160327348592473), ('nominee', 0.7076168317931374), ('rival', 0.6871714778132513), ('Party', 0.683357075767194), ('candidates', 0.6828167151299152), ('presumptive', 0.6783729100416315)]\n"
     ]
    }
   ],
   "source": [
    "## test Glove embeddings\n",
    "N_neighbors = 10\n",
    "for test_word_i in test_words:\n",
    "    print(f'testing word = {test_word_i}')\n",
    "    print(f'\\tfake news neighbors')\n",
    "    print(fake_news_glove_embed_model.most_similar(test_word_i, number=N_neighbors))\n",
    "    print(f'\\treal news neighbors')\n",
    "    print(real_news_glove_embed_model.most_similar(test_word_i, number=N_neighbors))"
   ]
  },
  {
   "cell_type": "markdown",
   "metadata": {},
   "source": [
    "We see some aspects of potential bias with these test words.\n",
    "\n",
    "For `word2vec`:\n",
    "- `Trump` is associated with almost exclusively Republican politicians in fake news and with a mix of politicians in real news\n",
    "- `President` is associated more with U.S. politics in fake news and more with international politicians in real news\n",
    "- `Democratic` are associated more with U.S. politics in fake news and more with international politics in real news\n",
    "\n",
    "For `Glove`:\n",
    "- `Trump` is associated with himself (and news network? `Q13FOXWATCH`) in fake news and with other presidents in real news\n",
    "- `President` is associated with Trump and Obama in fake news and more with international politicians in real news\n",
    "- `Democratic` is associated with U.S. party politics in both fake and real news"
   ]
  },
  {
   "cell_type": "markdown",
   "metadata": {},
   "source": [
    "This qualitative analysis helps us understand that some words may indeed have significant divergence in their connotations between the different data sets, while others are more stable."
   ]
  },
  {
   "cell_type": "markdown",
   "metadata": {},
   "source": [
    "Which words are the most different across the data?\n",
    "\n",
    "We'll measure \"difference\" using the overlap in nearest neighbors (i.e. Jaccard similarity).\n",
    "\n",
    "$$\\text{diff(word1, word2)} = 1 - \\frac{\\text{neighbors(word1)} \\: \\cap \\: \\text{neighbors(word2)}}{\\text{neighbors(word1)} \\cup \\text{neighbors(word2)}}$$\n",
    "\n",
    "A difference of 100% means that the words have no neighbors in common, while a difference of 0% means that the words have identical neighbors."
   ]
  },
  {
   "cell_type": "code",
   "execution_count": 138,
   "metadata": {},
   "outputs": [],
   "source": [
    "def compute_neighbor_diff(neighbors_1, neighbors_2):\n",
    "    neighbor_intersect = set(neighbors_1) & set(neighbors_2)\n",
    "    neighbor_union = set(neighbors_1) | set(neighbors_2)\n",
    "    neighbor_diff = 1 - len(neighbor_intersect) / len(neighbor_union)\n",
    "    return neighbor_diff\n",
    "def compute_neighbor_diff_model(word, model_1, model_2, N_neighbor, model_type='word2vec'):\n",
    "    if(model_type == 'word2vec'):\n",
    "        neighbors_1, neighbor_scores_1 = zip(*model_1.wv.most_similar(word, topn=N_neighbor))\n",
    "        neighbors_2, neighbor_scores_2 = zip(*model_2.wv.most_similar(word, topn=N_neighbor))\n",
    "    elif(model_type == 'glove'):\n",
    "        neighbors_1, neighbor_scores_1 = zip(*model_1.most_similar(word, number=N_neighbor))\n",
    "        neighbors_2, neighbor_scores_2 = zip(*model_2.most_similar(word, number=N_neighbor))\n",
    "    neighbor_diff = compute_neighbor_diff(neighbors_1, neighbors_2)\n",
    "    return neighbor_diff"
   ]
  },
  {
   "cell_type": "code",
   "execution_count": 140,
   "metadata": {
    "scrolled": true
   },
   "outputs": [
    {
     "name": "stdout",
     "output_type": "stream",
     "text": [
      "23922 words in word2vec vocab\n"
     ]
    }
   ],
   "source": [
    "# get shared vocabulary\n",
    "shared_word2vec_vocab = list(set(fake_news_word2vec_embed_model.wv.vocab.keys()) & set(real_news_word2vec_embed_model.wv.vocab.keys()))\n",
    "print(f'{len(shared_word2vec_vocab)} words in word2vec vocab')\n",
    "# compute neighbor differences for all valid words\n",
    "model_type = 'word2vec'\n",
    "N_neighbor = 10\n",
    "fake_vs_real_word2vec_neighbor_diffs = list(map(lambda x: compute_neighbor_diff_model(x, fake_news_word2vec_embed_model, real_news_word2vec_embed_model, N_neighbor, model_type=model_type), shared_word2vec_vocab))\n",
    "# add vocabulary as index\n",
    "fake_vs_real_word2vec_neighbor_diffs = pd.Series(fake_vs_real_word2vec_neighbor_diffs, index=shared_word2vec_vocab)\n",
    "fake_vs_real_word2vec_neighbor_diffs.sort_values(inplace=True, ascending=False)"
   ]
  },
  {
   "cell_type": "code",
   "execution_count": 141,
   "metadata": {
    "scrolled": true
   },
   "outputs": [
    {
     "name": "stdout",
     "output_type": "stream",
     "text": [
      "words with most neighbor difference\n",
      "Charlie         1.0\n",
      "placement       1.0\n",
      "installation    1.0\n",
      "stoned          1.0\n",
      "convenience     1.0\n",
      "Federalist      1.0\n",
      "rewards         1.0\n",
      "Pablo           1.0\n",
      "princess        1.0\n",
      "mortgage        1.0\n",
      "fentanyl        1.0\n",
      "rebuked         1.0\n",
      "hog             1.0\n",
      "cantons         1.0\n",
      "installed       1.0\n",
      "systemically    1.0\n",
      "purchases       1.0\n",
      "sideshow        1.0\n",
      "Medium          1.0\n",
      "theme           1.0\n",
      "dtype: float64\n",
      "words with most neighbor similarity\n",
      "Friday       0.181818\n",
      "Sunday       0.181818\n",
      "February     0.181818\n",
      "Their        0.181818\n",
      "two          0.181818\n",
      "November     0.181818\n",
      "their        0.181818\n",
      "Monday       0.181818\n",
      "Thursday     0.181818\n",
      "March        0.181818\n",
      "October      0.181818\n",
      "down         0.181818\n",
      "Tuesday      0.181818\n",
      "December     0.181818\n",
      "July         0.181818\n",
      "January      0.181818\n",
      "Wednesday    0.181818\n",
      "April        0.181818\n",
      "cannot       0.181818\n",
      "15           0.000000\n",
      "dtype: float64\n"
     ]
    }
   ],
   "source": [
    "top_k = 20\n",
    "print('words with most neighbor difference')\n",
    "print(fake_vs_real_word2vec_neighbor_diffs.head(top_k))\n",
    "print('words with most neighbor similarity')\n",
    "print(fake_vs_real_word2vec_neighbor_diffs.tail(top_k))"
   ]
  },
  {
   "cell_type": "markdown",
   "metadata": {},
   "source": [
    "The words with the biggest neighbor differences don't seem to be super informative and may reflect topical differences (e.g. fake news tends to discuss `Charlie` more often and therefore has more consistent nearest neighbors).\n",
    "\n",
    "What if we restrict to the top-1000 most frequent words?"
   ]
  },
  {
   "cell_type": "code",
   "execution_count": 150,
   "metadata": {
    "scrolled": true
   },
   "outputs": [
    {
     "name": "stdout",
     "output_type": "stream",
     "text": [
      "frequent words with most neighbor difference\n",
      "left            1.0\n",
      "process         1.0\n",
      "=               1.0\n",
      "via             1.0\n",
      "talks           1.0\n",
      "fear            1.0\n",
      "!               1.0\n",
      "O               1.0\n",
      "J               1.0\n",
      "News            1.0\n",
      "Barack          1.0\n",
      "face            1.0\n",
      "influence       1.0\n",
      "course          1.0\n",
      "(@              1.0\n",
      "like            1.0\n",
      "image           1.0\n",
      "United          1.0\n",
      "co              1.0\n",
      "host            1.0\n",
      "twitter         1.0\n",
      "comment         1.0\n",
      "continued       1.0\n",
      "hit             1.0\n",
      "Minister        1.0\n",
      "Black           1.0\n",
      "independence    1.0\n",
      "[               1.0\n",
      "&               1.0\n",
      "West            1.0\n",
      "use             1.0\n",
      ".-              1.0\n",
      "reality         1.0\n",
      "'               1.0\n",
      "head            1.0\n",
      "New             1.0\n",
      "yet             1.0\n",
      "Islamic         1.0\n",
      "/               1.0\n",
      "air             1.0\n",
      "Images          1.0\n",
      "(               1.0\n",
      "com             1.0\n",
      "Watch           1.0\n",
      "corruption      1.0\n",
      "*               1.0\n",
      "Johnson         1.0\n",
      "immediately     1.0\n",
      "U               1.0\n",
      ";               1.0\n",
      "dtype: float64\n"
     ]
    }
   ],
   "source": [
    "# only keep the words that are in the word2vec vocab\n",
    "word2vec_vocab_news_word_counts = news_word_counts.loc[(news_word_counts.index & set(shared_word2vec_vocab))].sort_values(inplace=False, ascending=False)\n",
    "top_N_words = word2vec_vocab_news_word_counts.iloc[:1000].index.tolist()\n",
    "top_N_fake_vs_real_word2vec_neighbor_diffs = fake_vs_real_word2vec_neighbor_diffs.loc[top_N_words].sort_values(inplace=False, ascending=False)\n",
    "top_k = 50\n",
    "print('frequent words with most neighbor difference')\n",
    "print(top_N_fake_vs_real_word2vec_neighbor_diffs.head(top_k))"
   ]
  },
  {
   "cell_type": "markdown",
   "metadata": {},
   "source": [
    "OK! This leaves us with some interesting words to investigate:\n",
    "\n",
    "- `left` (related to politics?)\n",
    "- `Barack`\n",
    "- `twitter`\n",
    "- `Black`\n",
    "- `Islamic`\n",
    "- `corruption`"
   ]
  },
  {
   "cell_type": "code",
   "execution_count": 154,
   "metadata": {
    "scrolled": true
   },
   "outputs": [
    {
     "name": "stdout",
     "output_type": "stream",
     "text": [
      "testing word = left\n",
      "\tfake news neighbors\n",
      "[('right', 0.7388289570808411), ('gone', 0.5697188973426819), ('fringe', 0.5553905367851257), ('conservative', 0.5482199192047119), ('liberal', 0.5463820695877075), ('destroyed', 0.5287902355194092), ('pushed', 0.5214146375656128), ('side', 0.5122994780540466), ('Right', 0.5121271014213562), ('shifted', 0.5109315514564514)]\n",
      "\treal news neighbors\n",
      "[('lost', 0.7303896546363831), ('abandoned', 0.7045692205429077), ('entered', 0.685556173324585), ('kept', 0.6793034672737122), ('gained', 0.6761770844459534), ('regained', 0.667672336101532), ('stayed', 0.6657394766807556), ('stuck', 0.6575697660446167), ('started', 0.638910174369812), ('secured', 0.6378580927848816)]\n",
      "testing word = Barack\n",
      "\tfake news neighbors\n",
      "[('President', 0.816887617111206), ('Michelle', 0.7705560922622681), ('Administration', 0.7330065965652466), ('2016President', 0.7039303779602051), ('administration', 0.6872981786727905), ('Ronald', 0.6653918027877808), ('Jeb', 0.6605669260025024), ('Administrations', 0.6391910314559937), ('Hussein', 0.6269696950912476), ('presidency', 0.6213403940200806)]\n",
      "\treal news neighbors\n",
      "[('Andrzej', 0.7358546853065491), ('Faure', 0.7260587811470032), ('Salva', 0.7243014574050903), ('Muhammadu', 0.7189658284187317), ('Buhari', 0.6989701390266418), ('Yoweri', 0.6963873505592346), ('Mauricio', 0.6930809020996094), ('Shavkat', 0.6917094588279724), ('Nicolas', 0.6814447641372681), ('Kiir', 0.6672935485839844)]\n",
      "testing word = twitter\n",
      "\tfake news neighbors\n",
      "[('WTVM', 0.5977560877799988), ('hillaryclinton', 0.5855060815811157), ('100percentfedup', 0.573275089263916), ('BlackHistoryMonth', 0.5666057467460632), ('Philly', 0.5642104148864746), ('AlternativeFacts', 0.5491176843643188), ('au', 0.5414866805076599), ('www', 0.5366619825363159), ('MAGA', 0.5352457761764526), ('TrumpSacrifices', 0.5347346663475037)]\n",
      "\treal news neighbors\n",
      "[('microblog', 0.7735182642936707), ('Weibo', 0.7514196038246155), ('reflections', 0.735605776309967), ('Instagram', 0.7166048884391785), ('crotch', 0.7040818929672241), ('truculent', 0.7000449299812317), ('NB', 0.6996288895606995), ('retort', 0.6991008520126343), ('sarcastically', 0.6903284788131714), ('Col', 0.6898080110549927)]\n",
      "testing word = Black\n",
      "\tfake news neighbors\n",
      "[('Matter', 0.7706215381622314), ('Lives', 0.7336457371711731), ('BLM', 0.6777241826057434), ('Tycoon', 0.6274093985557556), ('rallying', 0.6151938438415527), ('Panthers', 0.6093480587005615), ('Antifa', 0.604564905166626), ('Panther', 0.6015989780426025), ('Hispanic', 0.5822928547859192), ('Odin', 0.5758909583091736)]\n",
      "\treal news neighbors\n",
      "[('Red', 0.7002115845680237), ('Beacon', 0.6662045121192932), ('Charlotte', 0.6553705930709839), ('League', 0.6503832340240479), ('Historical', 0.6475571990013123), ('Town', 0.6459012627601624), ('Conservation', 0.645159900188446), ('Cultural', 0.6422840356826782), ('Square', 0.636823296546936), ('Correspondents', 0.6359671354293823)]\n",
      "testing word = Islamic\n",
      "\tfake news neighbors\n",
      "[('Palestinian', 0.6977366209030151), ('Deep', 0.6950808763504028), ('Islamist', 0.6764666438102722), ('Jewish', 0.627342164516449), ('Muslim', 0.6246275901794434), ('Palestine', 0.6241163015365601), ('BLM', 0.6208215951919556), ('muslim', 0.6138649582862854), ('terrorist', 0.6126998662948608), ('arming', 0.6098479628562927)]\n",
      "\treal news neighbors\n",
      "[('Daesh', 0.6964540481567383), ('Capture', 0.6833562254905701), ('Duma', 0.6767401099205017), ('Kachin', 0.6627154350280762), ('IS', 0.650870680809021), ('Secretaries', 0.6254169344902039), ('ISIS', 0.6207304000854492), ('Sunshine', 0.6155365109443665), ('SDF', 0.6115128397941589), ('Counsellor', 0.6114950180053711)]\n",
      "testing word = corruption\n",
      "\tfake news neighbors\n",
      "[('hacking', 0.7731659412384033), ('deception', 0.7556135654449463), ('ongoing', 0.7095997333526611), ('lawlessness', 0.7042204737663269), ('hacks', 0.7002522945404053), ('investigations', 0.6959912776947021), ('scrutiny', 0.6937267780303955), ('violations', 0.6929147839546204), ('secrecy', 0.6720618009567261), ('avoiding', 0.6667200326919556)]\n",
      "\treal news neighbors\n",
      "[('graft', 0.9250772595405579), ('fraud', 0.7226190567016602), ('criminal', 0.7129549980163574), ('bribery', 0.6976973414421082), ('scandals', 0.6973208785057068), ('alleged', 0.6820821166038513), ('scandal', 0.6791611909866333), ('cronyism', 0.6640135049819946), ('rebellion', 0.6488530039787292), ('crime', 0.6459413766860962)]\n"
     ]
    },
    {
     "name": "stderr",
     "output_type": "stream",
     "text": [
      "<ipython-input-154-6200cba35b5d>:7: DeprecationWarning: Call to deprecated `most_similar` (Method will be removed in 4.0.0, use self.wv.most_similar() instead).\n",
      "  print(fake_news_word2vec_embed_model.most_similar(word_i, topn=N_neighbors))\n",
      "<ipython-input-154-6200cba35b5d>:9: DeprecationWarning: Call to deprecated `most_similar` (Method will be removed in 4.0.0, use self.wv.most_similar() instead).\n",
      "  print(real_news_word2vec_embed_model.most_similar(word_i, topn=N_neighbors))\n"
     ]
    }
   ],
   "source": [
    "# print neighbors for all high-difference words\n",
    "high_diff_words = ['left', 'Barack', 'twitter', 'Black', 'Islamic', 'corruption']\n",
    "N_neighbors = 10\n",
    "for word_i in high_diff_words:\n",
    "    print(f'testing word = {word_i}')\n",
    "    print(f'\\tfake news neighbors')\n",
    "    print(fake_news_word2vec_embed_model.most_similar(word_i, topn=N_neighbors))\n",
    "    print(f'\\treal news neighbors')\n",
    "    print(real_news_word2vec_embed_model.most_similar(word_i, topn=N_neighbors))"
   ]
  },
  {
   "cell_type": "markdown",
   "metadata": {},
   "source": [
    "This reveals some serious bias going on in the fake news articles.\n",
    "\n",
    "- `left` is more associated with extreme political views in fake news, and more associated with the traditional verb sense in real news\n",
    "- `Barack` is more associated with the Obama administration (and his \"unusual\" name `Hussein`) in fake news, and more associated with world leaders in real news\n",
    "- `twitter` is more associated with \"alternative\" news sources in fake news, and more associated with social media in general in real news\n",
    "- `Black` is more associated with the Black Lives Matter movement and other left-wing movements (`antifa`) in fake news, and more associated with a variety of organizations in real news\n",
    "- `Islamic` is more associated with terrorist and perceived \"radical\" movements in fake news, and more associated with Middle Eastern politics in real news"
   ]
  },
  {
   "cell_type": "code",
   "execution_count": null,
   "metadata": {},
   "outputs": [],
   "source": [
    "## TODO: visualize?? https://stackoverflow.com/questions/43776572/visualise-word2vec-generated-from-gensim"
   ]
  },
  {
   "cell_type": "markdown",
   "metadata": {},
   "source": [
    "### Exploration\n",
    "Now it's time for you to try out some more tests with word embeddings!\n",
    "\n",
    "- Increasing the **window size** when training embeddings can help the embeddings capture more global context (e.g. associating `tomato` with cooking details from the wider sentence context). How would this help capture divides between fake news and real news?\n",
    "- One way to determine the **connotation** of a word in embedding space is to look at its proximity to positive and negative words: e.g. if `Barack` is consistently closer to words like `bad` and `terrible` than to `good` and `nice`. Can you come up with a way to test word connotations using this kind of approach, and determine whether some words have consistently better or worse connotations in fake news articles?\n",
    "- Another useful aspect of word embeddings is their tendency to **cluster** words into general semantic fields, e.g. grouping all politician names near one another. Using the visualization technique from earlier, try to find words that (1) consistently fall into neat clusters and (2) sometimes appear outside of the expected clusters in the data. Which political and organizational words tend to be represented outside of their expected cluster, and why do you think that happens? "
   ]
  },
  {
   "cell_type": "markdown",
   "metadata": {},
   "source": [
    "### Old code"
   ]
  },
  {
   "cell_type": "code",
   "execution_count": null,
   "metadata": {},
   "outputs": [],
   "source": [
    "# ## data = cross-cultural data\n",
    "# # collect/save\n",
    "# import os\n",
    "# import pandas as pd\n",
    "# import re\n",
    "# def load_deception_data_from_dir(data_dir):\n",
    "#     sub_dirs = list(map(lambda x: os.path.join(data_dir, x), os.listdir(data_dir)))\n",
    "#     sub_dirs = list(filter(lambda x: os.path.isdir(x), sub_dirs))\n",
    "#     print(sub_dirs)\n",
    "#     invalid_file_matcher = re.compile('^\\._?')\n",
    "#     sub_dir_data_files = [os.path.join(x, y) for x in sub_dirs for y in os.listdir(x) if invalid_file_matcher.search(y) is None]\n",
    "#     combined_data = []\n",
    "#     for data_file_i in sub_dir_data_files:\n",
    "# #         print(f'processing data = {data_file_i}')\n",
    "#         topic_i, label_i = os.path.basename(data_file_i).split('.')\n",
    "# #         full_data_file_i = os.path.join(data_dir, data_file_i)\n",
    "# #         print()\n",
    "#         data_i = pd.read_csv(data_file_i, sep='\\t', header=None, index_col=False, skip_blank_lines=True)\n",
    "#         data_i.columns = ['id', 'text']\n",
    "#         # keep valid text\n",
    "#         data_i = data_i[data_i.loc[:, 'text'].apply(lambda x: type(x) is str)]\n",
    "# #         print(data_i.head())\n",
    "# #         for x in data_i.loc[:, 'id'].values:\n",
    "# #             print(x)\n",
    "# #             print(x.split('_')[1])\n",
    "#         data_i = data_i.assign(**{\n",
    "#             'id' : data_i.loc[:, 'id'].apply(lambda x: int(x.split('_')[1]))\n",
    "#         })\n",
    "#         data_i = data_i.assign(**{'topic' : topic_i, 'label' : label_i})\n",
    "#         combined_data.append(data_i)\n",
    "#     combined_data = pd.concat(combined_data, axis=0)\n",
    "#     return combined_data\n",
    "# # us_deception_data_dir = 'data/crossCulturalDeception.2014/EnglishUS/'\n",
    "# # print([x for x in os.listdir(us_deception_data_dir) if os.path.isdir(os.path.join(us_deception_data_dir, x))])\n",
    "# us_deception_data = load_deception_data_from_dir(us_deception_data_dir)\n",
    "# display(us_deception_data.head())"
   ]
  }
 ],
 "metadata": {
  "kernelspec": {
   "display_name": "Python 3",
   "language": "python",
   "name": "python3"
  },
  "language_info": {
   "codemirror_mode": {
    "name": "ipython",
    "version": 3
   },
   "file_extension": ".py",
   "mimetype": "text/x-python",
   "name": "python",
   "nbconvert_exporter": "python",
   "pygments_lexer": "ipython3",
   "version": "3.8.5"
  }
 },
 "nbformat": 4,
 "nbformat_minor": 4
}
