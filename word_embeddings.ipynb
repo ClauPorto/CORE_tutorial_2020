{
  "nbformat": 4,
  "nbformat_minor": 0,
  "metadata": {
    "kernelspec": {
      "name": "python3",
      "display_name": "Python 3"
    },
    "colab": {
      "name": "word_embeddings.ipynb",
      "provenance": [],
      "collapsed_sections": [],
      "toc_visible": true
    }
  },
  "cells": [
    {
      "cell_type": "markdown",
      "metadata": {
        "id": "lfoTYQOidI23"
      },
      "source": [
        "# Word embeddings\n",
        "\n",
        "The previous analyses have shown that fake news tends to use consistently inflammatory and subjective vocabulary, and tends to cover issues that may incite controversy.\n",
        "\n",
        "Let's drill down to the word level and look for connotations among words used in both fake and real news. This could reveal underlying biases that shape how certain words like `election` or `president` are perceived.\n",
        "\n",
        "1. [Load data](#Load-data)\n",
        "2. [Train embeddings](#Train-embedding-models)\n",
        "3. [Nearest neighbors](#Look-at-nearest-neighbors)\n",
        "4. [Different neighbors](#Find-words-with-different-neighbors)\n",
        "5. [Exploration](#Exploration)"
      ]
    },
    {
      "cell_type": "markdown",
      "metadata": {
        "id": "j9zcqQwKdI3K"
      },
      "source": [
        "### Load data"
      ]
    },
    {
      "cell_type": "code",
      "metadata": {
        "colab": {
          "base_uri": "https://localhost:8080/"
        },
        "id": "djjre044dP5J",
        "outputId": "6c0362d2-7c5e-45c1-9d35-23835b4229d9"
      },
      "source": [
        "# NOTE: only run if you don't have data/ in Files\n",
        "!wget https://bitbucket.org/istewart6/core_tutorial_2020/raw/36e69f9d777319ae2cc94354cf57bd01f3e080b3/data.zip . ; unzip data.zip"
      ],
      "execution_count": null,
      "outputs": [
        {
          "output_type": "stream",
          "text": [
            "--2020-12-09 19:49:23--  https://bitbucket.org/istewart6/core_tutorial_2020/raw/9feab1699d48005d9631f277771d91b2075d1256/data.zip\n",
            "Resolving bitbucket.org (bitbucket.org)... 104.192.141.1, 2406:da00:ff00::22e9:9f55, 2406:da00:ff00::22cd:e0db, ...\n",
            "Connecting to bitbucket.org (bitbucket.org)|104.192.141.1|:443... connected.\n",
            "HTTP request sent, awaiting response... 200 OK\n",
            "Length: 230901661 (220M) [application/zip]\n",
            "Saving to: ‘data.zip’\n",
            "\n",
            "data.zip            100%[===================>] 220.20M  41.2MB/s    in 5.5s    \n",
            "\n",
            "2020-12-09 19:49:36 (39.9 MB/s) - ‘data.zip’ saved [230901661/230901661]\n",
            "\n",
            "--2020-12-09 19:49:36--  http://./\n",
            "Resolving . (.)... failed: No address associated with hostname.\n",
            "wget: unable to resolve host address ‘.’\n",
            "FINISHED --2020-12-09 19:49:36--\n",
            "Total wall clock time: 13s\n",
            "Downloaded: 1 files, 220M in 5.5s (39.9 MB/s)\n",
            "Archive:  data.zip\n",
            "   creating: data/\n",
            "   creating: data/fakeNewsDatasets/\n",
            "  inflating: data/fakeNewsDatasets/fake_news_small.tsv  \n",
            "  inflating: data/fakeNewsDatasets/real_news_small.tsv  \n",
            "   creating: data/fake_news_challenge/\n",
            "  inflating: data/fake_news_challenge/real_news_word2vec_embed.model  \n",
            "  inflating: data/fake_news_challenge/fake_news_glove_embed.model  \n",
            "  inflating: data/fake_news_challenge/Fake.csv  \n",
            "  inflating: data/fake_news_challenge/fake_news_word2vec_embed.model  \n",
            "  inflating: data/fake_news_challenge/real_news_glove_embed.model  \n",
            "  inflating: data/fake_news_challenge/True.csv  \n"
          ],
          "name": "stdout"
        }
      ]
    },
    {
      "cell_type": "code",
      "metadata": {
        "colab": {
          "base_uri": "https://localhost:8080/"
        },
        "id": "I5n1PyGwndrr",
        "outputId": "bbabb31b-3e74-45a5-c80c-e2d8b3b36017"
      },
      "source": [
        "!pip install stop_words\n",
        "!pip install glove-python"
      ],
      "execution_count": null,
      "outputs": [
        {
          "output_type": "stream",
          "text": [
            "Requirement already satisfied: stop_words in /usr/local/lib/python3.6/dist-packages (2018.7.23)\n",
            "Requirement already satisfied: glove-python in /usr/local/lib/python3.6/dist-packages (0.1.0)\n",
            "Requirement already satisfied: scipy in /usr/local/lib/python3.6/dist-packages (from glove-python) (1.4.1)\n",
            "Requirement already satisfied: numpy in /usr/local/lib/python3.6/dist-packages (from glove-python) (1.18.5)\n"
          ],
          "name": "stdout"
        }
      ]
    },
    {
      "cell_type": "code",
      "metadata": {
        "colab": {
          "base_uri": "https://localhost:8080/",
          "height": 206
        },
        "id": "txQCr1crdI3O",
        "outputId": "4f6b0941-ac53-4813-9fd7-1571e87346ba"
      },
      "source": [
        "## data = fake news challenge\n",
        "import pandas as pd\n",
        "fake_news_article_data = pd.read_csv('data/fake_news_challenge/Fake.csv', sep=',', index_col=False)\n",
        "real_news_article_data = pd.read_csv('data/fake_news_challenge/True.csv', sep=',', index_col=False)\n",
        "display(fake_news_article_data.head())"
      ],
      "execution_count": null,
      "outputs": [
        {
          "output_type": "display_data",
          "data": {
            "text/html": [
              "<div>\n",
              "<style scoped>\n",
              "    .dataframe tbody tr th:only-of-type {\n",
              "        vertical-align: middle;\n",
              "    }\n",
              "\n",
              "    .dataframe tbody tr th {\n",
              "        vertical-align: top;\n",
              "    }\n",
              "\n",
              "    .dataframe thead th {\n",
              "        text-align: right;\n",
              "    }\n",
              "</style>\n",
              "<table border=\"1\" class=\"dataframe\">\n",
              "  <thead>\n",
              "    <tr style=\"text-align: right;\">\n",
              "      <th></th>\n",
              "      <th>title</th>\n",
              "      <th>text</th>\n",
              "      <th>subject</th>\n",
              "      <th>date</th>\n",
              "    </tr>\n",
              "  </thead>\n",
              "  <tbody>\n",
              "    <tr>\n",
              "      <th>0</th>\n",
              "      <td>Donald Trump Sends Out Embarrassing New Year’...</td>\n",
              "      <td>Donald Trump just couldn t wish all Americans ...</td>\n",
              "      <td>News</td>\n",
              "      <td>December 31, 2017</td>\n",
              "    </tr>\n",
              "    <tr>\n",
              "      <th>1</th>\n",
              "      <td>Drunk Bragging Trump Staffer Started Russian ...</td>\n",
              "      <td>House Intelligence Committee Chairman Devin Nu...</td>\n",
              "      <td>News</td>\n",
              "      <td>December 31, 2017</td>\n",
              "    </tr>\n",
              "    <tr>\n",
              "      <th>2</th>\n",
              "      <td>Sheriff David Clarke Becomes An Internet Joke...</td>\n",
              "      <td>On Friday, it was revealed that former Milwauk...</td>\n",
              "      <td>News</td>\n",
              "      <td>December 30, 2017</td>\n",
              "    </tr>\n",
              "    <tr>\n",
              "      <th>3</th>\n",
              "      <td>Trump Is So Obsessed He Even Has Obama’s Name...</td>\n",
              "      <td>On Christmas day, Donald Trump announced that ...</td>\n",
              "      <td>News</td>\n",
              "      <td>December 29, 2017</td>\n",
              "    </tr>\n",
              "    <tr>\n",
              "      <th>4</th>\n",
              "      <td>Pope Francis Just Called Out Donald Trump Dur...</td>\n",
              "      <td>Pope Francis used his annual Christmas Day mes...</td>\n",
              "      <td>News</td>\n",
              "      <td>December 25, 2017</td>\n",
              "    </tr>\n",
              "  </tbody>\n",
              "</table>\n",
              "</div>"
            ],
            "text/plain": [
              "                                               title  ...               date\n",
              "0   Donald Trump Sends Out Embarrassing New Year’...  ...  December 31, 2017\n",
              "1   Drunk Bragging Trump Staffer Started Russian ...  ...  December 31, 2017\n",
              "2   Sheriff David Clarke Becomes An Internet Joke...  ...  December 30, 2017\n",
              "3   Trump Is So Obsessed He Even Has Obama’s Name...  ...  December 29, 2017\n",
              "4   Pope Francis Just Called Out Donald Trump Dur...  ...  December 25, 2017\n",
              "\n",
              "[5 rows x 4 columns]"
            ]
          },
          "metadata": {
            "tags": []
          }
        }
      ]
    },
    {
      "cell_type": "code",
      "metadata": {
        "id": "M5xwjDpBdI3U"
      },
      "source": [
        "# ## clean data\n",
        "from nltk.tokenize import PunktSentenceTokenizer, WordPunctTokenizer\n",
        "sent_tokenizer = PunktSentenceTokenizer()\n",
        "word_tokenizer = WordPunctTokenizer()\n",
        "def get_sentence_word_tokens(text, word_tokenizer, sent_tokenizer):\n",
        "    text_sents = sent_tokenizer.tokenize(text)\n",
        "    text_sent_tokens = list(map(word_tokenizer.tokenize, text_sents))\n",
        "    return text_sent_tokens\n",
        "fake_news_sentences = fake_news_article_data.loc[:, 'text'].apply(lambda x: get_sentence_word_tokens(x, word_tokenizer, sent_tokenizer))\n",
        "real_news_sentences = real_news_article_data.loc[:, 'text'].apply(lambda x: get_sentence_word_tokens(x, word_tokenizer, sent_tokenizer))\n",
        "# flatten for processing\n",
        "from functools import reduce\n",
        "def flatten_list_data(data):\n",
        "    flat_data = []\n",
        "    for x in data:\n",
        "        flat_data.extend(x)\n",
        "    return flat_data\n",
        "fake_news_sentences = flatten_list_data(fake_news_sentences)\n",
        "real_news_sentences = flatten_list_data(real_news_sentences)"
      ],
      "execution_count": null,
      "outputs": []
    },
    {
      "cell_type": "markdown",
      "metadata": {
        "id": "B7K3Xau0dI3Y"
      },
      "source": [
        "### Train embedding models\n",
        "Let's first train the word embedding models on the full data."
      ]
    },
    {
      "cell_type": "code",
      "metadata": {
        "id": "wpIA-rCTdI3Z"
      },
      "source": [
        "## train word2vec embeddings\n",
        "from gensim.models.word2vec import Word2Vec\n",
        "def train_word2vec_model(text_sents, model_out_file):\n",
        "    dim = 50\n",
        "    alpha = 0.025\n",
        "    window = 5\n",
        "    min_count = 5\n",
        "    model = Word2Vec(sentences=text_sents, size=dim, alpha=alpha, window=window, min_count=min_count, seed=123)\n",
        "#     model.build_vocab(text_sents)\n",
        "    model.save(model_out_file)\n",
        "fake_news_word2vec_model_out_file = 'data/fake_news_challenge/fake_news_word2vec_embed.model'\n",
        "real_news_word2vec_model_out_file = 'data/fake_news_challenge/real_news_word2vec_embed.model'\n",
        "## training takes ~ 10 mins on Colab\n",
        "# SKIP these steps during tutorial to save time; use pre-trained model\n",
        "# train_word2vec_model(fake_news_sentences, fake_news_word2vec_model_out_file)\n",
        "# train_word2vec_model(real_news_sentences, real_news_word2vec_model_out_file)"
      ],
      "execution_count": null,
      "outputs": []
    },
    {
      "cell_type": "code",
      "metadata": {
        "id": "2BD7hXQhdI3a"
      },
      "source": [
        "## load from file\n",
        "fake_news_word2vec_embed_model = Word2Vec.load(fake_news_word2vec_model_out_file)\n",
        "real_news_word2vec_embed_model = Word2Vec.load(real_news_word2vec_model_out_file)"
      ],
      "execution_count": null,
      "outputs": []
    },
    {
      "cell_type": "code",
      "metadata": {
        "id": "5efiz4J0dI3b",
        "colab": {
          "base_uri": "https://localhost:8080/"
        },
        "outputId": "76716875-bd13-4ffc-e691-ab4dfb629599"
      },
      "source": [
        "## train Glove embeddings\n",
        "from glove import Glove, Corpus\n",
        "def fit_glove_model(text_sents, model_out_file):\n",
        "    dim = 50\n",
        "    learning_rate = 0.05\n",
        "    alpha = 0.025\n",
        "    random_state = 123\n",
        "    train_epochs = 100\n",
        "    num_threads = 4\n",
        "    window = 5\n",
        "    glove_corpus = Corpus()\n",
        "    glove_corpus.fit(text_sents, window=window)\n",
        "    glove_embed_model = Glove(no_components=dim, learning_rate=learning_rate, \n",
        "                              alpha=alpha, random_state=random_state)\n",
        "    # note: this takes ~ 5 minutes with 4 threads on a server\n",
        "    glove_embed_model.fit(glove_corpus.matrix, epochs=train_epochs,\n",
        "                          no_threads=num_threads, verbose=True)\n",
        "    glove_embed_model.add_dictionary(glove_corpus.dictionary)\n",
        "    glove_embed_model.save(model_out_file)\n",
        "fake_news_glove_model_out_file = 'data/fake_news_challenge/fake_news_glove_embed.model'\n",
        "real_news_glove_model_out_file = 'data/fake_news_challenge/real_news_glove_embed.model'\n",
        "## skipping these steps to save time during tutorial\n",
        "# fit_glove_model(fake_news_sentences, fake_news_glove_model_out_file)\n",
        "# fit_glove_model(real_news_sentences, real_news_glove_model_out_file)"
      ],
      "execution_count": null,
      "outputs": [
        {
          "output_type": "stream",
          "text": [
            "Performing 100 training epochs with 4 threads\n",
            "Epoch 0\n",
            "Epoch 1\n",
            "Epoch 2\n",
            "Epoch 3\n",
            "Epoch 4\n",
            "Epoch 5\n",
            "Epoch 6\n",
            "Epoch 7\n",
            "Epoch 8\n",
            "Epoch 9\n",
            "Epoch 10\n",
            "Epoch 11\n",
            "Epoch 12\n",
            "Epoch 13\n",
            "Epoch 14\n",
            "Epoch 15\n",
            "Epoch 16\n",
            "Epoch 17\n",
            "Epoch 18\n",
            "Epoch 19\n",
            "Epoch 20\n",
            "Epoch 21\n",
            "Epoch 22\n",
            "Epoch 23\n",
            "Epoch 24\n",
            "Epoch 25\n",
            "Epoch 26\n",
            "Epoch 27\n",
            "Epoch 28\n",
            "Epoch 29\n",
            "Epoch 30\n",
            "Epoch 31\n",
            "Epoch 32\n",
            "Epoch 33\n",
            "Epoch 34\n",
            "Epoch 35\n",
            "Epoch 36\n",
            "Epoch 37\n",
            "Epoch 38\n",
            "Epoch 39\n",
            "Epoch 40\n",
            "Epoch 41\n",
            "Epoch 42\n",
            "Epoch 43\n",
            "Epoch 44\n",
            "Epoch 45\n",
            "Epoch 46\n",
            "Epoch 47\n",
            "Epoch 48\n",
            "Epoch 49\n",
            "Epoch 50\n",
            "Epoch 51\n",
            "Epoch 52\n",
            "Epoch 53\n",
            "Epoch 54\n",
            "Epoch 55\n",
            "Epoch 56\n",
            "Epoch 57\n",
            "Epoch 58\n",
            "Epoch 59\n",
            "Epoch 60\n",
            "Epoch 61\n",
            "Epoch 62\n",
            "Epoch 63\n",
            "Epoch 64\n",
            "Epoch 65\n",
            "Epoch 66\n",
            "Epoch 67\n",
            "Epoch 68\n",
            "Epoch 69\n",
            "Epoch 70\n",
            "Epoch 71\n",
            "Epoch 72\n",
            "Epoch 73\n",
            "Epoch 74\n",
            "Epoch 75\n",
            "Epoch 76\n",
            "Epoch 77\n",
            "Epoch 78\n",
            "Epoch 79\n",
            "Epoch 80\n",
            "Epoch 81\n",
            "Epoch 82\n",
            "Epoch 83\n",
            "Epoch 84\n",
            "Epoch 85\n",
            "Epoch 86\n",
            "Epoch 87\n",
            "Epoch 88\n",
            "Epoch 89\n",
            "Epoch 90\n",
            "Epoch 91\n",
            "Epoch 92\n",
            "Epoch 93\n",
            "Epoch 94\n",
            "Epoch 95\n",
            "Epoch 96\n",
            "Epoch 97\n",
            "Epoch 98\n",
            "Epoch 99\n",
            "Performing 100 training epochs with 4 threads\n",
            "Epoch 0\n",
            "Epoch 1\n",
            "Epoch 2\n",
            "Epoch 3\n",
            "Epoch 4\n",
            "Epoch 5\n",
            "Epoch 6\n",
            "Epoch 7\n",
            "Epoch 8\n",
            "Epoch 9\n",
            "Epoch 10\n",
            "Epoch 11\n",
            "Epoch 12\n",
            "Epoch 13\n",
            "Epoch 14\n",
            "Epoch 15\n",
            "Epoch 16\n",
            "Epoch 17\n",
            "Epoch 18\n",
            "Epoch 19\n",
            "Epoch 20\n",
            "Epoch 21\n",
            "Epoch 22\n",
            "Epoch 23\n",
            "Epoch 24\n",
            "Epoch 25\n",
            "Epoch 26\n",
            "Epoch 27\n",
            "Epoch 28\n",
            "Epoch 29\n",
            "Epoch 30\n",
            "Epoch 31\n",
            "Epoch 32\n",
            "Epoch 33\n",
            "Epoch 34\n",
            "Epoch 35\n",
            "Epoch 36\n",
            "Epoch 37\n",
            "Epoch 38\n",
            "Epoch 39\n",
            "Epoch 40\n",
            "Epoch 41\n",
            "Epoch 42\n",
            "Epoch 43\n",
            "Epoch 44\n",
            "Epoch 45\n",
            "Epoch 46\n",
            "Epoch 47\n",
            "Epoch 48\n",
            "Epoch 49\n",
            "Epoch 50\n",
            "Epoch 51\n",
            "Epoch 52\n",
            "Epoch 53\n",
            "Epoch 54\n",
            "Epoch 55\n",
            "Epoch 56\n",
            "Epoch 57\n",
            "Epoch 58\n",
            "Epoch 59\n",
            "Epoch 60\n",
            "Epoch 61\n",
            "Epoch 62\n",
            "Epoch 63\n",
            "Epoch 64\n",
            "Epoch 65\n",
            "Epoch 66\n",
            "Epoch 67\n",
            "Epoch 68\n",
            "Epoch 69\n",
            "Epoch 70\n",
            "Epoch 71\n",
            "Epoch 72\n",
            "Epoch 73\n",
            "Epoch 74\n",
            "Epoch 75\n",
            "Epoch 76\n",
            "Epoch 77\n",
            "Epoch 78\n",
            "Epoch 79\n",
            "Epoch 80\n",
            "Epoch 81\n",
            "Epoch 82\n",
            "Epoch 83\n",
            "Epoch 84\n",
            "Epoch 85\n",
            "Epoch 86\n",
            "Epoch 87\n",
            "Epoch 88\n",
            "Epoch 89\n",
            "Epoch 90\n",
            "Epoch 91\n",
            "Epoch 92\n",
            "Epoch 93\n",
            "Epoch 94\n",
            "Epoch 95\n",
            "Epoch 96\n",
            "Epoch 97\n",
            "Epoch 98\n",
            "Epoch 99\n"
          ],
          "name": "stdout"
        }
      ]
    },
    {
      "cell_type": "code",
      "metadata": {
        "id": "PVWvcfObdI3c"
      },
      "source": [
        "## reload models after training\n",
        "fake_news_glove_embed_model = Glove.load(fake_news_glove_model_out_file)\n",
        "real_news_glove_embed_model = Glove.load(real_news_glove_model_out_file)"
      ],
      "execution_count": null,
      "outputs": []
    },
    {
      "cell_type": "code",
      "metadata": {
        "colab": {
          "base_uri": "https://localhost:8080/"
        },
        "id": "T2HWweTNOt6U",
        "outputId": "8b441e73-6d6b-4a3b-8bce-efaa3fabe9b7"
      },
      "source": [
        "# !rm data.zip\n",
        "!zip -r data.zip data/"
      ],
      "execution_count": null,
      "outputs": [
        {
          "output_type": "stream",
          "text": [
            "  adding: data/ (stored 0%)\n",
            "  adding: data/fakeNewsDatasets/ (stored 0%)\n",
            "  adding: data/fakeNewsDatasets/fake_news_small.tsv (deflated 63%)\n",
            "  adding: data/fakeNewsDatasets/real_news_small.tsv (deflated 58%)\n",
            "  adding: data/fake_news_challenge/ (stored 0%)\n",
            "  adding: data/fake_news_challenge/fake_news_glove_embed.model (deflated 6%)\n",
            "  adding: data/fake_news_challenge/real_news_word2vec_embed.model (deflated 30%)\n",
            "  adding: data/fake_news_challenge/Fake.csv (deflated 62%)\n",
            "  adding: data/fake_news_challenge/fake_news_word2vec_embed.model (deflated 29%)\n",
            "  adding: data/fake_news_challenge/True.csv (deflated 65%)\n",
            "  adding: data/fake_news_challenge/real_news_glove_embed.model (deflated 6%)\n"
          ],
          "name": "stdout"
        }
      ]
    },
    {
      "cell_type": "markdown",
      "metadata": {
        "id": "9IOi7sX-dI3d"
      },
      "source": [
        "### Look at nearest neighbors"
      ]
    },
    {
      "cell_type": "markdown",
      "metadata": {
        "id": "6GPn73PQdI3d"
      },
      "source": [
        "Let's start out by looking at the nearest neighbors for some test words. \n",
        "\n",
        "We'll get the test words by filtering from the most frequent words."
      ]
    },
    {
      "cell_type": "code",
      "metadata": {
        "id": "BvyW7r7VdI3i",
        "colab": {
          "base_uri": "https://localhost:8080/",
          "height": 1000
        },
        "outputId": "f4c9d5ab-04d5-40f2-8234-a00f43ac89fb"
      },
      "source": [
        "from collections import Counter\n",
        "from stop_words import get_stop_words\n",
        "import pandas as pd\n",
        "pd.set_option('display.max_rows', 100)\n",
        "news_word_counter = Counter()\n",
        "for sent_i in fake_news_sentences:\n",
        "    news_word_counter.update(sent_i)\n",
        "for sent_i in real_news_sentences:\n",
        "    news_word_counter.update(sent_i)\n",
        "news_word_counts = pd.Series(dict(news_word_counter)).sort_values(inplace=False, ascending=False)\n",
        "en_stops = set(get_stop_words('en')) & set(news_word_counts.index)\n",
        "news_word_counts.drop(en_stops, inplace=True)\n",
        "display(news_word_counts.head(100))"
      ],
      "execution_count": null,
      "outputs": [
        {
          "output_type": "display_data",
          "data": {
            "text/plain": [
              ".                 899948\n",
              ",                 872906\n",
              "s                 231123\n",
              "-                 191679\n",
              "Trump             132996\n",
              "said              132673\n",
              "The               115553\n",
              "’                  70098\n",
              ":                  63415\n",
              ")                  63128\n",
              "I                  62061\n",
              "(                  57607\n",
              "U                  54124\n",
              "“                  53931\n",
              "t                  53069\n",
              "S                  51453\n",
              "will               48561\n",
              "people             39640\n",
              "President          36123\n",
              "one                32627\n",
              "also               30519\n",
              "It                 29705\n",
              "Reuters            29343\n",
              "Clinton            28556\n",
              "Donald             28066\n",
              "Obama              28035\n",
              "?                  27492\n",
              "government         26786\n",
              "can                26401\n",
              "He                 26344\n",
              "Republican         25450\n",
              "House              25418\n",
              "In                 25292\n",
              "year               24425\n",
              ",”                 24296\n",
              "/                  23695\n",
              "told               23330\n",
              "United             22860\n",
              "just               22835\n",
              "We                 22082\n",
              "like               21830\n",
              "state              21276\n",
              "campaign           21257\n",
              "time               20355\n",
              "A                  19937\n",
              "election           19882\n",
              "two                19850\n",
              "president          19578\n",
              "States             19182\n",
              "last               18973\n",
              "But                18857\n",
              "$                  18357\n",
              "country            17936\n",
              "(@                 17884\n",
              "now                17279\n",
              "This               17223\n",
              "new                16820\n",
              "Hillary            16757\n",
              "years              16552\n",
              "former             16440\n",
              "re                 16433\n",
              "first              16337\n",
              "White              16161\n",
              "American           16132\n",
              "even               15892\n",
              "!                  15526\n",
              "made               15432\n",
              "media              15262\n",
              "say                15240\n",
              "political          14885\n",
              ".”                 14755\n",
              "many               14583\n",
              "get                14457\n",
              "law                14442\n",
              "percent            14392\n",
              "Republicans        14109\n",
              "going              14030\n",
              "Russia             13943\n",
              "make               13937\n",
              "right              13682\n",
              "America            13490\n",
              "back               13477\n",
              "party              13365\n",
              "New                13346\n",
              "called             13170\n",
              "State              13109\n",
              "presidential       13060\n",
              "week               13048\n",
              "since              12896\n",
              "administration     12818\n",
              "support            12788\n",
              "And                12766\n",
              "Senate             12706\n",
              "including          12586\n",
              "know               12491\n",
              "vote               12442\n",
              "way                12440\n",
              "Democratic         12354\n",
              "police             12347\n",
              "think              12269\n",
              "dtype: int64"
            ]
          },
          "metadata": {
            "tags": []
          }
        }
      ]
    },
    {
      "cell_type": "code",
      "metadata": {
        "id": "QgqR7Sc6dI3k"
      },
      "source": [
        "test_words = ['Trump', 'President', 'election', 'Republicans', 'Democratic']"
      ],
      "execution_count": null,
      "outputs": []
    },
    {
      "cell_type": "code",
      "metadata": {
        "id": "XldaE1ZCdI3k",
        "colab": {
          "base_uri": "https://localhost:8080/"
        },
        "outputId": "111eaff0-0e22-4aaf-8555-1c3008511088"
      },
      "source": [
        "## test word2vec first\n",
        "N_neighbors = 10\n",
        "for test_word_i in test_words:\n",
        "    print(f'testing word = {test_word_i}')\n",
        "    print(f'\\tfake news neighbors')\n",
        "    print(fake_news_word2vec_embed_model.wv.most_similar(test_word_i, topn=N_neighbors))\n",
        "    print(f'\\treal news neighbors')\n",
        "    print(real_news_word2vec_embed_model.wv.most_similar(test_word_i, topn=N_neighbors))"
      ],
      "execution_count": null,
      "outputs": [
        {
          "output_type": "stream",
          "text": [
            "testing word = Trump\n",
            "\tfake news neighbors\n",
            "[('Cruz', 0.7542868852615356), ('Obama', 0.7326431274414062), ('he', 0.6627222299575806), ('Rubio', 0.6566429138183594), ('trump', 0.6353479623794556), ('GOP', 0.6161357164382935), ('him', 0.6154471039772034), ('He', 0.6065627336502075), ('Putin', 0.5974994897842407), ('Bush', 0.5890234112739563)]\n",
            "\treal news neighbors\n",
            "[('him', 0.6888852119445801), ('Obama', 0.6868149638175964), ('Macron', 0.6779283285140991), ('Cruz', 0.6577001214027405), ('Rubio', 0.6564674973487854), ('Clinton', 0.6557707786560059), ('Abe', 0.651238739490509), ('he', 0.6333320140838623), ('Pence', 0.6211468577384949), ('Tillerson', 0.6183730363845825)]\n",
            "testing word = President\n",
            "\tfake news neighbors\n",
            "[('president', 0.8004584312438965), ('Barack', 0.7969117760658264), ('administration', 0.7702555656433105), ('presidency', 0.7402648329734802), ('Administration', 0.7270553112030029), ('Michelle', 0.616836667060852), ('nominee', 0.6052952408790588), ('regime', 0.5850890874862671), ('Presidency', 0.576806366443634), ('Donald', 0.5613030195236206)]\n",
            "\treal news neighbors\n",
            "[('president', 0.6308104395866394), ('predecessor', 0.570038914680481), ('Tusk', 0.5458980798721313), ('Jr', 0.5286433696746826), ('presidency', 0.5145781636238098), ('Rumsfeld', 0.5104163885116577), ('counterpart', 0.491938054561615), ('Governor', 0.4909416437149048), ('Maia', 0.48573383688926697), ('leader', 0.48039546608924866)]\n",
            "testing word = election\n",
            "\tfake news neighbors\n",
            "[('elections', 0.778891921043396), ('primaries', 0.7418304085731506), ('race', 0.7160807251930237), ('nomination', 0.7149498462677002), ('primary', 0.7122625112533569), ('contest', 0.691138744354248), ('presidential', 0.6808596849441528), ('presidency', 0.6701884865760803), ('candidate', 0.6683717370033264), ('polls', 0.6597499251365662)]\n",
            "\treal news neighbors\n",
            "[('elections', 0.8428527116775513), ('race', 0.7417063117027283), ('contest', 0.6856149435043335), ('electoral', 0.6704519987106323), ('nominating', 0.646630585193634), ('vote', 0.6321263909339905), ('ballot', 0.631411612033844), ('campaign', 0.6264020800590515), ('candidate', 0.6156679391860962), ('party', 0.6144907474517822)]\n",
            "testing word = Republicans\n",
            "\tfake news neighbors\n",
            "[('Democrats', 0.9445343017578125), ('conservatives', 0.8779096007347107), ('Americans', 0.726625919342041), ('lawmakers', 0.7197590470314026), ('politicians', 0.7077614068984985), ('voters', 0.7074059844017029), ('progressives', 0.6943092942237854), ('candidates', 0.6897746324539185), ('liberals', 0.6881696581840515), ('GOP', 0.6816704273223877)]\n",
            "\treal news neighbors\n",
            "[('Democrats', 0.9397876262664795), ('conservatives', 0.8157765865325928), ('lawmakers', 0.7968851327896118), ('parties', 0.7209782004356384), ('Lawmakers', 0.7072699666023254), ('voters', 0.6853541135787964), ('senators', 0.6793911457061768), ('Conservatives', 0.6720776557922363), ('candidates', 0.665237545967102), ('supporters', 0.645807147026062)]\n",
            "testing word = Democratic\n",
            "\tfake news neighbors\n",
            "[('Republican', 0.8832844495773315), ('Democrat', 0.8314604759216309), ('GOP', 0.7758756279945374), ('Tea', 0.7429810762405396), ('republican', 0.6818928122520447), ('Libertarian', 0.6424157619476318), ('Communist', 0.6408422589302063), ('Labour', 0.622765839099884), ('presidential', 0.5980229377746582), ('Senate', 0.5854494571685791)]\n",
            "\treal news neighbors\n",
            "[('Republican', 0.8854277729988098), ('Conservative', 0.7831263542175293), ('Socialist', 0.7594935894012451), ('PRI', 0.7350648045539856), ('Labour', 0.7280474901199341), ('ANC', 0.7235405445098877), ('Tea', 0.7129971385002136), ('AK', 0.6949486136436462), ('Green', 0.6831214427947998), ('Regions', 0.6611542701721191)]\n"
          ],
          "name": "stdout"
        },
        {
          "output_type": "stream",
          "text": [
            "/usr/local/lib/python3.6/dist-packages/gensim/matutils.py:737: FutureWarning: Conversion of the second argument of issubdtype from `int` to `np.signedinteger` is deprecated. In future, it will be treated as `np.int64 == np.dtype(int).type`.\n",
            "  if np.issubdtype(vec.dtype, np.int):\n"
          ],
          "name": "stderr"
        }
      ]
    },
    {
      "cell_type": "markdown",
      "metadata": {
        "id": "P8kby2VZdI3l"
      },
      "source": [
        "For `word2vec`:\n",
        "- `Trump` is associated with almost exclusively Republican politicians (and Putin) in fake news and with a mix of international politicians in real news\n",
        "- `President` is associated more with U.S. politics in fake news and more with international politicians in real news\n",
        "- `Democratic` are associated more with U.S. politics in fake news and more with general political parties in real news"
      ]
    },
    {
      "cell_type": "code",
      "metadata": {
        "id": "_VjkbTOMdI3m",
        "colab": {
          "base_uri": "https://localhost:8080/"
        },
        "outputId": "1b6d15f6-a313-49fc-8d54-08bb9560d635"
      },
      "source": [
        "## test Glove embeddings\n",
        "N_neighbors = 10\n",
        "for test_word_i in test_words:\n",
        "    print(f'testing word = {test_word_i}')\n",
        "    print(f'\\tfake news neighbors')\n",
        "    print(fake_news_glove_embed_model.most_similar(test_word_i, number=N_neighbors))\n",
        "    print(f'\\treal news neighbors')\n",
        "    print(real_news_glove_embed_model.most_similar(test_word_i, number=N_neighbors))"
      ],
      "execution_count": null,
      "outputs": [
        {
          "output_type": "stream",
          "text": [
            "testing word = Trump\n",
            "\tfake news neighbors\n",
            "[('Donald', 0.8995104048828402), ('he', 0.7510152023913843), ('President', 0.7289551160683528), ('elect', 0.7018952339996948), ('his', 0.6894683958666277), ('him', 0.6590607131669851), ('supporter', 0.650652397522237), ('Obama', 0.6459602087651001), ('presidency', 0.6456801048266373)]\n",
            "\treal news neighbors\n",
            "[('Donald', 0.8999952077484253), ('Obama', 0.740171056813851), ('Clinton', 0.7259076263176928), ('he', 0.7161130616849752), ('Putin', 0.7157221029232305), ('president', 0.7005582815167459), ('administration', 0.699648394966008), ('elect', 0.6946826981167531), ('He', 0.6930951709096086)]\n",
            "testing word = President\n",
            "\tfake news neighbors\n",
            "[('Obama', 0.8787505866253105), ('president', 0.8297460406112078), ('Barack', 0.8097643017568634), ('Donald', 0.7786599002096065), ('ObamaE', 0.7675834296393814), ('administration', 0.7636917647469326), ('elect', 0.7305534045344345), ('Trump', 0.728955116068353), ('Putin', 0.6716257742337292)]\n",
            "\treal news neighbors\n",
            "[('Barack', 0.8069133844365693), ('Obama', 0.7652734865579703), ('Xi', 0.7325036014727178), ('elect', 0.7311648468273894), ('president', 0.7286690629279299), ('Donald', 0.7212482888035131), ('Vice', 0.71201805518998), ('Vladimir', 0.6740482606774978), ('Emmanuel', 0.6668299198952441)]\n",
            "testing word = election\n",
            "\tfake news neighbors\n",
            "[('presidential', 0.7811715484475453), ('win', 0.7261690813918633), ('won', 0.7110077429433272), ('primary', 0.6971328660966708), ('campaign', 0.6942696323064391), ('elections', 0.6932626481303165), ('2016', 0.6846305856893837), ('race', 0.677450156308952), ('process', 0.6646657418153342)]\n",
            "\treal news neighbors\n",
            "[('2016', 0.8256332350096169), ('presidential', 0.8030988071987903), ('elections', 0.7974120117665089), ('November', 0.7798220618044112), ('July', 0.7010202539719728), ('race', 0.6840903959109801), ('vote', 0.6827562229789786), ('2018', 0.6754497573996968), ('June', 0.6733627378548077)]\n",
            "testing word = Republicans\n",
            "\tfake news neighbors\n",
            "[('Democrats', 0.8961469250952033), ('conservatives', 0.8249306627989923), ('GOP', 0.743651580451974), ('Congress', 0.7414049134419138), ('Republican', 0.7348188380111701), ('won', 0.7147056210021069), ('win', 0.6797482683829427), ('voters', 0.6738124422611418), ('still', 0.6723307985608485)]\n",
            "\treal news neighbors\n",
            "[('Democrats', 0.9045199734269047), ('lawmakers', 0.8426598839319285), ('both', 0.7720973944454675), ('Congress', 0.7409623018801241), ('senators', 0.7358072893656712), ('Republican', 0.7017435893125257), ('Senate', 0.6865402784244785), ('some', 0.6593886388500072), ('opposed', 0.6590586549145524)]\n",
            "testing word = Democratic\n",
            "\tfake news neighbors\n",
            "[('Republican', 0.8744266278592752), ('Democrat', 0.8326532449964446), ('Party', 0.8207860693817824), ('GOP', 0.8101995298698995), ('presidential', 0.8035585336107657), ('candidates', 0.7607017076514181), ('candidate', 0.7495126222127931), ('primary', 0.7350840211891567), ('party', 0.7074662987574949)]\n",
            "\treal news neighbors\n",
            "[('Republican', 0.8228312220800497), ('candidate', 0.7685453561919888), ('Democrat', 0.761564037514429), ('Hillary', 0.7299404655175027), ('nominee', 0.7055108716850624), ('Party', 0.6879932813496151), ('candidates', 0.6853048236783968), ('presumptive', 0.682881983471366), ('rival', 0.6819931193872162)]\n"
          ],
          "name": "stdout"
        }
      ]
    },
    {
      "cell_type": "markdown",
      "metadata": {
        "id": "mqFxUXcjdI3n"
      },
      "source": [
        "For `Glove`:\n",
        "- `Trump` is associated with himself (and news network? `Q13FOXWATCH`) in fake news and with other presidents in real news\n",
        "- `President` is associated with Trump and Obama in fake news and more with international politicians in real news\n",
        "- `Democratic` is associated with U.S. party politics in both fake and real news\n",
        "\n",
        "This qualitative analysis helps us understand that some words may indeed have significant divergence in their connotations between the different data sets, while others are more stable."
      ]
    },
    {
      "cell_type": "markdown",
      "metadata": {
        "id": "jk8l_dztdI3n"
      },
      "source": [
        "### Find words with different neighbors"
      ]
    },
    {
      "cell_type": "markdown",
      "metadata": {
        "id": "o7HujsI_dI3o"
      },
      "source": [
        "Which words are the most different across the data?\n",
        "\n",
        "We'll measure \"difference\" using the overlap in nearest neighbors (i.e. Jaccard similarity).\n",
        "\n",
        "$$\\text{diff(word1, word2)} = 1 - \\frac{\\text{neighbors(word1)} \\: \\cap \\: \\text{neighbors(word2)}}{\\text{neighbors(word1)} \\cup \\text{neighbors(word2)}}$$\n",
        "\n",
        "A difference of 100% means that the words have no neighbors in common, while a difference of 0% means that the words have identical neighbors."
      ]
    },
    {
      "cell_type": "code",
      "metadata": {
        "id": "87cUxSkIdI3o"
      },
      "source": [
        "def compute_neighbor_diff(neighbors_1, neighbors_2):\n",
        "    neighbor_intersect = set(neighbors_1) & set(neighbors_2)\n",
        "    neighbor_union = set(neighbors_1) | set(neighbors_2)\n",
        "    neighbor_diff = 1 - len(neighbor_intersect) / len(neighbor_union)\n",
        "    return neighbor_diff\n",
        "def compute_neighbor_diff_model(word, model_1, model_2, N_neighbor, model_type='word2vec'):\n",
        "    if(model_type == 'word2vec'):\n",
        "        neighbors_1, neighbor_scores_1 = zip(*model_1.wv.most_similar(word, topn=N_neighbor))\n",
        "        neighbors_2, neighbor_scores_2 = zip(*model_2.wv.most_similar(word, topn=N_neighbor))\n",
        "    elif(model_type == 'glove'):\n",
        "        neighbors_1, neighbor_scores_1 = zip(*model_1.most_similar(word, number=N_neighbor))\n",
        "        neighbors_2, neighbor_scores_2 = zip(*model_2.most_similar(word, number=N_neighbor))\n",
        "    neighbor_diff = compute_neighbor_diff(neighbors_1, neighbors_2)\n",
        "    return neighbor_diff"
      ],
      "execution_count": null,
      "outputs": []
    },
    {
      "cell_type": "code",
      "metadata": {
        "id": "NSs14U8bdI3p",
        "colab": {
          "base_uri": "https://localhost:8080/"
        },
        "outputId": "bcce82d6-a81f-4e7d-8d34-1bfac0ce2b86"
      },
      "source": [
        "# get shared vocabulary\n",
        "shared_word2vec_vocab = list(set(fake_news_word2vec_embed_model.wv.vocab.keys()) & set(real_news_word2vec_embed_model.wv.vocab.keys()))\n",
        "print(f'{len(shared_word2vec_vocab)} words in word2vec vocab')\n",
        "# compute neighbor differences for all valid words\n",
        "model_type = 'word2vec'\n",
        "N_neighbor = 10\n",
        "fake_vs_real_word2vec_neighbor_diffs = list(map(lambda x: compute_neighbor_diff_model(x, fake_news_word2vec_embed_model, real_news_word2vec_embed_model, N_neighbor, model_type=model_type), shared_word2vec_vocab))\n",
        "# add vocabulary as index\n",
        "fake_vs_real_word2vec_neighbor_diffs = pd.Series(fake_vs_real_word2vec_neighbor_diffs, index=shared_word2vec_vocab)\n",
        "fake_vs_real_word2vec_neighbor_diffs.sort_values(inplace=True, ascending=False)"
      ],
      "execution_count": null,
      "outputs": [
        {
          "output_type": "stream",
          "text": [
            "23922 words in word2vec vocab\n"
          ],
          "name": "stdout"
        },
        {
          "output_type": "stream",
          "text": [
            "/usr/local/lib/python3.6/dist-packages/gensim/matutils.py:737: FutureWarning: Conversion of the second argument of issubdtype from `int` to `np.signedinteger` is deprecated. In future, it will be treated as `np.int64 == np.dtype(int).type`.\n",
            "  if np.issubdtype(vec.dtype, np.int):\n"
          ],
          "name": "stderr"
        }
      ]
    },
    {
      "cell_type": "code",
      "metadata": {
        "scrolled": true,
        "id": "VxYywzvUdI3q",
        "colab": {
          "base_uri": "https://localhost:8080/"
        },
        "outputId": "08d3482a-79c0-4af7-bc4c-82296d74769f"
      },
      "source": [
        "top_k = 20\n",
        "print('words with most neighbor difference')\n",
        "print(fake_vs_real_word2vec_neighbor_diffs.head(top_k))\n",
        "print('words with most neighbor similarity')\n",
        "print(fake_vs_real_word2vec_neighbor_diffs.tail(top_k))"
      ],
      "execution_count": null,
      "outputs": [
        {
          "output_type": "stream",
          "text": [
            "words with most neighbor difference\n",
            "swath           1.0\n",
            "Missing         1.0\n",
            "WIN             1.0\n",
            "Policies        1.0\n",
            "Vasquez         1.0\n",
            "transitioned    1.0\n",
            "wheelchairs     1.0\n",
            "reprieve        1.0\n",
            "testing         1.0\n",
            "Township        1.0\n",
            "Patriot         1.0\n",
            "Players         1.0\n",
            "rough           1.0\n",
            "facade          1.0\n",
            "referral        1.0\n",
            "106             1.0\n",
            "Nike            1.0\n",
            "psyche          1.0\n",
            "WHO             1.0\n",
            "tentatively     1.0\n",
            "dtype: float64\n",
            "words with most neighbor similarity\n",
            "March        0.181818\n",
            "aside        0.181818\n",
            "April        0.181818\n",
            "his          0.181818\n",
            "February     0.181818\n",
            "June         0.181818\n",
            "July         0.181818\n",
            "anyone       0.181818\n",
            "September    0.181818\n",
            "December     0.181818\n",
            "Tuesday      0.181818\n",
            "cannot       0.181818\n",
            "November     0.181818\n",
            "two          0.181818\n",
            "January      0.181818\n",
            "He           0.181818\n",
            "Thursday     0.181818\n",
            "Friday       0.181818\n",
            "Wednesday    0.181818\n",
            "Monday       0.000000\n",
            "dtype: float64\n"
          ],
          "name": "stdout"
        }
      ]
    },
    {
      "cell_type": "markdown",
      "metadata": {
        "id": "YfDnQgWfdI3q"
      },
      "source": [
        "The words with the biggest neighbor differences don't seem to be super informative and may reflect topical differences (e.g. fake news tends to discuss `Patriot` more often and therefore has more consistent nearest neighbors).\n",
        "\n",
        "What if we restrict to the most frequent words?"
      ]
    },
    {
      "cell_type": "code",
      "metadata": {
        "scrolled": true,
        "id": "ONUjIEqhdI3r",
        "colab": {
          "base_uri": "https://localhost:8080/",
          "height": 1000
        },
        "outputId": "8430bf0c-0a84-4101-e8c3-16a713743773"
      },
      "source": [
        "# filter the word counts to include words that are in the shared vocab\n",
        "word2vec_vocab_news_word_counts = news_word_counts.loc[(news_word_counts.index & set(shared_word2vec_vocab))]\n",
        "word2vec_neighbor_diff_count_data = pd.concat([fake_vs_real_word2vec_neighbor_diffs, \n",
        "                                               word2vec_vocab_news_word_counts], axis=1).dropna()\n",
        "word2vec_neighbor_diff_count_data.columns = ['neighbor_diff', 'count']\n",
        "# sort data by difference, then frequency\n",
        "word2vec_neighbor_diff_count_data.sort_values(['neighbor_diff', 'count'], inplace=True, ascending=False)\n",
        "top_k = 100\n",
        "display(word2vec_neighbor_diff_count_data.head(top_k))"
      ],
      "execution_count": null,
      "outputs": [
        {
          "output_type": "display_data",
          "data": {
            "text/html": [
              "<div>\n",
              "<style scoped>\n",
              "    .dataframe tbody tr th:only-of-type {\n",
              "        vertical-align: middle;\n",
              "    }\n",
              "\n",
              "    .dataframe tbody tr th {\n",
              "        vertical-align: top;\n",
              "    }\n",
              "\n",
              "    .dataframe thead th {\n",
              "        text-align: right;\n",
              "    }\n",
              "</style>\n",
              "<table border=\"1\" class=\"dataframe\">\n",
              "  <thead>\n",
              "    <tr style=\"text-align: right;\">\n",
              "      <th></th>\n",
              "      <th>neighbor_diff</th>\n",
              "      <th>count</th>\n",
              "    </tr>\n",
              "  </thead>\n",
              "  <tbody>\n",
              "    <tr>\n",
              "      <th>(</th>\n",
              "      <td>1.0</td>\n",
              "      <td>57607.0</td>\n",
              "    </tr>\n",
              "    <tr>\n",
              "      <th>U</th>\n",
              "      <td>1.0</td>\n",
              "      <td>54124.0</td>\n",
              "    </tr>\n",
              "    <tr>\n",
              "      <th>Donald</th>\n",
              "      <td>1.0</td>\n",
              "      <td>28066.0</td>\n",
              "    </tr>\n",
              "    <tr>\n",
              "      <th>/</th>\n",
              "      <td>1.0</td>\n",
              "      <td>23695.0</td>\n",
              "    </tr>\n",
              "    <tr>\n",
              "      <th>United</th>\n",
              "      <td>1.0</td>\n",
              "      <td>22860.0</td>\n",
              "    </tr>\n",
              "    <tr>\n",
              "      <th>New</th>\n",
              "      <td>1.0</td>\n",
              "      <td>13346.0</td>\n",
              "    </tr>\n",
              "    <tr>\n",
              "      <th>news</th>\n",
              "      <td>1.0</td>\n",
              "      <td>10343.0</td>\n",
              "    </tr>\n",
              "    <tr>\n",
              "      <th>via</th>\n",
              "      <td>1.0</td>\n",
              "      <td>9650.0</td>\n",
              "    </tr>\n",
              "    <tr>\n",
              "      <th>News</th>\n",
              "      <td>1.0</td>\n",
              "      <td>9025.0</td>\n",
              "    </tr>\n",
              "    <tr>\n",
              "      <th>image</th>\n",
              "      <td>1.0</td>\n",
              "      <td>8719.0</td>\n",
              "    </tr>\n",
              "    <tr>\n",
              "      <th>com</th>\n",
              "      <td>1.0</td>\n",
              "      <td>8696.0</td>\n",
              "    </tr>\n",
              "    <tr>\n",
              "      <th>foreign</th>\n",
              "      <td>1.0</td>\n",
              "      <td>8507.0</td>\n",
              "    </tr>\n",
              "    <tr>\n",
              "      <th>show</th>\n",
              "      <td>1.0</td>\n",
              "      <td>7552.0</td>\n",
              "    </tr>\n",
              "    <tr>\n",
              "      <th>US</th>\n",
              "      <td>1.0</td>\n",
              "      <td>7472.0</td>\n",
              "    </tr>\n",
              "    <tr>\n",
              "      <th>;</th>\n",
              "      <td>1.0</td>\n",
              "      <td>7395.0</td>\n",
              "    </tr>\n",
              "    <tr>\n",
              "      <th>twitter</th>\n",
              "      <td>1.0</td>\n",
              "      <td>6796.0</td>\n",
              "    </tr>\n",
              "    <tr>\n",
              "      <th>&amp;</th>\n",
              "      <td>1.0</td>\n",
              "      <td>5817.0</td>\n",
              "    </tr>\n",
              "    <tr>\n",
              "      <th>[</th>\n",
              "      <td>1.0</td>\n",
              "      <td>5781.0</td>\n",
              "    </tr>\n",
              "    <tr>\n",
              "      <th>2017</th>\n",
              "      <td>1.0</td>\n",
              "      <td>5635.0</td>\n",
              "    </tr>\n",
              "    <tr>\n",
              "      <th>'</th>\n",
              "      <td>1.0</td>\n",
              "      <td>5238.0</td>\n",
              "    </tr>\n",
              "    <tr>\n",
              "      <th>head</th>\n",
              "      <td>1.0</td>\n",
              "      <td>5078.0</td>\n",
              "    </tr>\n",
              "    <tr>\n",
              "      <th>yet</th>\n",
              "      <td>1.0</td>\n",
              "      <td>4922.0</td>\n",
              "    </tr>\n",
              "    <tr>\n",
              "      <th>co</th>\n",
              "      <td>1.0</td>\n",
              "      <td>4916.0</td>\n",
              "    </tr>\n",
              "    <tr>\n",
              "      <th>gun</th>\n",
              "      <td>1.0</td>\n",
              "      <td>4894.0</td>\n",
              "    </tr>\n",
              "    <tr>\n",
              "      <th>talks</th>\n",
              "      <td>1.0</td>\n",
              "      <td>4751.0</td>\n",
              "    </tr>\n",
              "    <tr>\n",
              "      <th>process</th>\n",
              "      <td>1.0</td>\n",
              "      <td>4734.0</td>\n",
              "    </tr>\n",
              "    <tr>\n",
              "      <th>face</th>\n",
              "      <td>1.0</td>\n",
              "      <td>4714.0</td>\n",
              "    </tr>\n",
              "    <tr>\n",
              "      <th>General</th>\n",
              "      <td>1.0</td>\n",
              "      <td>4702.0</td>\n",
              "    </tr>\n",
              "    <tr>\n",
              "      <th>Mr</th>\n",
              "      <td>1.0</td>\n",
              "      <td>4537.0</td>\n",
              "    </tr>\n",
              "    <tr>\n",
              "      <th>matter</th>\n",
              "      <td>1.0</td>\n",
              "      <td>4456.0</td>\n",
              "    </tr>\n",
              "    <tr>\n",
              "      <th>GOP</th>\n",
              "      <td>1.0</td>\n",
              "      <td>4433.0</td>\n",
              "    </tr>\n",
              "    <tr>\n",
              "      <th>No</th>\n",
              "      <td>1.0</td>\n",
              "      <td>4283.0</td>\n",
              "    </tr>\n",
              "    <tr>\n",
              "      <th>Bill</th>\n",
              "      <td>1.0</td>\n",
              "      <td>4141.0</td>\n",
              "    </tr>\n",
              "    <tr>\n",
              "      <th>Images</th>\n",
              "      <td>1.0</td>\n",
              "      <td>4073.0</td>\n",
              "    </tr>\n",
              "    <tr>\n",
              "      <th>Watch</th>\n",
              "      <td>1.0</td>\n",
              "      <td>4071.0</td>\n",
              "    </tr>\n",
              "    <tr>\n",
              "      <th>*</th>\n",
              "      <td>1.0</td>\n",
              "      <td>3985.0</td>\n",
              "    </tr>\n",
              "    <tr>\n",
              "      <th>due</th>\n",
              "      <td>1.0</td>\n",
              "      <td>3875.0</td>\n",
              "    </tr>\n",
              "    <tr>\n",
              "      <th>defense</th>\n",
              "      <td>1.0</td>\n",
              "      <td>3847.0</td>\n",
              "    </tr>\n",
              "    <tr>\n",
              "      <th>force</th>\n",
              "      <td>1.0</td>\n",
              "      <td>3761.0</td>\n",
              "    </tr>\n",
              "    <tr>\n",
              "      <th>special</th>\n",
              "      <td>1.0</td>\n",
              "      <td>3681.0</td>\n",
              "    </tr>\n",
              "    <tr>\n",
              "      <th>post</th>\n",
              "      <td>1.0</td>\n",
              "      <td>3638.0</td>\n",
              "    </tr>\n",
              "    <tr>\n",
              "      <th>immediately</th>\n",
              "      <td>1.0</td>\n",
              "      <td>3393.0</td>\n",
              "    </tr>\n",
              "    <tr>\n",
              "      <th>...</th>\n",
              "      <td>1.0</td>\n",
              "      <td>3335.0</td>\n",
              "    </tr>\n",
              "    <tr>\n",
              "      <th>capital</th>\n",
              "      <td>1.0</td>\n",
              "      <td>3325.0</td>\n",
              "    </tr>\n",
              "    <tr>\n",
              "      <th>air</th>\n",
              "      <td>1.0</td>\n",
              "      <td>3126.0</td>\n",
              "    </tr>\n",
              "    <tr>\n",
              "      <th>J</th>\n",
              "      <td>1.0</td>\n",
              "      <td>3095.0</td>\n",
              "    </tr>\n",
              "    <tr>\n",
              "      <th>=</th>\n",
              "      <td>1.0</td>\n",
              "      <td>3053.0</td>\n",
              "    </tr>\n",
              "    <tr>\n",
              "      <th>enforcement</th>\n",
              "      <td>1.0</td>\n",
              "      <td>3021.0</td>\n",
              "    </tr>\n",
              "    <tr>\n",
              "      <th>host</th>\n",
              "      <td>1.0</td>\n",
              "      <td>3021.0</td>\n",
              "    </tr>\n",
              "    <tr>\n",
              "      <th>First</th>\n",
              "      <td>1.0</td>\n",
              "      <td>3009.0</td>\n",
              "    </tr>\n",
              "    <tr>\n",
              "      <th>hit</th>\n",
              "      <td>1.0</td>\n",
              "      <td>2872.0</td>\n",
              "    </tr>\n",
              "    <tr>\n",
              "      <th>parliament</th>\n",
              "      <td>1.0</td>\n",
              "      <td>2805.0</td>\n",
              "    </tr>\n",
              "    <tr>\n",
              "      <th>City</th>\n",
              "      <td>1.0</td>\n",
              "      <td>2797.0</td>\n",
              "    </tr>\n",
              "    <tr>\n",
              "      <th>.-</th>\n",
              "      <td>1.0</td>\n",
              "      <td>2793.0</td>\n",
              "    </tr>\n",
              "    <tr>\n",
              "      <th>Bernie</th>\n",
              "      <td>1.0</td>\n",
              "      <td>2745.0</td>\n",
              "    </tr>\n",
              "    <tr>\n",
              "      <th>hand</th>\n",
              "      <td>1.0</td>\n",
              "      <td>2738.0</td>\n",
              "    </tr>\n",
              "    <tr>\n",
              "      <th>O</th>\n",
              "      <td>1.0</td>\n",
              "      <td>2730.0</td>\n",
              "    </tr>\n",
              "    <tr>\n",
              "      <th>watch</th>\n",
              "      <td>1.0</td>\n",
              "      <td>2718.0</td>\n",
              "    </tr>\n",
              "    <tr>\n",
              "      <th>record</th>\n",
              "      <td>1.0</td>\n",
              "      <td>2670.0</td>\n",
              "    </tr>\n",
              "    <tr>\n",
              "      <th>independence</th>\n",
              "      <td>1.0</td>\n",
              "      <td>2473.0</td>\n",
              "    </tr>\n",
              "    <tr>\n",
              "      <th>West</th>\n",
              "      <td>1.0</td>\n",
              "      <td>2427.0</td>\n",
              "    </tr>\n",
              "    <tr>\n",
              "      <th>reality</th>\n",
              "      <td>1.0</td>\n",
              "      <td>2424.0</td>\n",
              "    </tr>\n",
              "    <tr>\n",
              "      <th>fear</th>\n",
              "      <td>1.0</td>\n",
              "      <td>2386.0</td>\n",
              "    </tr>\n",
              "    <tr>\n",
              "      <th>read</th>\n",
              "      <td>1.0</td>\n",
              "      <td>2329.0</td>\n",
              "    </tr>\n",
              "    <tr>\n",
              "      <th>Century</th>\n",
              "      <td>1.0</td>\n",
              "      <td>2302.0</td>\n",
              "    </tr>\n",
              "    <tr>\n",
              "      <th>corruption</th>\n",
              "      <td>1.0</td>\n",
              "      <td>2263.0</td>\n",
              "    </tr>\n",
              "    <tr>\n",
              "      <th>Johnson</th>\n",
              "      <td>1.0</td>\n",
              "      <td>2253.0</td>\n",
              "    </tr>\n",
              "    <tr>\n",
              "      <th>popular</th>\n",
              "      <td>1.0</td>\n",
              "      <td>2234.0</td>\n",
              "    </tr>\n",
              "    <tr>\n",
              "      <th>room</th>\n",
              "      <td>1.0</td>\n",
              "      <td>2230.0</td>\n",
              "    </tr>\n",
              "    <tr>\n",
              "      <th>view</th>\n",
              "      <td>1.0</td>\n",
              "      <td>2213.0</td>\n",
              "    </tr>\n",
              "    <tr>\n",
              "      <th>status</th>\n",
              "      <td>1.0</td>\n",
              "      <td>2184.0</td>\n",
              "    </tr>\n",
              "    <tr>\n",
              "      <th>R</th>\n",
              "      <td>1.0</td>\n",
              "      <td>2179.0</td>\n",
              "    </tr>\n",
              "    <tr>\n",
              "      <th>form</th>\n",
              "      <td>1.0</td>\n",
              "      <td>2157.0</td>\n",
              "    </tr>\n",
              "    <tr>\n",
              "      <th>People</th>\n",
              "      <td>1.0</td>\n",
              "      <td>2121.0</td>\n",
              "    </tr>\n",
              "    <tr>\n",
              "      <th>Brexit</th>\n",
              "      <td>1.0</td>\n",
              "      <td>2117.0</td>\n",
              "    </tr>\n",
              "    <tr>\n",
              "      <th>opinion</th>\n",
              "      <td>1.0</td>\n",
              "      <td>2100.0</td>\n",
              "    </tr>\n",
              "    <tr>\n",
              "      <th>base</th>\n",
              "      <td>1.0</td>\n",
              "      <td>2099.0</td>\n",
              "    </tr>\n",
              "    <tr>\n",
              "      <th>share</th>\n",
              "      <td>1.0</td>\n",
              "      <td>2080.0</td>\n",
              "    </tr>\n",
              "    <tr>\n",
              "      <th>Wire</th>\n",
              "      <td>1.0</td>\n",
              "      <td>2071.0</td>\n",
              "    </tr>\n",
              "    <tr>\n",
              "      <th>numbers</th>\n",
              "      <td>1.0</td>\n",
              "      <td>2056.0</td>\n",
              "    </tr>\n",
              "    <tr>\n",
              "      <th>terms</th>\n",
              "      <td>1.0</td>\n",
              "      <td>2044.0</td>\n",
              "    </tr>\n",
              "    <tr>\n",
              "      <th>coverage</th>\n",
              "      <td>1.0</td>\n",
              "      <td>2016.0</td>\n",
              "    </tr>\n",
              "    <tr>\n",
              "      <th>operations</th>\n",
              "      <td>1.0</td>\n",
              "      <td>2012.0</td>\n",
              "    </tr>\n",
              "    <tr>\n",
              "      <th>Foundation</th>\n",
              "      <td>1.0</td>\n",
              "      <td>2008.0</td>\n",
              "    </tr>\n",
              "    <tr>\n",
              "      <th>Of</th>\n",
              "      <td>1.0</td>\n",
              "      <td>2003.0</td>\n",
              "    </tr>\n",
              "    <tr>\n",
              "      <th>Just</th>\n",
              "      <td>1.0</td>\n",
              "      <td>2001.0</td>\n",
              "    </tr>\n",
              "    <tr>\n",
              "      <th>Joe</th>\n",
              "      <td>1.0</td>\n",
              "      <td>1997.0</td>\n",
              "    </tr>\n",
              "    <tr>\n",
              "      <th>Kelly</th>\n",
              "      <td>1.0</td>\n",
              "      <td>1989.0</td>\n",
              "    </tr>\n",
              "    <tr>\n",
              "      <th>cover</th>\n",
              "      <td>1.0</td>\n",
              "      <td>1973.0</td>\n",
              "    </tr>\n",
              "    <tr>\n",
              "      <th>poor</th>\n",
              "      <td>1.0</td>\n",
              "      <td>1966.0</td>\n",
              "    </tr>\n",
              "    <tr>\n",
              "      <th>favor</th>\n",
              "      <td>1.0</td>\n",
              "      <td>1944.0</td>\n",
              "    </tr>\n",
              "    <tr>\n",
              "      <th>body</th>\n",
              "      <td>1.0</td>\n",
              "      <td>1916.0</td>\n",
              "    </tr>\n",
              "    <tr>\n",
              "      <th>standing</th>\n",
              "      <td>1.0</td>\n",
              "      <td>1914.0</td>\n",
              "    </tr>\n",
              "    <tr>\n",
              "      <th>agree</th>\n",
              "      <td>1.0</td>\n",
              "      <td>1903.0</td>\n",
              "    </tr>\n",
              "    <tr>\n",
              "      <th>Paris</th>\n",
              "      <td>1.0</td>\n",
              "      <td>1885.0</td>\n",
              "    </tr>\n",
              "    <tr>\n",
              "      <th>test</th>\n",
              "      <td>1.0</td>\n",
              "      <td>1866.0</td>\n",
              "    </tr>\n",
              "    <tr>\n",
              "      <th>individual</th>\n",
              "      <td>1.0</td>\n",
              "      <td>1824.0</td>\n",
              "    </tr>\n",
              "    <tr>\n",
              "      <th>screen</th>\n",
              "      <td>1.0</td>\n",
              "      <td>1819.0</td>\n",
              "    </tr>\n",
              "    <tr>\n",
              "      <th>Sen</th>\n",
              "      <td>1.0</td>\n",
              "      <td>1804.0</td>\n",
              "    </tr>\n",
              "    <tr>\n",
              "      <th>referendum</th>\n",
              "      <td>1.0</td>\n",
              "      <td>1791.0</td>\n",
              "    </tr>\n",
              "  </tbody>\n",
              "</table>\n",
              "</div>"
            ],
            "text/plain": [
              "              neighbor_diff    count\n",
              "(                       1.0  57607.0\n",
              "U                       1.0  54124.0\n",
              "Donald                  1.0  28066.0\n",
              "/                       1.0  23695.0\n",
              "United                  1.0  22860.0\n",
              "New                     1.0  13346.0\n",
              "news                    1.0  10343.0\n",
              "via                     1.0   9650.0\n",
              "News                    1.0   9025.0\n",
              "image                   1.0   8719.0\n",
              "com                     1.0   8696.0\n",
              "foreign                 1.0   8507.0\n",
              "show                    1.0   7552.0\n",
              "US                      1.0   7472.0\n",
              ";                       1.0   7395.0\n",
              "twitter                 1.0   6796.0\n",
              "&                       1.0   5817.0\n",
              "[                       1.0   5781.0\n",
              "2017                    1.0   5635.0\n",
              "'                       1.0   5238.0\n",
              "head                    1.0   5078.0\n",
              "yet                     1.0   4922.0\n",
              "co                      1.0   4916.0\n",
              "gun                     1.0   4894.0\n",
              "talks                   1.0   4751.0\n",
              "process                 1.0   4734.0\n",
              "face                    1.0   4714.0\n",
              "General                 1.0   4702.0\n",
              "Mr                      1.0   4537.0\n",
              "matter                  1.0   4456.0\n",
              "GOP                     1.0   4433.0\n",
              "No                      1.0   4283.0\n",
              "Bill                    1.0   4141.0\n",
              "Images                  1.0   4073.0\n",
              "Watch                   1.0   4071.0\n",
              "*                       1.0   3985.0\n",
              "due                     1.0   3875.0\n",
              "defense                 1.0   3847.0\n",
              "force                   1.0   3761.0\n",
              "special                 1.0   3681.0\n",
              "post                    1.0   3638.0\n",
              "immediately             1.0   3393.0\n",
              "...                     1.0   3335.0\n",
              "capital                 1.0   3325.0\n",
              "air                     1.0   3126.0\n",
              "J                       1.0   3095.0\n",
              "=                       1.0   3053.0\n",
              "enforcement             1.0   3021.0\n",
              "host                    1.0   3021.0\n",
              "First                   1.0   3009.0\n",
              "hit                     1.0   2872.0\n",
              "parliament              1.0   2805.0\n",
              "City                    1.0   2797.0\n",
              ".-                      1.0   2793.0\n",
              "Bernie                  1.0   2745.0\n",
              "hand                    1.0   2738.0\n",
              "O                       1.0   2730.0\n",
              "watch                   1.0   2718.0\n",
              "record                  1.0   2670.0\n",
              "independence            1.0   2473.0\n",
              "West                    1.0   2427.0\n",
              "reality                 1.0   2424.0\n",
              "fear                    1.0   2386.0\n",
              "read                    1.0   2329.0\n",
              "Century                 1.0   2302.0\n",
              "corruption              1.0   2263.0\n",
              "Johnson                 1.0   2253.0\n",
              "popular                 1.0   2234.0\n",
              "room                    1.0   2230.0\n",
              "view                    1.0   2213.0\n",
              "status                  1.0   2184.0\n",
              "R                       1.0   2179.0\n",
              "form                    1.0   2157.0\n",
              "People                  1.0   2121.0\n",
              "Brexit                  1.0   2117.0\n",
              "opinion                 1.0   2100.0\n",
              "base                    1.0   2099.0\n",
              "share                   1.0   2080.0\n",
              "Wire                    1.0   2071.0\n",
              "numbers                 1.0   2056.0\n",
              "terms                   1.0   2044.0\n",
              "coverage                1.0   2016.0\n",
              "operations              1.0   2012.0\n",
              "Foundation              1.0   2008.0\n",
              "Of                      1.0   2003.0\n",
              "Just                    1.0   2001.0\n",
              "Joe                     1.0   1997.0\n",
              "Kelly                   1.0   1989.0\n",
              "cover                   1.0   1973.0\n",
              "poor                    1.0   1966.0\n",
              "favor                   1.0   1944.0\n",
              "body                    1.0   1916.0\n",
              "standing                1.0   1914.0\n",
              "agree                   1.0   1903.0\n",
              "Paris                   1.0   1885.0\n",
              "test                    1.0   1866.0\n",
              "individual              1.0   1824.0\n",
              "screen                  1.0   1819.0\n",
              "Sen                     1.0   1804.0\n",
              "referendum              1.0   1791.0"
            ]
          },
          "metadata": {
            "tags": []
          }
        }
      ]
    },
    {
      "cell_type": "markdown",
      "metadata": {
        "id": "y7PftjyRdI3t"
      },
      "source": [
        "OK! This leaves us with some interesting words to investigate:\n",
        "\n",
        "- `twitter`\n",
        "- `defense`\n",
        "- `gun`\n",
        "- `Brexit`\n",
        "- `popular`\n",
        "- `People`\n",
        "- `corruption`"
      ]
    },
    {
      "cell_type": "code",
      "metadata": {
        "scrolled": true,
        "id": "xxB7j4YUdI3v",
        "colab": {
          "base_uri": "https://localhost:8080/"
        },
        "outputId": "a991885e-6cd8-4a06-f337-3073ef0ab426"
      },
      "source": [
        "# print neighbors for all high-difference words\n",
        "high_diff_words = ['twitter', 'defense', 'gun', 'Brexit', 'popular', 'People', 'corruption']\n",
        "N_neighbors = 10\n",
        "for word_i in high_diff_words:\n",
        "    print(f'testing word = {word_i}')\n",
        "    print(f'\\tfake news neighbors')\n",
        "    print(fake_news_word2vec_embed_model.most_similar(word_i, topn=N_neighbors))\n",
        "    print(f'\\treal news neighbors')\n",
        "    print(real_news_word2vec_embed_model.most_similar(word_i, topn=N_neighbors))"
      ],
      "execution_count": null,
      "outputs": [
        {
          "output_type": "stream",
          "text": [
            "testing word = twitter\n",
            "\tfake news neighbors\n",
            "[('www', 0.6070612668991089), ('pic', 0.5979985594749451), ('john', 0.5946311354637146), ('hillaryclinton', 0.5928731560707092), ('??????????', 0.579643964767456), ('Neiman', 0.5753360986709595), ('en_US', 0.5644693374633789), ('sdk', 0.5569521188735962), ('WomensMarch', 0.5483077168464661), ('ConcernedStudent1950', 0.5445438623428345)]\n",
            "\treal news neighbors\n",
            "[('microblog', 0.7688511610031128), ('crotch', 0.7561038136482239), ('Instagram', 0.7461926341056824), ('Weibo', 0.7108451128005981), ('Wheels', 0.6860888004302979), ('LinkedIn', 0.6857026219367981), ('dwelling', 0.6821672916412354), ('Meals', 0.6682783365249634), ('morals', 0.6675081253051758), ('writings', 0.6665583252906799)]\n",
            "testing word = defense\n",
            "\tfake news neighbors\n",
            "[('role', 0.6575046181678772), ('position', 0.615018367767334), ('stance', 0.5982798337936401), ('servant', 0.5973563194274902), ('chief', 0.5921223759651184), ('rejection', 0.5802915096282959), ('alliance', 0.5768030285835266), ('favor', 0.5766576528549194), ('edict', 0.5753903985023499), ('charge', 0.5717446208000183)]\n",
            "\treal news neighbors\n",
            "[('defence', 0.8125608563423157), ('foreign', 0.7119519114494324), ('commerce', 0.6920163631439209), ('transportation', 0.6221017241477966), ('development', 0.6210939884185791), ('interior', 0.6208276748657227), ('management', 0.6205630302429199), ('finance', 0.6163516640663147), ('energy', 0.6149525046348572), ('infrastructure', 0.5878212451934814)]\n",
            "testing word = gun\n",
            "\tfake news neighbors\n",
            "[('firearm', 0.7084372639656067), ('guns', 0.675535261631012), ('bathroom', 0.6285750865936279), ('concealed', 0.6272762417793274), ('firearms', 0.6060128808021545), ('background', 0.5869278907775879), ('corrosion', 0.5847285389900208), ('weapon', 0.5572037100791931), ('license', 0.5546659231185913), ('suit', 0.5484351515769958)]\n",
            "\treal news neighbors\n",
            "[('abortion', 0.7308399081230164), ('environmental', 0.6454980373382568), ('religious', 0.6391414999961853), ('stricter', 0.6206373572349548), ('labor', 0.6195254921913147), ('tighter', 0.6161639094352722), ('strict', 0.6066237092018127), ('traffic', 0.591049075126648), ('gay', 0.5809123516082764), ('excessive', 0.5805349349975586)]\n",
            "testing word = Brexit\n",
            "\tfake news neighbors\n",
            "[('Rouhani', 0.5822790861129761), ('2020', 0.5712632536888123), ('Duterte', 0.5619748830795288), ('gloom', 0.5583631992340088), ('militarism', 0.5552449226379395), ('victory', 0.5518925189971924), ('Candidate', 0.5406746864318848), ('vigilantism', 0.5378959774971008), ('BREXIT', 0.5374472141265869), ('Paris', 0.5348734855651855)]\n",
            "\treal news neighbors\n",
            "[('divorce', 0.752288281917572), ('Britain', 0.71241694688797), ('EU', 0.6959599256515503), ('bloc', 0.6788729429244995), ('Merkel', 0.603806734085083), ('negotiations', 0.6034669280052185), ('Brussels', 0.5970825552940369), ('exit', 0.5765312910079956), ('future', 0.5760590434074402), ('Barnier', 0.5666030645370483)]\n",
            "testing word = popular\n",
            "\tfake news neighbors\n",
            "[('unpopular', 0.7170221209526062), ('margin', 0.612238883972168), ('narrow', 0.6082300543785095), ('favorable', 0.5576472282409668), ('polls', 0.5438762903213501), ('subtle', 0.5399017930030823), ('slim', 0.536993145942688), ('progressive', 0.5352452397346497), ('politician', 0.533599317073822), ('demographic', 0.5272344946861267)]\n",
            "\treal news neighbors\n",
            "[('Latino', 0.6789015531539917), ('nationally', 0.6518588066101074), ('leaning', 0.6468833088874817), ('Hispanic', 0.6320254802703857), ('turnout', 0.6268044710159302), ('winning', 0.6250858902931213), ('battleground', 0.6168834567070007), ('favorite', 0.6163577437400818), ('blacks', 0.6119670271873474), ('conservative', 0.6118586659431458)]\n",
            "testing word = People\n",
            "\tfake news neighbors\n",
            "[('folks', 0.7258380651473999), ('idiots', 0.7249968647956848), ('patriots', 0.7130868434906006), ('Dems', 0.6993215084075928), ('Conservatives', 0.6629174947738647), ('progressives', 0.6459220051765442), ('bikers', 0.6314448714256287), ('guys', 0.6221922636032104), ('liberals', 0.6141989231109619), ('racists', 0.6126310229301453)]\n",
            "\treal news neighbors\n",
            "[('Liberty', 0.6743597984313965), ('Country', 0.6648508906364441), ('Resistance', 0.6522029638290405), ('Women', 0.6285005807876587), ('Movement', 0.6239476203918457), ('Black', 0.6174302101135254), ('Holy', 0.610730767250061), ('Cities', 0.6094937324523926), ('Church', 0.6083824634552002), ('Enquirer', 0.6021800637245178)]\n",
            "testing word = corruption\n",
            "\tfake news neighbors\n",
            "[('hacking', 0.7536702752113342), ('secrecy', 0.7455185055732727), ('ongoing', 0.7365700006484985), ('investigations', 0.7021944522857666), ('litigation', 0.6990571022033691), ('deception', 0.6867972016334534), ('collusion', 0.6756966710090637), ('mounting', 0.6746975183486938), ('violations', 0.6740468144416809), ('theft', 0.6686791181564331)]\n",
            "\treal news neighbors\n",
            "[('graft', 0.9236050248146057), ('criminal', 0.7297093272209167), ('bribery', 0.7296901345252991), ('scandal', 0.7112309336662292), ('scandals', 0.7107619047164917), ('abuse', 0.6732050180435181), ('rebellion', 0.6699951887130737), ('fraud', 0.6699525117874146), ('alleged', 0.6678439378738403), ('lawsuits', 0.6600227355957031)]\n"
          ],
          "name": "stdout"
        },
        {
          "output_type": "stream",
          "text": [
            "/usr/local/lib/python3.6/dist-packages/ipykernel_launcher.py:7: DeprecationWarning: Call to deprecated `most_similar` (Method will be removed in 4.0.0, use self.wv.most_similar() instead).\n",
            "  import sys\n",
            "/usr/local/lib/python3.6/dist-packages/gensim/matutils.py:737: FutureWarning: Conversion of the second argument of issubdtype from `int` to `np.signedinteger` is deprecated. In future, it will be treated as `np.int64 == np.dtype(int).type`.\n",
            "  if np.issubdtype(vec.dtype, np.int):\n",
            "/usr/local/lib/python3.6/dist-packages/ipykernel_launcher.py:9: DeprecationWarning: Call to deprecated `most_similar` (Method will be removed in 4.0.0, use self.wv.most_similar() instead).\n",
            "  if __name__ == '__main__':\n"
          ],
          "name": "stderr"
        }
      ]
    },
    {
      "cell_type": "markdown",
      "metadata": {
        "id": "-iSG1OjHdI3x"
      },
      "source": [
        "This reveals consistent connotation differences in the way that fake news articles frame common issues.\n",
        "\n",
        "- `twitter` is associated with activity on the platform (`WomensMarch`) in fake news, and associated with other social media platforms in real news\n",
        "- `defense` is associated with more general aspects of defending, and associated with government departments in real news\n",
        "- `gun` is associated with different components of owning guns (`firearm`, `concealed`) in fake news, and associated with controversial issues and restrictions (`abortion`, `strict`) in real news\n",
        "- `Brexit` is associated with conflict in fake news (`victory`), and associated with European politics in real news\n",
        "- `popular` is associated with political polling in fake news (`margin`, `politician`), and associated with election outcomes for sub-populations (`Hispanic`, `blacks`) in real news\n",
        "- `People` is associated with \"national\" identity (`patriots`, `liberals`) in fake news, and associated with more diverse identity (`Women`, `Black`) in real news\n",
        "- `corruption` is associated with investigations into hacking (related to Clinton's emails?) in fake news, and associated with financial crime in real news"
      ]
    },
    {
      "cell_type": "markdown",
      "metadata": {
        "id": "xfVfRqsVdI3x"
      },
      "source": [
        "### Visualizing word embeddings\n",
        "Similar to the topic models, we may find that we can explore associations between words more effectively by visualizing the word embeddings in 2-dimensional space."
      ]
    },
    {
      "cell_type": "markdown",
      "metadata": {
        "id": "U2giS9IidI3x"
      },
      "source": [
        "Let's use Principal Components Analysis again to convert the word embeddings to 2-dimensional space."
      ]
    },
    {
      "cell_type": "code",
      "metadata": {
        "id": "KFQWZ_EidI3z"
      },
      "source": [
        "from sklearn.decomposition import PCA\n",
        "from sklearn.preprocessing import StandardScaler\n",
        "def shrink_embeddings(embeddings):\n",
        "    num_viz_components = 2\n",
        "    pca_model = PCA(n_components=num_viz_components)\n",
        "    mini_embeddings = pca_model.fit_transform(embeddings)\n",
        "    # rescale to N(0,1)\n",
        "    scaler = StandardScaler()\n",
        "    mini_embeddings = scaler.fit_transform(mini_embeddings)\n",
        "    return mini_embeddings\n",
        "real_news_word2vec_mini_embeds = shrink_embeddings(real_news_word2vec_embed_model.wv.vectors)\n",
        "fake_news_word2vec_mini_embeds = shrink_embeddings(fake_news_word2vec_embed_model.wv.vectors)\n",
        "# get word to index lookup\n",
        "real_news_word2vec_vocab_idx = {word : index for index, word in enumerate(real_news_word2vec_embed_model.wv.index2word)}\n",
        "fake_news_word2vec_vocab_idx = {word : index for index, word in enumerate(fake_news_word2vec_embed_model.wv.index2word)}"
      ],
      "execution_count": null,
      "outputs": []
    },
    {
      "cell_type": "markdown",
      "metadata": {
        "id": "nwJ4-_jedI30"
      },
      "source": [
        "Let's just try to plot the top-K words to keep things from getting too messy."
      ]
    },
    {
      "cell_type": "code",
      "metadata": {
        "scrolled": true,
        "id": "jlvqQvjkdI31",
        "colab": {
          "base_uri": "https://localhost:8080/"
        },
        "outputId": "af912a4c-2365-4cda-90df-c827bb4bcf02"
      },
      "source": [
        "top_k_plot_word_count = 100\n",
        "top_k_plot_words = word2vec_vocab_news_word_counts.sort_values(inplace=False, ascending=False).iloc[:top_k_plot_word_count].index.tolist()\n",
        "print(top_k_plot_words[:50])"
      ],
      "execution_count": null,
      "outputs": [
        {
          "output_type": "stream",
          "text": [
            "['.', ',', 's', '-', 'Trump', 'said', 'The', ':', ')', 'I', '(', 'U', 't', 'S', 'will', 'people', 'President', 'one', 'also', 'It', 'Reuters', 'Clinton', 'Donald', 'Obama', '?', 'government', 'can', 'He', 'Republican', 'House', 'In', 'year', '/', 'told', 'United', 'just', 'We', 'like', 'state', 'campaign', 'time', 'A', 'election', 'two', 'president', 'States', 'last', 'But', '$', 'country']\n"
          ],
          "name": "stdout"
        }
      ]
    },
    {
      "cell_type": "code",
      "metadata": {
        "id": "JmdnIkvydI32"
      },
      "source": [
        "## code to plot each word as an annotated point\n",
        "import matplotlib\n",
        "%matplotlib inline\n",
        "import matplotlib.pyplot as plt\n",
        "def plot_embeddings(embeddings, embedding_vocab, vocab_to_idx):\n",
        "    embedding_vocab_idx = list(map(lambda x: vocab_to_idx[x], embedding_vocab))\n",
        "    height, width = (10, 6)\n",
        "    plot_fig = plt.figure(figsize=(height, width))\n",
        "    ax = plot_fig.add_subplot(1,1,1)\n",
        "    # plot invisible points to make words easier to see\n",
        "    ax.scatter(embeddings[embedding_vocab_idx, 0], embeddings[embedding_vocab_idx, 1], color=(0.,0.,0.,0.))\n",
        "    for i, (word_i, index_i) in enumerate(zip(embedding_vocab, embedding_vocab_idx)):\n",
        "        position_i = embeddings[index_i, :]\n",
        "        # make words semi-transparent for easier browsing\n",
        "        ax.annotate(word_i, position_i, color=(0.,0.,0.,0.8))\n",
        "    plt.show()"
      ],
      "execution_count": null,
      "outputs": []
    },
    {
      "cell_type": "code",
      "metadata": {
        "scrolled": true,
        "id": "Ij0bKD4IdI33",
        "colab": {
          "base_uri": "https://localhost:8080/",
          "height": 374
        },
        "outputId": "7b3f0e97-5df1-490b-99fc-a05beaf1a384"
      },
      "source": [
        "# plot real news embeddings\n",
        "plot_embeddings(real_news_word2vec_mini_embeds, top_k_plot_words, real_news_word2vec_vocab_idx)"
      ],
      "execution_count": null,
      "outputs": [
        {
          "output_type": "display_data",
          "data": {
            "image/png": "[encoded data removed]",
            "text/plain": [
              "<Figure size 720x432 with 1 Axes>"
            ]
          },
          "metadata": {
            "tags": [],
            "needs_background": "light"
          }
        }
      ]
    },
    {
      "cell_type": "markdown",
      "metadata": {
        "id": "4EA26Wz_dI35"
      },
      "source": [
        "In real news articles, the politicians tend to cluster together (`Obama`, `Clinton`, `Donald`) while the more America-related words form a different cluster (`American`, `United`)."
      ]
    },
    {
      "cell_type": "code",
      "metadata": {
        "id": "VAvrQ9LMdI35",
        "colab": {
          "base_uri": "https://localhost:8080/",
          "height": 374
        },
        "outputId": "07b88c1c-d553-4206-9156-0c74e62d1c3d"
      },
      "source": [
        "# plot real news embeddings\n",
        "plot_embeddings(fake_news_word2vec_mini_embeds, top_k_plot_words, fake_news_word2vec_vocab_idx)"
      ],
      "execution_count": null,
      "outputs": [
        {
          "output_type": "display_data",
          "data": {
            "image/png": "[encoded data removed]",
            "text/plain": [
              "<Figure size 720x432 with 1 Axes>"
            ]
          },
          "metadata": {
            "tags": [],
            "needs_background": "light"
          }
        }
      ]
    },
    {
      "cell_type": "markdown",
      "metadata": {
        "id": "rC_kUNksdI37"
      },
      "source": [
        "In fake news articles, we see a much more skewed distribution. \n",
        "\n",
        "The politicia names no longer appear as clearly clustered (`Donald` outside of main \"blob\"), and some words appear more \"extreme\" in their use (`country`, `people`, `government`). \n",
        "\n",
        "The \"subjective\" words that we noted in the topic analysis (`think`, `know`) seem to form their own cluster as well."
      ]
    },
    {
      "cell_type": "markdown",
      "metadata": {
        "id": "QHhffW3VdI38"
      },
      "source": [
        "### Exploration\n",
        "Now it's time for you to try out some more tests with word embeddings!\n",
        "\n",
        "- Increasing the **window size** when training embeddings can help the embeddings capture more global context (e.g. associating `tomato` with cooking details from the wider sentence context). How would this help capture divides between fake news and real news?\n",
        "- One way to determine the **connotation** of a word in embedding space is to look at its proximity to positive and negative words: e.g. if `Barack` is consistently closer to words like `bad` and `terrible` than to `good` and `nice`. Can you come up with a way to test word connotations using this kind of approach, and determine whether some words have consistently better or worse connotations in fake news articles?\n",
        "- Another useful aspect of word embeddings is their tendency to **cluster** words into general semantic fields, e.g. grouping all politician names near one another. Using the visualization technique from above, try to find words that (1) consistently fall into neat clusters and (2) sometimes appear outside of the expected clusters in the data. Which political and organizational words tend to be represented outside of their expected cluster, and why do you think that happens? "
      ]
    },
    {
      "cell_type": "code",
      "metadata": {
        "id": "Vkx2KQNXncQL"
      },
      "source": [
        ""
      ],
      "execution_count": null,
      "outputs": []
    }
  ]
}